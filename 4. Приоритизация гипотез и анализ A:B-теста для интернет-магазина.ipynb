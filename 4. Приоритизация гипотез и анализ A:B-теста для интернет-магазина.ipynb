{
 "cells": [
  {
   "cell_type": "markdown",
   "metadata": {},
   "source": [
    "#  Приоритизация гипотез и анализ A/B-теста для интернет-магазина"
   ]
  },
  {
   "cell_type": "markdown",
   "metadata": {},
   "source": [
    "### Описание проекта\n",
    "Задача: дан список гипотез для увеличения выручки, подготовленных совместно с отделом маркетинга.  \n",
    "Требуется:\n",
    "-\tприоритизировать гипотезы,\n",
    "- запустить A/B-тест,\n",
    "- проанализировать результаты.\n",
    "\n"
   ]
  },
  {
   "cell_type": "markdown",
   "metadata": {},
   "source": [
    "## Содержание\n",
    "- [Библиотеки](#libraries)  \n",
    "- [1. Знакомство с данными ](#dataintro)  \n",
    "- [2. Предобработка данных](#datacleaning)    \n",
    "- [3. Работа с данными](#analysis)\n",
    "    - [3.1. Часть 1. Приоретизация гипотез](#part1)\n",
    "    - [3.2. Часть 2. Анализ A/B-теста](#part2)\n",
    "- [4. Общий вывод](#conclusion)"
   ]
  },
  {
   "cell_type": "markdown",
   "metadata": {},
   "source": [
    "### Библиотеки <a name=\"libraries\"></a>"
   ]
  },
  {
   "cell_type": "code",
   "execution_count": 1,
   "metadata": {},
   "outputs": [],
   "source": [
    "# Импорт нужных библиотек\n",
    "import pandas as pd\n",
    "import matplotlib.pyplot as plt \n",
    "from math import factorial \n",
    "from scipy import stats as st \n",
    "import scipy.stats as stats\n",
    "import numpy as np  "
   ]
  },
  {
   "cell_type": "markdown",
   "metadata": {},
   "source": [
    "## 1. Знакомство с данными <a name=\"dataintro\"></a>"
   ]
  },
  {
   "cell_type": "markdown",
   "metadata": {},
   "source": [
    "#### Описание данных\n",
    "Файл /datasets/hypothesis.csv содержит следующие данные:\n",
    "- Hypothesis — краткое описание гипотезы;\n",
    "- Reach — охват пользователей по 10-балльной шкале;\n",
    "- Impact — влияние на пользователей по 10-балльной шкале;\n",
    "- Confidence — уверенность в гипотезе по 10-балльной шкале;\n",
    "- Efforts — затраты ресурсов на проверку гипотезы по 10-балльной шкале. Чем больше значение Efforts, тем дороже проверка гипотезы.\n",
    "\n",
    "Файл /datasets/orders.csv содержит следующие данные:\n",
    "- transactionId — идентификатор заказа;\n",
    "- visitorId — идентификатор пользователя, совершившего заказ;\n",
    "- date — дата, когда был совершён заказ;\n",
    "- revenue — выручка заказа;\n",
    "- group — группа A/B-теста, в которую попал заказ.\n",
    "\n",
    "Файл /datasets/visitors.csv содержит следующие данные:\n",
    "- date — дата;\n",
    "- group — группа A/B-теста;\n",
    "- visitors — количество пользователей в указанную дату в указанной группе A/B-теста"
   ]
  },
  {
   "cell_type": "code",
   "execution_count": 2,
   "metadata": {},
   "outputs": [],
   "source": [
    "# создадим функцию, которая выводит название датасета, его info, количество пропусков в каждом столбце и число дублирующихся строк\n",
    "def info_nans_doubles(df):\n",
    "    name =[x for x in globals() if globals()[x] is df][0] # вытаскиваем наименование датафрейма\n",
    "    print('Информация о датафрейме {}\\n'.format(name))\n",
    "    print(df.info())\n",
    "    print('--------------------------------------------')\n",
    "    for i in df.columns:\n",
    "        print('Число пропущенных значений в столбце ', i, ' = ', df[i].isnull().sum())\n",
    "    print('--------------------------------------------')\n",
    "    print('Число дубликатов в датафрейме {}'.format(name), df.duplicated().sum())"
   ]
  },
  {
   "cell_type": "code",
   "execution_count": 3,
   "metadata": {
    "scrolled": true
   },
   "outputs": [
    {
     "data": {
      "text/html": [
       "<div>\n",
       "<style scoped>\n",
       "    .dataframe tbody tr th:only-of-type {\n",
       "        vertical-align: middle;\n",
       "    }\n",
       "\n",
       "    .dataframe tbody tr th {\n",
       "        vertical-align: top;\n",
       "    }\n",
       "\n",
       "    .dataframe thead th {\n",
       "        text-align: right;\n",
       "    }\n",
       "</style>\n",
       "<table border=\"1\" class=\"dataframe\">\n",
       "  <thead>\n",
       "    <tr style=\"text-align: right;\">\n",
       "      <th></th>\n",
       "      <th>Hypothesis</th>\n",
       "      <th>Reach</th>\n",
       "      <th>Impact</th>\n",
       "      <th>Confidence</th>\n",
       "      <th>Efforts</th>\n",
       "    </tr>\n",
       "  </thead>\n",
       "  <tbody>\n",
       "    <tr>\n",
       "      <td>4</td>\n",
       "      <td>Изменить цвет фона главной страницы, чтобы уве...</td>\n",
       "      <td>3</td>\n",
       "      <td>1</td>\n",
       "      <td>1</td>\n",
       "      <td>1</td>\n",
       "    </tr>\n",
       "    <tr>\n",
       "      <td>7</td>\n",
       "      <td>Добавить форму подписки на все основные страни...</td>\n",
       "      <td>10</td>\n",
       "      <td>7</td>\n",
       "      <td>8</td>\n",
       "      <td>5</td>\n",
       "    </tr>\n",
       "    <tr>\n",
       "      <td>6</td>\n",
       "      <td>Показать на главной странице баннеры с актуаль...</td>\n",
       "      <td>5</td>\n",
       "      <td>3</td>\n",
       "      <td>8</td>\n",
       "      <td>3</td>\n",
       "    </tr>\n",
       "    <tr>\n",
       "      <td>1</td>\n",
       "      <td>Запустить собственную службу доставки, что сок...</td>\n",
       "      <td>2</td>\n",
       "      <td>5</td>\n",
       "      <td>4</td>\n",
       "      <td>10</td>\n",
       "    </tr>\n",
       "    <tr>\n",
       "      <td>8</td>\n",
       "      <td>Запустить акцию, дающую скидку на товар в день...</td>\n",
       "      <td>1</td>\n",
       "      <td>9</td>\n",
       "      <td>9</td>\n",
       "      <td>5</td>\n",
       "    </tr>\n",
       "  </tbody>\n",
       "</table>\n",
       "</div>"
      ],
      "text/plain": [
       "                                          Hypothesis  Reach  Impact  \\\n",
       "4  Изменить цвет фона главной страницы, чтобы уве...      3       1   \n",
       "7  Добавить форму подписки на все основные страни...     10       7   \n",
       "6  Показать на главной странице баннеры с актуаль...      5       3   \n",
       "1  Запустить собственную службу доставки, что сок...      2       5   \n",
       "8  Запустить акцию, дающую скидку на товар в день...      1       9   \n",
       "\n",
       "   Confidence  Efforts  \n",
       "4           1        1  \n",
       "7           8        5  \n",
       "6           8        3  \n",
       "1           4       10  \n",
       "8           9        5  "
      ]
     },
     "execution_count": 3,
     "metadata": {},
     "output_type": "execute_result"
    }
   ],
   "source": [
    "# читаем файлы и знакомимся с ними по 5 случайным строкам\n",
    "hypothesis = pd.read_csv('/datasets/hypothesis.csv')\n",
    "hypothesis.sample(5)"
   ]
  },
  {
   "cell_type": "code",
   "execution_count": 4,
   "metadata": {},
   "outputs": [
    {
     "name": "stdout",
     "output_type": "stream",
     "text": [
      "Информация о датафрейме hypothesis\n",
      "\n",
      "<class 'pandas.core.frame.DataFrame'>\n",
      "RangeIndex: 9 entries, 0 to 8\n",
      "Data columns (total 5 columns):\n",
      "Hypothesis    9 non-null object\n",
      "Reach         9 non-null int64\n",
      "Impact        9 non-null int64\n",
      "Confidence    9 non-null int64\n",
      "Efforts       9 non-null int64\n",
      "dtypes: int64(4), object(1)\n",
      "memory usage: 488.0+ bytes\n",
      "None\n",
      "--------------------------------------------\n",
      "Число пропущенных значений в столбце  Hypothesis  =  0\n",
      "Число пропущенных значений в столбце  Reach  =  0\n",
      "Число пропущенных значений в столбце  Impact  =  0\n",
      "Число пропущенных значений в столбце  Confidence  =  0\n",
      "Число пропущенных значений в столбце  Efforts  =  0\n",
      "--------------------------------------------\n",
      "Число дубликатов в датафрейме hypothesis 0\n"
     ]
    }
   ],
   "source": [
    "# применяя функцию info_nans_doubles, изучаем информацию о таблице\n",
    "info_nans_doubles(hypothesis)"
   ]
  },
  {
   "cell_type": "code",
   "execution_count": 5,
   "metadata": {},
   "outputs": [
    {
     "data": {
      "text/html": [
       "<div>\n",
       "<style scoped>\n",
       "    .dataframe tbody tr th:only-of-type {\n",
       "        vertical-align: middle;\n",
       "    }\n",
       "\n",
       "    .dataframe tbody tr th {\n",
       "        vertical-align: top;\n",
       "    }\n",
       "\n",
       "    .dataframe thead th {\n",
       "        text-align: right;\n",
       "    }\n",
       "</style>\n",
       "<table border=\"1\" class=\"dataframe\">\n",
       "  <thead>\n",
       "    <tr style=\"text-align: right;\">\n",
       "      <th></th>\n",
       "      <th>transactionId</th>\n",
       "      <th>visitorId</th>\n",
       "      <th>date</th>\n",
       "      <th>revenue</th>\n",
       "      <th>group</th>\n",
       "    </tr>\n",
       "  </thead>\n",
       "  <tbody>\n",
       "    <tr>\n",
       "      <td>1159</td>\n",
       "      <td>29438557</td>\n",
       "      <td>1637811943</td>\n",
       "      <td>2019-08-14</td>\n",
       "      <td>3470</td>\n",
       "      <td>B</td>\n",
       "    </tr>\n",
       "    <tr>\n",
       "      <td>536</td>\n",
       "      <td>3925488023</td>\n",
       "      <td>3984495233</td>\n",
       "      <td>2019-08-04</td>\n",
       "      <td>20219</td>\n",
       "      <td>A</td>\n",
       "    </tr>\n",
       "    <tr>\n",
       "      <td>1190</td>\n",
       "      <td>38478481</td>\n",
       "      <td>1197745035</td>\n",
       "      <td>2019-08-14</td>\n",
       "      <td>8600</td>\n",
       "      <td>B</td>\n",
       "    </tr>\n",
       "    <tr>\n",
       "      <td>745</td>\n",
       "      <td>648682471</td>\n",
       "      <td>2633052872</td>\n",
       "      <td>2019-08-27</td>\n",
       "      <td>4900</td>\n",
       "      <td>A</td>\n",
       "    </tr>\n",
       "    <tr>\n",
       "      <td>597</td>\n",
       "      <td>831316805</td>\n",
       "      <td>3511617963</td>\n",
       "      <td>2019-08-26</td>\n",
       "      <td>7995</td>\n",
       "      <td>B</td>\n",
       "    </tr>\n",
       "  </tbody>\n",
       "</table>\n",
       "</div>"
      ],
      "text/plain": [
       "      transactionId   visitorId        date  revenue group\n",
       "1159       29438557  1637811943  2019-08-14     3470     B\n",
       "536      3925488023  3984495233  2019-08-04    20219     A\n",
       "1190       38478481  1197745035  2019-08-14     8600     B\n",
       "745       648682471  2633052872  2019-08-27     4900     A\n",
       "597       831316805  3511617963  2019-08-26     7995     B"
      ]
     },
     "execution_count": 5,
     "metadata": {},
     "output_type": "execute_result"
    }
   ],
   "source": [
    "orders = pd.read_csv('/datasets/orders.csv')\n",
    "orders.sample(5)"
   ]
  },
  {
   "cell_type": "code",
   "execution_count": 6,
   "metadata": {},
   "outputs": [
    {
     "name": "stdout",
     "output_type": "stream",
     "text": [
      "Информация о датафрейме orders\n",
      "\n",
      "<class 'pandas.core.frame.DataFrame'>\n",
      "RangeIndex: 1197 entries, 0 to 1196\n",
      "Data columns (total 5 columns):\n",
      "transactionId    1197 non-null int64\n",
      "visitorId        1197 non-null int64\n",
      "date             1197 non-null object\n",
      "revenue          1197 non-null int64\n",
      "group            1197 non-null object\n",
      "dtypes: int64(3), object(2)\n",
      "memory usage: 46.9+ KB\n",
      "None\n",
      "--------------------------------------------\n",
      "Число пропущенных значений в столбце  transactionId  =  0\n",
      "Число пропущенных значений в столбце  visitorId  =  0\n",
      "Число пропущенных значений в столбце  date  =  0\n",
      "Число пропущенных значений в столбце  revenue  =  0\n",
      "Число пропущенных значений в столбце  group  =  0\n",
      "--------------------------------------------\n",
      "Число дубликатов в датафрейме orders 0\n"
     ]
    }
   ],
   "source": [
    "# применяя функцию info_nans_doubles, изучаем информацию о таблице\n",
    "info_nans_doubles(orders)"
   ]
  },
  {
   "cell_type": "code",
   "execution_count": 7,
   "metadata": {},
   "outputs": [
    {
     "data": {
      "text/html": [
       "<div>\n",
       "<style scoped>\n",
       "    .dataframe tbody tr th:only-of-type {\n",
       "        vertical-align: middle;\n",
       "    }\n",
       "\n",
       "    .dataframe tbody tr th {\n",
       "        vertical-align: top;\n",
       "    }\n",
       "\n",
       "    .dataframe thead th {\n",
       "        text-align: right;\n",
       "    }\n",
       "</style>\n",
       "<table border=\"1\" class=\"dataframe\">\n",
       "  <thead>\n",
       "    <tr style=\"text-align: right;\">\n",
       "      <th></th>\n",
       "      <th>date</th>\n",
       "      <th>group</th>\n",
       "      <th>visitors</th>\n",
       "    </tr>\n",
       "  </thead>\n",
       "  <tbody>\n",
       "    <tr>\n",
       "      <td>42</td>\n",
       "      <td>2019-08-12</td>\n",
       "      <td>B</td>\n",
       "      <td>543</td>\n",
       "    </tr>\n",
       "    <tr>\n",
       "      <td>13</td>\n",
       "      <td>2019-08-14</td>\n",
       "      <td>A</td>\n",
       "      <td>735</td>\n",
       "    </tr>\n",
       "    <tr>\n",
       "      <td>38</td>\n",
       "      <td>2019-08-08</td>\n",
       "      <td>B</td>\n",
       "      <td>654</td>\n",
       "    </tr>\n",
       "    <tr>\n",
       "      <td>6</td>\n",
       "      <td>2019-08-07</td>\n",
       "      <td>A</td>\n",
       "      <td>644</td>\n",
       "    </tr>\n",
       "    <tr>\n",
       "      <td>30</td>\n",
       "      <td>2019-08-31</td>\n",
       "      <td>A</td>\n",
       "      <td>699</td>\n",
       "    </tr>\n",
       "  </tbody>\n",
       "</table>\n",
       "</div>"
      ],
      "text/plain": [
       "          date group  visitors\n",
       "42  2019-08-12     B       543\n",
       "13  2019-08-14     A       735\n",
       "38  2019-08-08     B       654\n",
       "6   2019-08-07     A       644\n",
       "30  2019-08-31     A       699"
      ]
     },
     "execution_count": 7,
     "metadata": {},
     "output_type": "execute_result"
    }
   ],
   "source": [
    "visitors = pd.read_csv('/datasets/visitors.csv')\n",
    "visitors.sample(5)"
   ]
  },
  {
   "cell_type": "code",
   "execution_count": 8,
   "metadata": {},
   "outputs": [
    {
     "name": "stdout",
     "output_type": "stream",
     "text": [
      "Информация о датафрейме visitors\n",
      "\n",
      "<class 'pandas.core.frame.DataFrame'>\n",
      "RangeIndex: 62 entries, 0 to 61\n",
      "Data columns (total 3 columns):\n",
      "date        62 non-null object\n",
      "group       62 non-null object\n",
      "visitors    62 non-null int64\n",
      "dtypes: int64(1), object(2)\n",
      "memory usage: 1.6+ KB\n",
      "None\n",
      "--------------------------------------------\n",
      "Число пропущенных значений в столбце  date  =  0\n",
      "Число пропущенных значений в столбце  group  =  0\n",
      "Число пропущенных значений в столбце  visitors  =  0\n",
      "--------------------------------------------\n",
      "Число дубликатов в датафрейме visitors 0\n"
     ]
    }
   ],
   "source": [
    "# применяя функцию info_nans_doubles, изучаем информацию о таблице\n",
    "info_nans_doubles(visitors)"
   ]
  },
  {
   "cell_type": "markdown",
   "metadata": {},
   "source": [
    "### Вывод\n",
    "Необходимо в датафрейме hypothesis привести названия столбцов к строчному виду.  \n",
    "В остальном предобработка не требуется."
   ]
  },
  {
   "cell_type": "markdown",
   "metadata": {},
   "source": [
    "## 2. Предобработка данных <a name=\"datacleaning\"></a>"
   ]
  },
  {
   "cell_type": "code",
   "execution_count": 9,
   "metadata": {},
   "outputs": [],
   "source": [
    "#приведем названия столбцов к строчному виду в hypothesis\n",
    "hypothesis.columns = hypothesis.columns.str.lower()"
   ]
  },
  {
   "cell_type": "markdown",
   "metadata": {},
   "source": [
    "# 3. Работа с данными <a name=\"analysis\"></a>"
   ]
  },
  {
   "cell_type": "markdown",
   "metadata": {},
   "source": [
    "## Часть 1. Приоритизация гипотез. <a name=\"part1\"></a>"
   ]
  },
  {
   "cell_type": "code",
   "execution_count": 10,
   "metadata": {},
   "outputs": [
    {
     "data": {
      "text/html": [
       "<div>\n",
       "<style scoped>\n",
       "    .dataframe tbody tr th:only-of-type {\n",
       "        vertical-align: middle;\n",
       "    }\n",
       "\n",
       "    .dataframe tbody tr th {\n",
       "        vertical-align: top;\n",
       "    }\n",
       "\n",
       "    .dataframe thead th {\n",
       "        text-align: right;\n",
       "    }\n",
       "</style>\n",
       "<table border=\"1\" class=\"dataframe\">\n",
       "  <thead>\n",
       "    <tr style=\"text-align: right;\">\n",
       "      <th></th>\n",
       "      <th>hypothesis</th>\n",
       "      <th>ICE</th>\n",
       "    </tr>\n",
       "  </thead>\n",
       "  <tbody>\n",
       "    <tr>\n",
       "      <td>8</td>\n",
       "      <td>Запустить акцию, дающую скидку на товар в день...</td>\n",
       "      <td>16.200000</td>\n",
       "    </tr>\n",
       "    <tr>\n",
       "      <td>0</td>\n",
       "      <td>Добавить два новых канала привлечения трафика,...</td>\n",
       "      <td>13.333333</td>\n",
       "    </tr>\n",
       "    <tr>\n",
       "      <td>7</td>\n",
       "      <td>Добавить форму подписки на все основные страни...</td>\n",
       "      <td>11.200000</td>\n",
       "    </tr>\n",
       "    <tr>\n",
       "      <td>6</td>\n",
       "      <td>Показать на главной странице баннеры с актуаль...</td>\n",
       "      <td>8.000000</td>\n",
       "    </tr>\n",
       "    <tr>\n",
       "      <td>2</td>\n",
       "      <td>Добавить блоки рекомендаций товаров на сайт ин...</td>\n",
       "      <td>7.000000</td>\n",
       "    </tr>\n",
       "    <tr>\n",
       "      <td>1</td>\n",
       "      <td>Запустить собственную службу доставки, что сок...</td>\n",
       "      <td>2.000000</td>\n",
       "    </tr>\n",
       "    <tr>\n",
       "      <td>5</td>\n",
       "      <td>Добавить страницу отзывов клиентов о магазине,...</td>\n",
       "      <td>1.333333</td>\n",
       "    </tr>\n",
       "    <tr>\n",
       "      <td>3</td>\n",
       "      <td>Изменить структура категорий, что увеличит кон...</td>\n",
       "      <td>1.125000</td>\n",
       "    </tr>\n",
       "    <tr>\n",
       "      <td>4</td>\n",
       "      <td>Изменить цвет фона главной страницы, чтобы уве...</td>\n",
       "      <td>1.000000</td>\n",
       "    </tr>\n",
       "  </tbody>\n",
       "</table>\n",
       "</div>"
      ],
      "text/plain": [
       "                                          hypothesis        ICE\n",
       "8  Запустить акцию, дающую скидку на товар в день...  16.200000\n",
       "0  Добавить два новых канала привлечения трафика,...  13.333333\n",
       "7  Добавить форму подписки на все основные страни...  11.200000\n",
       "6  Показать на главной странице баннеры с актуаль...   8.000000\n",
       "2  Добавить блоки рекомендаций товаров на сайт ин...   7.000000\n",
       "1  Запустить собственную службу доставки, что сок...   2.000000\n",
       "5  Добавить страницу отзывов клиентов о магазине,...   1.333333\n",
       "3  Изменить структура категорий, что увеличит кон...   1.125000\n",
       "4  Изменить цвет фона главной страницы, чтобы уве...   1.000000"
      ]
     },
     "execution_count": 10,
     "metadata": {},
     "output_type": "execute_result"
    }
   ],
   "source": [
    "# Применим фреймворк ICE для приоритизации гипотез\n",
    "hypothesis['ICE'] = hypothesis['impact'] * hypothesis['confidence'] / hypothesis['efforts']\n",
    "hypothesis[['hypothesis', 'ICE']].sort_values(by='ICE', ascending=False) #Отсортируем их по убыванию приоритета"
   ]
  },
  {
   "cell_type": "markdown",
   "metadata": {},
   "source": [
    "Наиболее перспективные гипотезы по ICE: 8, 0, 7, 6.\n"
   ]
  },
  {
   "cell_type": "code",
   "execution_count": 11,
   "metadata": {},
   "outputs": [
    {
     "data": {
      "text/html": [
       "<div>\n",
       "<style scoped>\n",
       "    .dataframe tbody tr th:only-of-type {\n",
       "        vertical-align: middle;\n",
       "    }\n",
       "\n",
       "    .dataframe tbody tr th {\n",
       "        vertical-align: top;\n",
       "    }\n",
       "\n",
       "    .dataframe thead th {\n",
       "        text-align: right;\n",
       "    }\n",
       "</style>\n",
       "<table border=\"1\" class=\"dataframe\">\n",
       "  <thead>\n",
       "    <tr style=\"text-align: right;\">\n",
       "      <th></th>\n",
       "      <th>hypothesis</th>\n",
       "      <th>RICE</th>\n",
       "    </tr>\n",
       "  </thead>\n",
       "  <tbody>\n",
       "    <tr>\n",
       "      <td>7</td>\n",
       "      <td>Добавить форму подписки на все основные страни...</td>\n",
       "      <td>112.0</td>\n",
       "    </tr>\n",
       "    <tr>\n",
       "      <td>2</td>\n",
       "      <td>Добавить блоки рекомендаций товаров на сайт ин...</td>\n",
       "      <td>56.0</td>\n",
       "    </tr>\n",
       "    <tr>\n",
       "      <td>0</td>\n",
       "      <td>Добавить два новых канала привлечения трафика,...</td>\n",
       "      <td>40.0</td>\n",
       "    </tr>\n",
       "    <tr>\n",
       "      <td>6</td>\n",
       "      <td>Показать на главной странице баннеры с актуаль...</td>\n",
       "      <td>40.0</td>\n",
       "    </tr>\n",
       "    <tr>\n",
       "      <td>8</td>\n",
       "      <td>Запустить акцию, дающую скидку на товар в день...</td>\n",
       "      <td>16.2</td>\n",
       "    </tr>\n",
       "    <tr>\n",
       "      <td>3</td>\n",
       "      <td>Изменить структура категорий, что увеличит кон...</td>\n",
       "      <td>9.0</td>\n",
       "    </tr>\n",
       "    <tr>\n",
       "      <td>1</td>\n",
       "      <td>Запустить собственную службу доставки, что сок...</td>\n",
       "      <td>4.0</td>\n",
       "    </tr>\n",
       "    <tr>\n",
       "      <td>5</td>\n",
       "      <td>Добавить страницу отзывов клиентов о магазине,...</td>\n",
       "      <td>4.0</td>\n",
       "    </tr>\n",
       "    <tr>\n",
       "      <td>4</td>\n",
       "      <td>Изменить цвет фона главной страницы, чтобы уве...</td>\n",
       "      <td>3.0</td>\n",
       "    </tr>\n",
       "  </tbody>\n",
       "</table>\n",
       "</div>"
      ],
      "text/plain": [
       "                                          hypothesis   RICE\n",
       "7  Добавить форму подписки на все основные страни...  112.0\n",
       "2  Добавить блоки рекомендаций товаров на сайт ин...   56.0\n",
       "0  Добавить два новых канала привлечения трафика,...   40.0\n",
       "6  Показать на главной странице баннеры с актуаль...   40.0\n",
       "8  Запустить акцию, дающую скидку на товар в день...   16.2\n",
       "3  Изменить структура категорий, что увеличит кон...    9.0\n",
       "1  Запустить собственную службу доставки, что сок...    4.0\n",
       "5  Добавить страницу отзывов клиентов о магазине,...    4.0\n",
       "4  Изменить цвет фона главной страницы, чтобы уве...    3.0"
      ]
     },
     "execution_count": 11,
     "metadata": {},
     "output_type": "execute_result"
    }
   ],
   "source": [
    "# Применим фреймворк RICE для приоритизации гипотез\n",
    "hypothesis['RICE'] = hypothesis['reach'] * hypothesis['impact'] * hypothesis['confidence'] / hypothesis['efforts']\n",
    "hypothesis[['hypothesis','RICE']].sort_values(by='RICE', ascending=False) #Отсортируем их по убыванию приоритета"
   ]
  },
  {
   "cell_type": "markdown",
   "metadata": {},
   "source": [
    "Наиболее перспективные гипотезы по RICE: 7, 2, 0, 6."
   ]
  },
  {
   "cell_type": "code",
   "execution_count": 12,
   "metadata": {},
   "outputs": [
    {
     "name": "stdout",
     "output_type": "stream",
     "text": [
      "Добавить форму подписки на все основные страницы, чтобы собрать базу клиентов для email-рассылок\n",
      "Добавить два новых канала привлечения трафика, что позволит привлекать на 30% больше пользователей\n"
     ]
    }
   ],
   "source": [
    "# напечатаем формулировки выбранных гипотез\n",
    "print(hypothesis['hypothesis'][7])\n",
    "print(hypothesis['hypothesis'][0])"
   ]
  },
  {
   "cell_type": "markdown",
   "metadata": {},
   "source": [
    "## Вывод \n",
    "Наиболее перспективные гипотезы по RICE: **7, 2, 0**.  \n",
    "Наиболее перспективные гипотезы по ICE: **8, 0, 7**.  \n",
    "\n",
    "Отбросим гипотезу с индексом 8, так как, из-за ее низкого охвата, она не даст значимых результатов.  \n",
    "Гипотеза 2 не вошла в топ по ICE потому что, не смотря на высокий охват, ее влияние недостаточно велико.  \n",
    "\n",
    "Рекомендуемые для тестирования гипотезы (с индексами 7 и 0):  \n",
    "**- Добавить форму подписки на все основные страницы, чтобы собрать базу клиентов для email-рассылок**;  \n",
    "**- Добавить два новых канала привлечения трафика, что позволит привлекать на 30% больше пользователей**."
   ]
  },
  {
   "cell_type": "markdown",
   "metadata": {},
   "source": [
    "## Часть 2. Анализ A/B-теста <a name=\"part2\"></a>\n"
   ]
  },
  {
   "cell_type": "markdown",
   "metadata": {},
   "source": [
    "Проанализируем полученные результаты A/B-теста."
   ]
  },
  {
   "cell_type": "code",
   "execution_count": 13,
   "metadata": {},
   "outputs": [
    {
     "data": {
      "text/html": [
       "<div>\n",
       "<style scoped>\n",
       "    .dataframe tbody tr th:only-of-type {\n",
       "        vertical-align: middle;\n",
       "    }\n",
       "\n",
       "    .dataframe tbody tr th {\n",
       "        vertical-align: top;\n",
       "    }\n",
       "\n",
       "    .dataframe thead th {\n",
       "        text-align: right;\n",
       "    }\n",
       "</style>\n",
       "<table border=\"1\" class=\"dataframe\">\n",
       "  <thead>\n",
       "    <tr style=\"text-align: right;\">\n",
       "      <th></th>\n",
       "      <th>date</th>\n",
       "      <th>group</th>\n",
       "      <th>orders</th>\n",
       "      <th>buyers</th>\n",
       "      <th>revenue</th>\n",
       "      <th>visitors</th>\n",
       "    </tr>\n",
       "  </thead>\n",
       "  <tbody>\n",
       "    <tr>\n",
       "      <td>0</td>\n",
       "      <td>2019-08-01</td>\n",
       "      <td>A</td>\n",
       "      <td>24</td>\n",
       "      <td>20</td>\n",
       "      <td>148579</td>\n",
       "      <td>719</td>\n",
       "    </tr>\n",
       "    <tr>\n",
       "      <td>1</td>\n",
       "      <td>2019-08-01</td>\n",
       "      <td>B</td>\n",
       "      <td>21</td>\n",
       "      <td>20</td>\n",
       "      <td>101217</td>\n",
       "      <td>713</td>\n",
       "    </tr>\n",
       "    <tr>\n",
       "      <td>2</td>\n",
       "      <td>2019-08-02</td>\n",
       "      <td>A</td>\n",
       "      <td>44</td>\n",
       "      <td>38</td>\n",
       "      <td>242401</td>\n",
       "      <td>1338</td>\n",
       "    </tr>\n",
       "    <tr>\n",
       "      <td>3</td>\n",
       "      <td>2019-08-02</td>\n",
       "      <td>B</td>\n",
       "      <td>45</td>\n",
       "      <td>43</td>\n",
       "      <td>266748</td>\n",
       "      <td>1294</td>\n",
       "    </tr>\n",
       "    <tr>\n",
       "      <td>4</td>\n",
       "      <td>2019-08-03</td>\n",
       "      <td>A</td>\n",
       "      <td>68</td>\n",
       "      <td>62</td>\n",
       "      <td>354874</td>\n",
       "      <td>1845</td>\n",
       "    </tr>\n",
       "  </tbody>\n",
       "</table>\n",
       "</div>"
      ],
      "text/plain": [
       "         date group  orders  buyers  revenue  visitors\n",
       "0  2019-08-01     A      24      20   148579       719\n",
       "1  2019-08-01     B      21      20   101217       713\n",
       "2  2019-08-02     A      44      38   242401      1338\n",
       "3  2019-08-02     B      45      43   266748      1294\n",
       "4  2019-08-03     A      68      62   354874      1845"
      ]
     },
     "execution_count": 13,
     "metadata": {},
     "output_type": "execute_result"
    }
   ],
   "source": [
    "# Создадим таблицу с аккумулированными по дням и тестовым группам данными о посетителях, покупателях и покупках.\n",
    "\n",
    "# создаем массив уникальных пар значений дат и групп теста:\n",
    "datesGroups = orders[['date','group']].drop_duplicates()\n",
    "\n",
    "# получим агрегированные кумулятивные по дням данные о покупателях и покупах:\n",
    "orders_aggregated = datesGroups.apply(lambda x: orders[np.logical_and(orders['date'] <= x['date'], \n",
    "                                                                     orders['group'] == x['group'])]\\\n",
    ".agg({'date':'max', 'group':'max', 'transactionId':'nunique', 'visitorId':'nunique', 'revenue':'sum'}), axis=1)\\\n",
    ".sort_values(by=['date','group'])\n",
    "\n",
    "# Аналогично, получим агрегированные кумулятивные по дням данные о посетителях:\n",
    "visitors_aggregated = datesGroups.apply(lambda x: visitors[np.logical_and(visitors['date'] <= x['date'], \n",
    "                                                                          visitors['group'] == x['group'])]\\\n",
    "                                        .agg({'date' : 'max', 'group' : 'max', 'visitors' : 'sum'}), axis=1)\\\n",
    "                                        .sort_values(by=['date','group'])\n",
    "\n",
    "# объединим кумулятивные данные в одной таблице и присваивоим ее столбцам понятные названия:\n",
    "cummulative_data = orders_aggregated.merge(visitors_aggregated, left_on=['date','group'], right_on=['date','group'])\n",
    "cummulative_data.columns = ['date', 'group', 'orders', 'buyers', 'revenue', 'visitors']\n",
    "\n",
    "cummulative_data.head()"
   ]
  },
  {
   "cell_type": "code",
   "execution_count": 14,
   "metadata": {},
   "outputs": [
    {
     "data": {
      "image/png": "[encoded data removed]",
      "text/plain": [
       "<Figure size 936x360 with 1 Axes>"
      ]
     },
     "metadata": {
      "needs_background": "light"
     },
     "output_type": "display_data"
    }
   ],
   "source": [
    "# Построим графики кумулятивной выручки по дням и группам A/B-тестирования:\n",
    "\n",
    "# датафрейм с кумулятивным количеством заказов и кумулятивной выручкой по дням в группе А\n",
    "a_cum_rev = cummulative_data[cummulative_data['group']=='A'][['date','revenue', 'orders']]\n",
    "# датафрейм с кумулятивным количеством заказов и кумулятивной выручкой по дням в группе B\n",
    "b_cum_rev = cummulative_data[cummulative_data['group']=='B'][['date','revenue', 'orders']]\n",
    "\n",
    "# Строим график\n",
    "figure, ax = plt.subplots(figsize=(13, 5))\n",
    "ax.plot(a_cum_rev['date'], a_cum_rev['revenue'], label='A') # график выручки группы А\n",
    "ax.plot(b_cum_rev['date'], b_cum_rev['revenue'], label='B') # график выручки группы B\n",
    "ax.set_title('Кумулятивная выручка по дням и группам A/B-тестирования', fontsize='15')\n",
    "ax.set_xticklabels(cummulative_data['date'], rotation=60) # вертим даты по оси x\n",
    "ax.set_ylabel('куммулятивная выручка, руб.')\n",
    "ax.grid(True)\n",
    "plt.legend(); # добавляем легенду"
   ]
  },
  {
   "cell_type": "markdown",
   "metadata": {},
   "source": [
    "Выручка почти равномерно увеличивается в течение всего теста. \n",
    "\n",
    "Видим, что после 3 августа куммулятивная выручка в группе B стала превосходить выручку группы А.  \n",
    "К 7 августа их показатели сравнялись из-за рывка в группе A в течение 6-7 августа. Однако после этого скачки в росте выручки группы B (в особенности произошедший 9 августа) закрепили превосходство показателя группы B. Это может сигнализировать о всплесках числа заказов, либо о появлении очень дорогих заказов в выборке. "
   ]
  },
  {
   "cell_type": "code",
   "execution_count": 15,
   "metadata": {},
   "outputs": [
    {
     "data": {
      "image/png": "[encoded data removed]",
      "text/plain": [
       "<Figure size 936x360 with 1 Axes>"
      ]
     },
     "metadata": {
      "needs_background": "light"
     },
     "output_type": "display_data"
    }
   ],
   "source": [
    "# Построим график кумулятивного среднего чека по группам\n",
    "figure, ax = plt.subplots(figsize=(13, 5))\n",
    "ax.set_title('Кумулятивный средний чек по дням и группам A/B-тестирования', fontsize=15)\n",
    "ax.plot(a_cum_rev['date'], a_cum_rev['revenue']/a_cum_rev['orders'], label='A')\n",
    "ax.plot(b_cum_rev['date'], b_cum_rev['revenue']/b_cum_rev['orders'], label='B')\n",
    "ax.set_xticklabels(cummulative_data['date'], rotation=60)\n",
    "ax.set_ylabel('куммулятивный средний чек, руб.')\n",
    "ax.grid(True)\n",
    "ax.legend();"
   ]
  },
  {
   "cell_type": "markdown",
   "metadata": {},
   "source": [
    "Средний чек в обеих группах колеблется и растет до 7-9 августа.  \n",
    "Для **группы A** средний чек более или менее установился после 7 августа в районе около 7,000 руб., дальнейшие колебания не сильные.  \n",
    "*9 августа* в **группе B** произошел резкий скачок показателя, после этого он стал немного снижаться, хотя куммулятивная метрика осталась выше, чем у группы А. Возможно, в группу B в этот день попали крупные заказы. Тогда ей нужно больше данных, чтобы прийти к реальному среднему чеку и установиться на его уровне."
   ]
  },
  {
   "cell_type": "code",
   "execution_count": 16,
   "metadata": {},
   "outputs": [
    {
     "data": {
      "image/png": "[encoded data removed]",
      "text/plain": [
       "<Figure size 936x360 with 1 Axes>"
      ]
     },
     "metadata": {
      "needs_background": "light"
     },
     "output_type": "display_data"
    }
   ],
   "source": [
    "# Построим график относительного изменения кумулятивного среднего чека группы B к группе A\n",
    "\n",
    "# собираем данные в одном датафрейме\n",
    "merged_cum_rev = a_cum_rev.merge(b_cum_rev, left_on='date', right_on='date', how='left', suffixes=['_A', '_B'])\n",
    "\n",
    "# строим отношение средних чеков\n",
    "fig, ax = plt.subplots(figsize=(13,5))\n",
    "ax.plot(merged_cum_rev['date'], (merged_cum_rev['revenue_B']/merged_cum_rev['orders_B'])/\\\n",
    "                                 (merged_cum_rev['revenue_A']/merged_cum_rev['orders_A'])-1)\n",
    "ax.set_title('Относительное раздичие кумулятивного среднего чека группы B к группе A', fontsize=15)\n",
    "ax.set_xticklabels(cummulative_data['date'], rotation=60)\n",
    "ax.axhline(y=0, color='grey', linestyle='--'); # добавляем ось X"
   ]
  },
  {
   "cell_type": "markdown",
   "metadata": {},
   "source": [
    "Видим, что относительная разница среднего чека со второго дня эксперемента была на стороне группы B, за исключением периода между 5 и 9 августа. Опять же виден скачок 9 августа."
   ]
  },
  {
   "cell_type": "code",
   "execution_count": 17,
   "metadata": {},
   "outputs": [
    {
     "data": {
      "image/png": "[encoded data removed]",
      "text/plain": [
       "<Figure size 936x360 with 1 Axes>"
      ]
     },
     "metadata": {
      "needs_background": "light"
     },
     "output_type": "display_data"
    }
   ],
   "source": [
    "# Построим график кумулятивной конверсии по группам\n",
    "\n",
    "# считаем кумулятивную конверсию\n",
    "cummulative_data['conversion'] = cummulative_data['orders']/cummulative_data['visitors']\n",
    "# отделяем данные по группе A\n",
    "a_cum_data = cummulative_data[cummulative_data['group']=='A']\n",
    "# отделяем данные по группе B\n",
    "b_cum_data = cummulative_data[cummulative_data['group']=='B']\n",
    "\n",
    "# строим графики\n",
    "fig, ax = plt.subplots(figsize=(13,5))\n",
    "ax.plot(a_cum_data['date'], a_cum_data['conversion'], label='A')\n",
    "ax.plot(b_cum_data['date'], b_cum_data['conversion'], label='B')\n",
    "ax.set_title('Кумулятивная конверся по дням и группам A/B-тестирования', fontsize=15)\n",
    "ax.set_xticklabels(cummulative_data['date'], rotation=60)\n",
    "ax.grid(True)\n",
    "ax.legend();"
   ]
  },
  {
   "cell_type": "markdown",
   "metadata": {},
   "source": [
    "Группы резко колебались в начале теста, но после 5 августа колебания конверсии по группам стали менее заначительными.  \n",
    "Конверсия группы A просела и зафиксировалась на уровне между 2.9% и 3.1%.  \n",
    "Конверсия группы B имеела более широкий размах - от 3.3% до 3.6% - при этом оставаясь выше, чем у группы A. "
   ]
  },
  {
   "cell_type": "code",
   "execution_count": 18,
   "metadata": {},
   "outputs": [
    {
     "data": {
      "image/png": "[encoded data removed]",
      "text/plain": [
       "<Figure size 936x360 with 1 Axes>"
      ]
     },
     "metadata": {
      "needs_background": "light"
     },
     "output_type": "display_data"
    }
   ],
   "source": [
    "# Построим график относительного изменения кумулятивной конверсии группы B к группе A\n",
    "cum_conv_merged = a_cum_data[['date','conversion']].merge(b_cum_data[['date','conversion']], left_on='date', right_on='date', how='left', suffixes=['_A', '_B'])\n",
    "\n",
    "fig, ax = plt.subplots(figsize=(13,5))\n",
    "ax.plot(cum_conv_merged['date'], cum_conv_merged['conversion_B']/cum_conv_merged['conversion_A']-1)\n",
    "ax.set_title(\"Относительный прирост конверсии группы B относительно группы A\", fontsize=15)\n",
    "ax.axhline(y=0, color='black', linestyle='--')\n",
    "ax.axhline(y=0.1, color='grey', linestyle='--')\n",
    "ax.set_xticklabels(cummulative_data['date'], rotation=60);\n",
    "#ax.grid(True);\n"
   ]
  },
  {
   "cell_type": "markdown",
   "metadata": {},
   "source": [
    "В начале теста группа B  проигрывала группе A, затем вырвалась вперёд. Потом её конверсия снова падала, но теперь колеблется не так значительно."
   ]
  },
  {
   "cell_type": "code",
   "execution_count": 19,
   "metadata": {},
   "outputs": [
    {
     "data": {
      "image/png": "[encoded data removed]",
      "text/plain": [
       "<Figure size 432x288 with 1 Axes>"
      ]
     },
     "metadata": {
      "needs_background": "light"
     },
     "output_type": "display_data"
    }
   ],
   "source": [
    "# Почтроим точечный график количества заказов по пользователям\n",
    "\n",
    "orders_by_user = (orders.groupby(['visitorId'])['transactionId'].count()).reset_index()\n",
    "orders_by_user.columns = ['visitor', 'orders']\n",
    "\n",
    "x_values = pd.Series(range(0,len(orders_by_user['orders'])))\n",
    "plt.scatter(x_values, orders_by_user['orders']);"
   ]
  },
  {
   "cell_type": "markdown",
   "metadata": {},
   "source": [
    "Большинство покупателей ограничились за время теста 1-2 заказами, некоторые совершили и по 3. Но есть пользователи, заказывающие и до 11 раз. Проверим, относятся ли они к выбросам."
   ]
  },
  {
   "cell_type": "code",
   "execution_count": 20,
   "metadata": {},
   "outputs": [
    {
     "data": {
      "text/plain": [
       "array([2., 4.])"
      ]
     },
     "execution_count": 20,
     "metadata": {},
     "output_type": "execute_result"
    }
   ],
   "source": [
    "# Выберем границу для определения аномальных пользователей\n",
    "# Посчитаем 95-й и 99-й перцентили количества заказов на пользователя.\n",
    "np.percentile(orders_by_user['orders'], [95,99])\n"
   ]
  },
  {
   "cell_type": "markdown",
   "metadata": {},
   "source": [
    "Не более 5% покупателей делают больше 2 покупок, а 4 - и вовсе не более 1%.  \n",
    "Будем считать, что более 2 покупок на пользоватля - аномалия."
   ]
  },
  {
   "cell_type": "code",
   "execution_count": 21,
   "metadata": {},
   "outputs": [
    {
     "data": {
      "image/png": "[encoded data removed]",
      "text/plain": [
       "<Figure size 432x288 with 1 Axes>"
      ]
     },
     "metadata": {
      "needs_background": "light"
     },
     "output_type": "display_data"
    }
   ],
   "source": [
    "# Построим точечный график стоимостей заказов\n",
    "x_values = pd.Series(range(0,len(orders['revenue'])))\n",
    "plt.scatter(x_values, orders['revenue']);"
   ]
  },
  {
   "cell_type": "code",
   "execution_count": 22,
   "metadata": {},
   "outputs": [
    {
     "data": {
      "text/plain": [
       "array([28000. , 58233.2])"
      ]
     },
     "execution_count": 22,
     "metadata": {},
     "output_type": "execute_result"
    }
   ],
   "source": [
    "# Посчитаем 95-й и 99-й перцентили стоимости заказов. Выберем границу для определения аномальных заказов.\n",
    "np.percentile(orders['revenue'],[95,99])"
   ]
  },
  {
   "cell_type": "markdown",
   "metadata": {},
   "source": [
    "Не более 5% покупок делается на сумму более 28,000 руб., и меньше 1% - на сумму выше 58,233.2 руб.  \n",
    "Примем 5% за границу аномалий, будем считать, что заказы дороже 28,000 - артефакты."
   ]
  },
  {
   "cell_type": "code",
   "execution_count": 23,
   "metadata": {},
   "outputs": [
    {
     "data": {
      "text/html": [
       "<div>\n",
       "<style scoped>\n",
       "    .dataframe tbody tr th:only-of-type {\n",
       "        vertical-align: middle;\n",
       "    }\n",
       "\n",
       "    .dataframe tbody tr th {\n",
       "        vertical-align: top;\n",
       "    }\n",
       "\n",
       "    .dataframe thead th {\n",
       "        text-align: right;\n",
       "    }\n",
       "</style>\n",
       "<table border=\"1\" class=\"dataframe\">\n",
       "  <thead>\n",
       "    <tr style=\"text-align: right;\">\n",
       "      <th></th>\n",
       "      <th>date</th>\n",
       "      <th>a_orders_daily</th>\n",
       "      <th>a_rev_per_day</th>\n",
       "      <th>b_orders_daily</th>\n",
       "      <th>b_rev_per_day</th>\n",
       "      <th>a_orders_cum</th>\n",
       "      <th>a_rev_cum</th>\n",
       "      <th>b_orders_cum</th>\n",
       "      <th>b_rev_cum</th>\n",
       "      <th>visitors_daily_a</th>\n",
       "      <th>visitors_daily_b</th>\n",
       "      <th>visitors_cummulative_a</th>\n",
       "      <th>visitors_cummulative_b</th>\n",
       "    </tr>\n",
       "  </thead>\n",
       "  <tbody>\n",
       "    <tr>\n",
       "      <td>0</td>\n",
       "      <td>2019-08-01</td>\n",
       "      <td>24</td>\n",
       "      <td>148579</td>\n",
       "      <td>21</td>\n",
       "      <td>101217</td>\n",
       "      <td>24</td>\n",
       "      <td>148579</td>\n",
       "      <td>21</td>\n",
       "      <td>101217</td>\n",
       "      <td>719</td>\n",
       "      <td>713</td>\n",
       "      <td>719</td>\n",
       "      <td>713</td>\n",
       "    </tr>\n",
       "    <tr>\n",
       "      <td>1</td>\n",
       "      <td>2019-08-02</td>\n",
       "      <td>20</td>\n",
       "      <td>93822</td>\n",
       "      <td>24</td>\n",
       "      <td>165531</td>\n",
       "      <td>44</td>\n",
       "      <td>242401</td>\n",
       "      <td>45</td>\n",
       "      <td>266748</td>\n",
       "      <td>619</td>\n",
       "      <td>581</td>\n",
       "      <td>1338</td>\n",
       "      <td>1294</td>\n",
       "    </tr>\n",
       "    <tr>\n",
       "      <td>2</td>\n",
       "      <td>2019-08-03</td>\n",
       "      <td>24</td>\n",
       "      <td>112473</td>\n",
       "      <td>16</td>\n",
       "      <td>114248</td>\n",
       "      <td>68</td>\n",
       "      <td>354874</td>\n",
       "      <td>61</td>\n",
       "      <td>380996</td>\n",
       "      <td>507</td>\n",
       "      <td>509</td>\n",
       "      <td>1845</td>\n",
       "      <td>1803</td>\n",
       "    </tr>\n",
       "    <tr>\n",
       "      <td>3</td>\n",
       "      <td>2019-08-04</td>\n",
       "      <td>16</td>\n",
       "      <td>70825</td>\n",
       "      <td>17</td>\n",
       "      <td>108571</td>\n",
       "      <td>84</td>\n",
       "      <td>425699</td>\n",
       "      <td>78</td>\n",
       "      <td>489567</td>\n",
       "      <td>717</td>\n",
       "      <td>770</td>\n",
       "      <td>2562</td>\n",
       "      <td>2573</td>\n",
       "    </tr>\n",
       "    <tr>\n",
       "      <td>4</td>\n",
       "      <td>2019-08-05</td>\n",
       "      <td>25</td>\n",
       "      <td>124218</td>\n",
       "      <td>23</td>\n",
       "      <td>92428</td>\n",
       "      <td>109</td>\n",
       "      <td>549917</td>\n",
       "      <td>101</td>\n",
       "      <td>581995</td>\n",
       "      <td>756</td>\n",
       "      <td>707</td>\n",
       "      <td>3318</td>\n",
       "      <td>3280</td>\n",
       "    </tr>\n",
       "  </tbody>\n",
       "</table>\n",
       "</div>"
      ],
      "text/plain": [
       "         date  a_orders_daily  a_rev_per_day  b_orders_daily  b_rev_per_day  \\\n",
       "0  2019-08-01              24         148579              21         101217   \n",
       "1  2019-08-02              20          93822              24         165531   \n",
       "2  2019-08-03              24         112473              16         114248   \n",
       "3  2019-08-04              16          70825              17         108571   \n",
       "4  2019-08-05              25         124218              23          92428   \n",
       "\n",
       "   a_orders_cum  a_rev_cum  b_orders_cum  b_rev_cum  visitors_daily_a  \\\n",
       "0            24     148579            21     101217               719   \n",
       "1            44     242401            45     266748               619   \n",
       "2            68     354874            61     380996               507   \n",
       "3            84     425699            78     489567               717   \n",
       "4           109     549917           101     581995               756   \n",
       "\n",
       "   visitors_daily_b  visitors_cummulative_a  visitors_cummulative_b  \n",
       "0               713                     719                     713  \n",
       "1               581                    1338                    1294  \n",
       "2               509                    1845                    1803  \n",
       "3               770                    2562                    2573  \n",
       "4               707                    3318                    3280  "
      ]
     },
     "execution_count": 23,
     "metadata": {},
     "output_type": "execute_result"
    }
   ],
   "source": [
    "# Посчитаем статистическую значимость различий в конверсии между группами по «сырым» данным\n",
    "\n",
    "# сначала, состваим таблицу с данными о результатах в группах A и B\n",
    "\n",
    "# посчитаем число посетителей магазина в день в группе А\n",
    "a_visitors_daily = visitors[visitors['group']=='A'][['date', 'visitors']]\n",
    "a_visitors_daily.columns = ['date', 'visitors_daily_a']\n",
    "# посчитаем кумулятивное число посетителей магазина в день в группе А\n",
    "a_visitors_cum = a_visitors_daily.apply(lambda x: a_visitors_daily[a_visitors_daily['date'] <= x['date']]\\\n",
    "                                        .agg({'date' : 'max', 'visitors_daily_a' : 'sum'}), axis=1)\n",
    "a_visitors_cum.columns = ['date', 'visitors_cummulative_a']\n",
    "# посчитаем число посетителей магазина в день в группе B\n",
    "b_visitors_daily = visitors[visitors['group']=='B'][['date', 'visitors']]\n",
    "b_visitors_daily.columns = ['date', 'visitors_daily_b']\n",
    "# посчитаем кумулятивное число посетителей магазина в день в группе B\n",
    "b_visitors_cum = b_visitors_daily.apply(lambda x: b_visitors_daily[b_visitors_daily['date'] <= x['date']]\\\n",
    "                                        .agg({'date' : 'max', 'visitors_daily_b' : 'sum'}), axis=1)\n",
    "b_visitors_cum.columns = ['date', 'visitors_cummulative_b']\n",
    "# рассчитаем число покупателей и покупок в группе А за день\n",
    "a_orders_daily = orders[orders['group']=='A'][['date', 'transactionId', 'visitorId', 'revenue']]\\\n",
    "    .groupby('date', as_index=False)\\\n",
    "    .agg({'transactionId' : pd.Series.nunique, 'revenue' : 'sum'})\n",
    "a_orders_daily.columns = ['date', 'a_orders_daily', 'a_rev_per_day']\n",
    "# рассчитаем число покупателей и покупок в группе А кумулированых по дням \n",
    "a_orders_cum = a_orders_daily.apply(\n",
    "    lambda x: \\\n",
    "        a_orders_daily[a_orders_daily['date'] <= x['date']]\\\n",
    "            .agg({\n",
    "                'date' : 'max',\n",
    "                'a_orders_daily' : 'sum',\n",
    "                'a_rev_per_day' : 'sum'}), axis=1).sort_values(by=['date'])\n",
    "a_orders_cum.columns = ['date', 'a_orders_cum', 'a_rev_cum']\n",
    "# рассчитаем число покупателей и покупок в группе B за день\n",
    "b_orders_daily = orders[orders['group']=='B'][['date', 'transactionId', 'visitorId', 'revenue']]\\\n",
    "    .groupby('date', as_index=False)\\\n",
    "    .agg({'transactionId' : pd.Series.nunique, 'revenue' : 'sum'})\n",
    "b_orders_daily.columns = ['date', 'b_orders_daily', 'b_rev_per_day']\n",
    "# рассчитаем число покупателей и покупок в группе B кумулированых по дням \n",
    "b_orders_cum = b_orders_daily.apply(\n",
    "    lambda x: \\\n",
    "        b_orders_daily[b_orders_daily['date'] <= x['date']]\\\n",
    "            .agg({\n",
    "                'date' : 'max',\n",
    "                'b_orders_daily' : 'sum',\n",
    "                'b_rev_per_day' : 'sum'}), axis=1).sort_values(by=['date'])\n",
    "b_orders_cum.columns = ['date', 'b_orders_cum', 'b_rev_cum']\n",
    "# объединим полученные данные в одну таблицу\n",
    "data = a_orders_daily.merge(b_orders_daily, left_on='date', right_on='date', how='left')\\\n",
    "    .merge(a_orders_cum, left_on='date', right_on='date', how='left')\\\n",
    "    .merge(b_orders_cum, left_on='date', right_on='date', how='left')\\\n",
    "    .merge(a_visitors_daily, left_on='date', right_on='date', how='left')\\\n",
    "    .merge(b_visitors_daily, left_on='date', right_on='date', how='left')\\\n",
    "    .merge(a_visitors_cum, left_on='date', right_on='date', how='left')\\\n",
    "    .merge(b_visitors_cum, left_on='date', right_on='date', how='left')\n",
    "\n",
    "data.head(5)"
   ]
  },
  {
   "cell_type": "code",
   "execution_count": 24,
   "metadata": {},
   "outputs": [
    {
     "name": "stdout",
     "output_type": "stream",
     "text": [
      "p-value: 0.008\n",
      "Отвергаем нулевую гипотезу о том, что статистически значимых различий в конверсии между группами нет.\n",
      "Относительный прирост конверсии группы B: 14%\n"
     ]
    }
   ],
   "source": [
    "# Создадим таблицы с пользователями, которые заказывали хотя бы 1 раз и числом совершённых ими заказов, отдельно для групп A и B\n",
    "ordersByUsersA = orders[orders['group']=='A'].groupby('visitorId', as_index=False).agg({'transactionId':'nunique'})\n",
    "ordersByUsersA.columns = ['userId', 'orders']\n",
    "\n",
    "ordersByUsersB = orders[orders['group']=='B'].groupby('visitorId', as_index=False).agg({'transactionId':'nunique'})\n",
    "ordersByUsersB.columns = ['userId', 'orders']\n",
    "\n",
    "# Объявим переменные sampleA и sampleB, в которых пользователям из разных групп будет соответствовать количество заказов\n",
    "sampleA = pd.concat([ordersByUsersA['orders'],\n",
    "                     pd.Series(0, index=np.arange(data['visitors_daily_a'].sum() - len(ordersByUsersA['orders'])), \n",
    "                               name='orders')],axis=0)\n",
    "\n",
    "sampleB = pd.concat([ordersByUsersB['orders'],\n",
    "                     pd.Series(0, index=np.arange(data['visitors_daily_b'].sum() - len(ordersByUsersB['orders'])), \n",
    "                               name='orders')],axis=0)\n",
    "\n",
    "# посчитаем p-value тестом Манна-Уитни и проверим гипотезу о равенстве конверсий групп\n",
    "p_value = stats.mannwhitneyu(sampleA, sampleB)[1]\n",
    "print('p-value:',\"{0:.3f}\".format(p_value))\n",
    "if p_value > 0.05:\n",
    "    print('Нулевую гипотезу о том, что статистически значимых различий в конверсии между группами нет, не отвергаем.')\n",
    "else:\n",
    "    print('Отвергаем нулевую гипотезу о том, что статистически значимых различий в конверсии между группами нет.')\n",
    "# Выведем относительный прирост конверсии группы B:\n",
    "print('Относительный прирост конверсии группы B:',\"{0:.0%}\".format(sampleB.mean()/sampleA.mean()-1))"
   ]
  },
  {
   "cell_type": "markdown",
   "metadata": {},
   "source": [
    "По «сырым» данным между конверсиями групп есть статистически значимые различия. Конверсия группы B выше на 14%."
   ]
  },
  {
   "cell_type": "code",
   "execution_count": 25,
   "metadata": {},
   "outputs": [
    {
     "name": "stdout",
     "output_type": "stream",
     "text": [
      "p-value: 0.365\n",
      "Нулевую гипотезу о том, что статистически значимых различий в среднем чеке между группами нет, не отвергаем.\n",
      "Относительные различия в среднем чеке между группами: 26%.\n"
     ]
    }
   ],
   "source": [
    "# Посчитаем статистическую значимость различий в среднем чеке заказа между группами по «сырым» данным \n",
    "p_value_rev = stats.mannwhitneyu(orders[orders['group']=='A']['revenue'], orders[orders['group']=='B']['revenue'])[1]\n",
    "revenue_difference = orders[orders['group']=='B']['revenue'].mean()/orders[orders['group']=='A']['revenue'].mean()-1\n",
    "print('p-value: {0:.3f}'.format(p_value_rev))\n",
    "if p_value_rev > 0.05:\n",
    "    print('Нулевую гипотезу о том, что статистически значимых различий в среднем чеке между группами нет, не отвергаем.')\n",
    "else:\n",
    "    print('Отвергаем нулевую гипотезу о том, что статистически значимых различий в  среднем чеке  между группами нет.')\n",
    "print('Относительные различия в среднем чеке между группами: {0:.0%}.'.format(revenue_difference))"
   ]
  },
  {
   "cell_type": "markdown",
   "metadata": {},
   "source": [
    "По «сырым» данным в среднем чеке нет статистически значимых различий (p-value значительно больше 5%).  \n",
    "Средний чек в группе B на 26% больше, чем в группе A."
   ]
  },
  {
   "cell_type": "code",
   "execution_count": 26,
   "metadata": {},
   "outputs": [
    {
     "name": "stdout",
     "output_type": "stream",
     "text": [
      "Число аномалий: 74\n"
     ]
    }
   ],
   "source": [
    "# Ранее мы приняли за аномальных пользователей тех, кто совершил от 3 покупок или совершил заказ дороже 28,000 рублей. \n",
    "# Составим срез с пользователями, представляющими эти аномалии:\n",
    "abnormal_orders_number = pd.concat([ordersByUsersA[ordersByUsersA['orders'] >= 3]['userId'], \n",
    "                                 ordersByUsersB[ordersByUsersB['orders'] >= 3]['userId']], axis = 0)\n",
    "abnormal_orders_value = orders[orders['revenue'] > 28000]['visitorId']\n",
    "abnormal_users = pd.concat([abnormal_orders_number, abnormal_orders_value], axis = 0).drop_duplicates().sort_values()\n",
    "print('Число аномалий:', len(abnormal_users)) # посчитаем таких пользователей"
   ]
  },
  {
   "cell_type": "code",
   "execution_count": 27,
   "metadata": {},
   "outputs": [
    {
     "name": "stdout",
     "output_type": "stream",
     "text": [
      "P-value: 0.007\n",
      "Отвергаем нулевую гипотезу о том, что статистически значимых различий в конверсии между группами нет.\n",
      "Относительный прирост конверсии группы B (по очиненным данным): 17%.\n"
     ]
    }
   ],
   "source": [
    "# Узнаем, как аномальные действия повлияли на результаты теста - \n",
    "# посчитаем статистическую значимость различий в конверсии между группами теста по очищенным данным. \n",
    "\n",
    "# Сначала подготовим выборки количества заказов по пользователям по группам теста:\n",
    "sampleAFiltered = pd.concat([ordersByUsersA[np.logical_not(ordersByUsersA['userId'].isin(abnormal_users))]['orders'],\n",
    "                             pd.Series(0, index=np.arange(data['visitors_daily_a'].sum() \\\n",
    "                                                          - len(ordersByUsersA['orders'])),name='orders')],axis=0)\n",
    "\n",
    "sampleBFiltered = pd.concat([ordersByUsersB[np.logical_not(ordersByUsersB['userId'].isin(abnormal_users))]['orders'],\n",
    "                             pd.Series(0, index=np.arange(data['visitors_daily_b'].sum() \\\n",
    "                                                          - len(ordersByUsersB['orders'])),name='orders')],axis=0)\n",
    "\n",
    "# Применим статистический критерий Манна-Уитни к полученным выборкам:\n",
    "p_value_filtered_conv = stats.mannwhitneyu(sampleAFiltered, sampleBFiltered)[1]\n",
    "print(\"P-value: {0:.3f}\".format(p_value_filtered_conv))\n",
    "if p_value_filtered_conv > 0.05:\n",
    "    print('Нулевую гипотезу о том, что статистически значимых различий в конверсии между группами нет, не отвергаем.')\n",
    "else:\n",
    "    print('Отвергаем нулевую гипотезу о том, что статистически значимых различий в конверсии между группами нет.')\n",
    "print(\"Относительный прирост конверсии группы B (по очиненным данным): {0:.0%}.\"\\\n",
    "      .format(sampleBFiltered.mean()/sampleAFiltered.mean()-1))"
   ]
  },
  {
   "cell_type": "markdown",
   "metadata": {},
   "source": [
    "И по «сырым», и по очищенным от выбросов данным между конверсиями групп есть статистически значимые различия.  \n",
    "По очищенным данным разница в конверсиях составляет 17% (по \"сырым\" - 14%, в этом проявлялось влияние выбросов).\n"
   ]
  },
  {
   "cell_type": "code",
   "execution_count": 28,
   "metadata": {},
   "outputs": [
    {
     "name": "stdout",
     "output_type": "stream",
     "text": [
      "P-value: 0.369\n",
      "Нулевую гипотезу о том, что статистически значимых различий в среднем чеке между группами нет, не отвергаем.\n",
      "Относительные различия в среднем чеке между группами (по очиненным данным): -2%.\n"
     ]
    }
   ],
   "source": [
    "# Посчитаем статистическую значимость различий в среднем чеке заказа между группами по «очищенным» данным\n",
    "p_value_rev_filtered = stats.mannwhitneyu(\n",
    "    orders[np.logical_and(\n",
    "        orders['group']=='A',\n",
    "        np.logical_not(orders['visitorId'].isin(abnormal_users)))]['revenue'],\n",
    "    orders[np.logical_and(\n",
    "        orders['group']=='B',\n",
    "        np.logical_not(orders['visitorId'].isin(abnormal_users)))]['revenue'])[1]\n",
    "\n",
    "revenue_difference_filtered = orders[np.logical_and(orders['group']=='B',\n",
    "                          np.logical_not(orders['visitorId'].isin(abnormal_users)))]['revenue'].mean()/\\\n",
    "    orders[np.logical_and(\n",
    "        orders['group']=='A',\n",
    "        np.logical_not(orders['visitorId'].isin(abnormal_users)))]['revenue'].mean() - 1\n",
    "    \n",
    "print(\"P-value: {0:.3f}\".format(p_value_rev_filtered))\n",
    "if p_value_rev_filtered > 0.05:\n",
    "    print('Нулевую гипотезу о том, что статистически значимых различий в среднем чеке между группами нет, не отвергаем.')\n",
    "else:\n",
    "    print('Отвергаем нулевую гипотезу о том, что статистически значимых различий в  среднем чеке  между группами нет.')\n",
    "print(\"Относительные различия в среднем чеке между группами (по очиненным данным): {0:.0%}.\".format(revenue_difference_filtered))"
   ]
  },
  {
   "cell_type": "markdown",
   "metadata": {},
   "source": [
    "И по «сырым», по очищенным от аномалий данным в среднем чеке нет статистически значимых различий.\n",
    "Однако по очищенным данным чек в группе А на 2% больше, чем в группе B.  \n",
    "Ситуация в этом показателе, расчитанном по \"сырым\" данным, была кардинально иной - по \"сырым\" данным средний чек в группе B на 26% больше, чем в группе A. Это демонстрирует, насколько влияние аномалий влияет на результат теста."
   ]
  },
  {
   "cell_type": "markdown",
   "metadata": {},
   "source": [
    "#### Примем решение по результатам теста\n",
    "Имеющиеся факты:\n",
    "- И по «сырым», и по очищенным от выбросов данным между конверсиями групп есть статистически значимые различия. По очищенным данным разница в конверсиях составляет 17% (по \"сырым\" - 14%, в этом проявлялось влияние выбросов) в пользу группы B.\n",
    "- И по «сырым», по очищенным от аномалий данным в среднем чеке нет статистически значимых различий. По очищенным данным чек в группе А на 2% больше, чем в группе B (по \"сырым\" данным средний чек в группе B на 26% больше, чем в группе A) Видим, что выбросы действительно значительно влияют на результаты теста.\n",
    "\n",
    "**Принимаем решения остановить тест и зафиксировать победу групы B по показателю конверсии.**\n"
   ]
  },
  {
   "cell_type": "markdown",
   "metadata": {},
   "source": [
    "## 4. Общий вывод  <a name='conclusion'></a>"
   ]
  },
  {
   "cell_type": "markdown",
   "metadata": {},
   "source": [
    "### Приоритезация гипотез\n",
    "Мы провели оценку гипотез по фреймворкам ICE и RICE и отобрали две наиболее перспективные:  \n",
    "**- Добавить форму подписки на все основные страницы, чтобы собрать базу клиентов для email-рассылок**;  \n",
    "**- Добавить два новых канала привлечения трафика, что позволит привлекать на 30% больше пользователей**.  \n",
    "\n",
    "---\n",
    "### Анализ результатов A/B теста\n",
    "Также мы провели анализ A/B теста, проведенного на посетителях интернет-магазина с 1 по 16 августа.  \n",
    "\n",
    "В обеих группах **выручка** почти равномерно увеличивалась в течение всего теста.  \n",
    "После 3 августа куммулятивная **выручка в группе B стала превосходить выручку группы А**.  \n",
    "К 7 августа их показатели сравнялись из-за рывка в группе A в течение 6-7 августа. Однако после этого скачки в росте выручки группы B (в особенности произошедший 9 августа) закрепили превосходство показателя группы B. Это может сигнализировать о всплесках числа заказов, либо о появлении очень дорогих заказов в выборке. *Такие аномалии могут повлиять на результат теста, поэтому мы изучили их отдельно*.  \n",
    "\n",
    "**Средний чек** в обеих группах колеблется и растет до 7-9 августа.  \n",
    "Для группы A средний чек более или менее установился после 7 августа в районе около 7,000 руб., дальнейшие колебания не сильные.\n",
    "9 августа в группе B произошел резкий скачок показателя, после этого он стал немного снижаться, хотя куммулятивная метрика осталась выше, чем у группы А. Возможно, в группу B в этот день попали крупные заказы. Тогда ей нужно больше данных, чтобы прийти к реальному среднему чеку и установиться на его уровне.  \n",
    "К 16 августа **средний чек группы B выше, чем у группы A**.  \n",
    "\n",
    "Относительная разница среднего чека со второго дня эксперемента была на стороне группы B, за исключением периода между 5 и 9 августа. Опять же виден *скачок 9 августа*.  \n",
    "\n",
    "Показатели **конверсии** обеих групп резко колебались в начале теста, но после 5 августа эти колебания стали менее заначительными.  \n",
    "Конверсия группы A просела и зафиксировалась на уровне между 2.9% и 3.1%.  \n",
    "**Конверсия группы B** имеела более широкий размах - от 3.3% до 3.6% - при этом оставаясь **выше, чем у группы A**.  \n",
    "В начале теста группа B проигрывала группе A, затем вырвалась вперёд. Потом её конверсия снова падала, но теперь колеблется не так значительно.  \n",
    "\n",
    "Проанализировав количество заказов, которые делает каждый пользователь, и суммы заказов, мы определили **границы аномалий**. \n",
    "Решено,что **более 2 покупок на пользоватля и заказы дороже 28,000 - артефакты**. Такие значения встречаются в менее чем 5% случаев. Число аномалий: 74.  \n",
    "\n",
    "Мы применили тест Манна-Уитни к показателям, рассчитанным по \"сырым\" и очищенным данным для проверку на наличие статистически значимых различий.\n",
    "- И по «сырым», и по очищенным от выбросов данным между конверсиями групп есть статистически значимые различия. По очищенным данным разница в конверсиях составляет 17% (по \"сырым\" - 14%, в этом проявлялось влияние выбросов) в пользу группы B.  \n",
    "- И по «сырым», по очищенным от аномалий данным в среднем чеке нет статистически значимых различий. По очищенным данным чек в группе А на 2% больше, чем в группе B (по \"сырым\" данным средний чек в группе B на 26% больше, чем в группе A)\n",
    "Видим, что выбросы действительно значительно влияют на результаты теста.  \n",
    "\n",
    "Однако, показатель конверсии группы B определенно превосходит конверсию группы А. По показателю же размера среднего чека статистически значимых различий в результатах двух групп не выявлено.  \n",
    "Исходя их обнаруженных фактов, **тест следует остановить и зафиксировать победу групы B по показателю конверсии.**."
   ]
  }
 ],
 "metadata": {
  "kernelspec": {
   "display_name": "Python 3",
   "language": "python",
   "name": "python3"
  },
  "language_info": {
   "codemirror_mode": {
    "name": "ipython",
    "version": 3
   },
   "file_extension": ".py",
   "mimetype": "text/x-python",
   "name": "python",
   "nbconvert_exporter": "python",
   "pygments_lexer": "ipython3",
   "version": "3.7.4"
  }
 },
 "nbformat": 4,
 "nbformat_minor": 2
}

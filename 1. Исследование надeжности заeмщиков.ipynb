{
 "cells": [
  {
   "cell_type": "markdown",
   "metadata": {},
   "source": [
    "# Исследование надёжности заёмщиков\n",
    "\n",
    "#### Описание задачи \n",
    "Заказчик — кредитный отдел банка. Нужно разобраться, влияет ли семейное положение и количество детей клиента на факт погашения кредита в срок. Входные данные от банка — статистика о платёжеспособности клиентов.\n",
    "\n",
    "Результаты исследования будут учтены при построении модели **кредитного скоринга** — специальной системы, которая оценивает способность потенциального заёмщика вернуть кредит банку."
   ]
  },
  {
   "cell_type": "markdown",
   "metadata": {},
   "source": [
    "<a name='back'></a>\n",
    "## Навигация по содержанию\n",
    "- [Библиотеки](#libraries)  \n",
    "- [1. Знакомство с данными ](#dataintro)  \n",
    "- [2. Предобработка данных](#datacleaning)      \n",
    "    -    [Работа с дубликатами](#douplicates)  \n",
    "    -    [Обработка пропусков и ошибок](#nans) \n",
    "    -    [Замена типов данных](#datatypes)  \n",
    "- [3. Лемматизация и категоризация данных](#lemmas)\n",
    "- [4. Исследовательский анализ данных](#analysis)\n",
    "- [5. Общий вывод](#conclusion)"
   ]
  },
  {
   "cell_type": "markdown",
   "metadata": {},
   "source": [
    "### Библиотеки <a name=\"libraries\"></a>"
   ]
  },
  {
   "cell_type": "code",
   "execution_count": 1,
   "metadata": {},
   "outputs": [],
   "source": [
    "# Импортируем необходимые библиотеки\n",
    "import pandas as pd \n",
    "from pymystem3 import Mystem \n",
    "m = Mystem()\n",
    "import matplotlib.pyplot as plt \n",
    "import seaborn as sns; sns.set()"
   ]
  },
  {
   "cell_type": "code",
   "execution_count": 2,
   "metadata": {},
   "outputs": [],
   "source": [
    "import warnings\n",
    "warnings.filterwarnings('ignore') "
   ]
  },
  {
   "cell_type": "markdown",
   "metadata": {},
   "source": [
    "## Шаг 1. Знакомство с данными\n",
    "<a name=\"dataintro\"></a>\n",
    "#### [Вернуться к оглавлению](#back) "
   ]
  },
  {
   "cell_type": "markdown",
   "metadata": {},
   "source": [
    "#### Описание данных\n",
    "Таблица **loans_project1** - статистика о платёжеспособности клиентов - содержит следующие данные о заемщиках:  \n",
    "`children` — количество детей в семье  \n",
    "`days_employed` — общий трудовой стаж в днях  \n",
    "`dob_years` — возраст клиента в годах  \n",
    "`education` — уровень образования клиента  \n",
    "`education_id` — идентификатор уровня образования  \n",
    "`family_status` — семейное положение  \n",
    "`family_status_id` — идентификатор семейного положения  \n",
    "`gender` — пол клиента  \n",
    "`income_type` — тип занятости  \n",
    "`debt` — имел ли задолженность по возврату кредитов  \n",
    "`total_income` — ежемесячный доход  \n",
    "`purpose` — цель получения кредита  "
   ]
  },
  {
   "cell_type": "code",
   "execution_count": 3,
   "metadata": {},
   "outputs": [
    {
     "data": {
      "text/html": [
       "<div>\n",
       "<style scoped>\n",
       "    .dataframe tbody tr th:only-of-type {\n",
       "        vertical-align: middle;\n",
       "    }\n",
       "\n",
       "    .dataframe tbody tr th {\n",
       "        vertical-align: top;\n",
       "    }\n",
       "\n",
       "    .dataframe thead th {\n",
       "        text-align: right;\n",
       "    }\n",
       "</style>\n",
       "<table border=\"1\" class=\"dataframe\">\n",
       "  <thead>\n",
       "    <tr style=\"text-align: right;\">\n",
       "      <th></th>\n",
       "      <th>children</th>\n",
       "      <th>days_employed</th>\n",
       "      <th>dob_years</th>\n",
       "      <th>education</th>\n",
       "      <th>education_id</th>\n",
       "      <th>family_status</th>\n",
       "      <th>family_status_id</th>\n",
       "      <th>gender</th>\n",
       "      <th>income_type</th>\n",
       "      <th>debt</th>\n",
       "      <th>total_income</th>\n",
       "      <th>purpose</th>\n",
       "    </tr>\n",
       "  </thead>\n",
       "  <tbody>\n",
       "    <tr>\n",
       "      <td>0</td>\n",
       "      <td>1</td>\n",
       "      <td>-8437.673028</td>\n",
       "      <td>42</td>\n",
       "      <td>высшее</td>\n",
       "      <td>0</td>\n",
       "      <td>женат / замужем</td>\n",
       "      <td>0</td>\n",
       "      <td>F</td>\n",
       "      <td>сотрудник</td>\n",
       "      <td>0</td>\n",
       "      <td>253875.639453</td>\n",
       "      <td>покупка жилья</td>\n",
       "    </tr>\n",
       "    <tr>\n",
       "      <td>1</td>\n",
       "      <td>1</td>\n",
       "      <td>-4024.803754</td>\n",
       "      <td>36</td>\n",
       "      <td>среднее</td>\n",
       "      <td>1</td>\n",
       "      <td>женат / замужем</td>\n",
       "      <td>0</td>\n",
       "      <td>F</td>\n",
       "      <td>сотрудник</td>\n",
       "      <td>0</td>\n",
       "      <td>112080.014102</td>\n",
       "      <td>приобретение автомобиля</td>\n",
       "    </tr>\n",
       "    <tr>\n",
       "      <td>2</td>\n",
       "      <td>0</td>\n",
       "      <td>-5623.422610</td>\n",
       "      <td>33</td>\n",
       "      <td>Среднее</td>\n",
       "      <td>1</td>\n",
       "      <td>женат / замужем</td>\n",
       "      <td>0</td>\n",
       "      <td>M</td>\n",
       "      <td>сотрудник</td>\n",
       "      <td>0</td>\n",
       "      <td>145885.952297</td>\n",
       "      <td>покупка жилья</td>\n",
       "    </tr>\n",
       "    <tr>\n",
       "      <td>3</td>\n",
       "      <td>3</td>\n",
       "      <td>-4124.747207</td>\n",
       "      <td>32</td>\n",
       "      <td>среднее</td>\n",
       "      <td>1</td>\n",
       "      <td>женат / замужем</td>\n",
       "      <td>0</td>\n",
       "      <td>M</td>\n",
       "      <td>сотрудник</td>\n",
       "      <td>0</td>\n",
       "      <td>267628.550329</td>\n",
       "      <td>дополнительное образование</td>\n",
       "    </tr>\n",
       "    <tr>\n",
       "      <td>4</td>\n",
       "      <td>0</td>\n",
       "      <td>340266.072047</td>\n",
       "      <td>53</td>\n",
       "      <td>среднее</td>\n",
       "      <td>1</td>\n",
       "      <td>гражданский брак</td>\n",
       "      <td>1</td>\n",
       "      <td>F</td>\n",
       "      <td>пенсионер</td>\n",
       "      <td>0</td>\n",
       "      <td>158616.077870</td>\n",
       "      <td>сыграть свадьбу</td>\n",
       "    </tr>\n",
       "    <tr>\n",
       "      <td>5</td>\n",
       "      <td>0</td>\n",
       "      <td>-926.185831</td>\n",
       "      <td>27</td>\n",
       "      <td>высшее</td>\n",
       "      <td>0</td>\n",
       "      <td>гражданский брак</td>\n",
       "      <td>1</td>\n",
       "      <td>M</td>\n",
       "      <td>компаньон</td>\n",
       "      <td>0</td>\n",
       "      <td>255763.565419</td>\n",
       "      <td>покупка жилья</td>\n",
       "    </tr>\n",
       "    <tr>\n",
       "      <td>6</td>\n",
       "      <td>0</td>\n",
       "      <td>-2879.202052</td>\n",
       "      <td>43</td>\n",
       "      <td>высшее</td>\n",
       "      <td>0</td>\n",
       "      <td>женат / замужем</td>\n",
       "      <td>0</td>\n",
       "      <td>F</td>\n",
       "      <td>компаньон</td>\n",
       "      <td>0</td>\n",
       "      <td>240525.971920</td>\n",
       "      <td>операции с жильем</td>\n",
       "    </tr>\n",
       "    <tr>\n",
       "      <td>7</td>\n",
       "      <td>0</td>\n",
       "      <td>-152.779569</td>\n",
       "      <td>50</td>\n",
       "      <td>СРЕДНЕЕ</td>\n",
       "      <td>1</td>\n",
       "      <td>женат / замужем</td>\n",
       "      <td>0</td>\n",
       "      <td>M</td>\n",
       "      <td>сотрудник</td>\n",
       "      <td>0</td>\n",
       "      <td>135823.934197</td>\n",
       "      <td>образование</td>\n",
       "    </tr>\n",
       "    <tr>\n",
       "      <td>8</td>\n",
       "      <td>2</td>\n",
       "      <td>-6929.865299</td>\n",
       "      <td>35</td>\n",
       "      <td>ВЫСШЕЕ</td>\n",
       "      <td>0</td>\n",
       "      <td>гражданский брак</td>\n",
       "      <td>1</td>\n",
       "      <td>F</td>\n",
       "      <td>сотрудник</td>\n",
       "      <td>0</td>\n",
       "      <td>95856.832424</td>\n",
       "      <td>на проведение свадьбы</td>\n",
       "    </tr>\n",
       "    <tr>\n",
       "      <td>9</td>\n",
       "      <td>0</td>\n",
       "      <td>-2188.756445</td>\n",
       "      <td>41</td>\n",
       "      <td>среднее</td>\n",
       "      <td>1</td>\n",
       "      <td>женат / замужем</td>\n",
       "      <td>0</td>\n",
       "      <td>M</td>\n",
       "      <td>сотрудник</td>\n",
       "      <td>0</td>\n",
       "      <td>144425.938277</td>\n",
       "      <td>покупка жилья для семьи</td>\n",
       "    </tr>\n",
       "  </tbody>\n",
       "</table>\n",
       "</div>"
      ],
      "text/plain": [
       "   children  days_employed  dob_years education  education_id  \\\n",
       "0         1   -8437.673028         42    высшее             0   \n",
       "1         1   -4024.803754         36   среднее             1   \n",
       "2         0   -5623.422610         33   Среднее             1   \n",
       "3         3   -4124.747207         32   среднее             1   \n",
       "4         0  340266.072047         53   среднее             1   \n",
       "5         0    -926.185831         27    высшее             0   \n",
       "6         0   -2879.202052         43    высшее             0   \n",
       "7         0    -152.779569         50   СРЕДНЕЕ             1   \n",
       "8         2   -6929.865299         35    ВЫСШЕЕ             0   \n",
       "9         0   -2188.756445         41   среднее             1   \n",
       "\n",
       "      family_status  family_status_id gender income_type  debt   total_income  \\\n",
       "0   женат / замужем                 0      F   сотрудник     0  253875.639453   \n",
       "1   женат / замужем                 0      F   сотрудник     0  112080.014102   \n",
       "2   женат / замужем                 0      M   сотрудник     0  145885.952297   \n",
       "3   женат / замужем                 0      M   сотрудник     0  267628.550329   \n",
       "4  гражданский брак                 1      F   пенсионер     0  158616.077870   \n",
       "5  гражданский брак                 1      M   компаньон     0  255763.565419   \n",
       "6   женат / замужем                 0      F   компаньон     0  240525.971920   \n",
       "7   женат / замужем                 0      M   сотрудник     0  135823.934197   \n",
       "8  гражданский брак                 1      F   сотрудник     0   95856.832424   \n",
       "9   женат / замужем                 0      M   сотрудник     0  144425.938277   \n",
       "\n",
       "                      purpose  \n",
       "0               покупка жилья  \n",
       "1     приобретение автомобиля  \n",
       "2               покупка жилья  \n",
       "3  дополнительное образование  \n",
       "4             сыграть свадьбу  \n",
       "5               покупка жилья  \n",
       "6           операции с жильем  \n",
       "7                 образование  \n",
       "8       на проведение свадьбы  \n",
       "9     покупка жилья для семьи  "
      ]
     },
     "execution_count": 3,
     "metadata": {},
     "output_type": "execute_result"
    }
   ],
   "source": [
    "# читаем файл:\n",
    "raw_data = pd.read_csv('datasets/loans_project1', index_col=0)\n",
    "# знакомимся с содержанием таблицы по первым 10 строкам\n",
    "raw_data.head(10)"
   ]
  },
  {
   "cell_type": "markdown",
   "metadata": {},
   "source": [
    "Сразу удалим колонки, информация в которых не значима для данного иследования.  \n",
    "Оставим в таблице только следующие столбцы:  \n",
    "'children', 'family_status', 'family_status_id', 'debt', 'total_income', 'purpose'\n"
   ]
  },
  {
   "cell_type": "code",
   "execution_count": 4,
   "metadata": {},
   "outputs": [
    {
     "data": {
      "text/html": [
       "<div>\n",
       "<style scoped>\n",
       "    .dataframe tbody tr th:only-of-type {\n",
       "        vertical-align: middle;\n",
       "    }\n",
       "\n",
       "    .dataframe tbody tr th {\n",
       "        vertical-align: top;\n",
       "    }\n",
       "\n",
       "    .dataframe thead th {\n",
       "        text-align: right;\n",
       "    }\n",
       "</style>\n",
       "<table border=\"1\" class=\"dataframe\">\n",
       "  <thead>\n",
       "    <tr style=\"text-align: right;\">\n",
       "      <th></th>\n",
       "      <th>children</th>\n",
       "      <th>family_status</th>\n",
       "      <th>income_type</th>\n",
       "      <th>debt</th>\n",
       "      <th>total_income</th>\n",
       "      <th>purpose</th>\n",
       "    </tr>\n",
       "  </thead>\n",
       "  <tbody>\n",
       "    <tr>\n",
       "      <td>0</td>\n",
       "      <td>1</td>\n",
       "      <td>женат / замужем</td>\n",
       "      <td>сотрудник</td>\n",
       "      <td>0</td>\n",
       "      <td>253875.639453</td>\n",
       "      <td>покупка жилья</td>\n",
       "    </tr>\n",
       "    <tr>\n",
       "      <td>1</td>\n",
       "      <td>1</td>\n",
       "      <td>женат / замужем</td>\n",
       "      <td>сотрудник</td>\n",
       "      <td>0</td>\n",
       "      <td>112080.014102</td>\n",
       "      <td>приобретение автомобиля</td>\n",
       "    </tr>\n",
       "    <tr>\n",
       "      <td>2</td>\n",
       "      <td>0</td>\n",
       "      <td>женат / замужем</td>\n",
       "      <td>сотрудник</td>\n",
       "      <td>0</td>\n",
       "      <td>145885.952297</td>\n",
       "      <td>покупка жилья</td>\n",
       "    </tr>\n",
       "    <tr>\n",
       "      <td>3</td>\n",
       "      <td>3</td>\n",
       "      <td>женат / замужем</td>\n",
       "      <td>сотрудник</td>\n",
       "      <td>0</td>\n",
       "      <td>267628.550329</td>\n",
       "      <td>дополнительное образование</td>\n",
       "    </tr>\n",
       "    <tr>\n",
       "      <td>4</td>\n",
       "      <td>0</td>\n",
       "      <td>гражданский брак</td>\n",
       "      <td>пенсионер</td>\n",
       "      <td>0</td>\n",
       "      <td>158616.077870</td>\n",
       "      <td>сыграть свадьбу</td>\n",
       "    </tr>\n",
       "  </tbody>\n",
       "</table>\n",
       "</div>"
      ],
      "text/plain": [
       "   children     family_status income_type  debt   total_income  \\\n",
       "0         1   женат / замужем   сотрудник     0  253875.639453   \n",
       "1         1   женат / замужем   сотрудник     0  112080.014102   \n",
       "2         0   женат / замужем   сотрудник     0  145885.952297   \n",
       "3         3   женат / замужем   сотрудник     0  267628.550329   \n",
       "4         0  гражданский брак   пенсионер     0  158616.077870   \n",
       "\n",
       "                      purpose  \n",
       "0               покупка жилья  \n",
       "1     приобретение автомобиля  \n",
       "2               покупка жилья  \n",
       "3  дополнительное образование  \n",
       "4             сыграть свадьбу  "
      ]
     },
     "execution_count": 4,
     "metadata": {},
     "output_type": "execute_result"
    }
   ],
   "source": [
    "# список столбцов, которые мы удаляем:\n",
    "columns_to_delete = ['days_employed', 'dob_years', 'education', 'education_id', 'family_status_id', 'gender'] \n",
    "# удаление этих столбцов с помощью функции drop():\n",
    "data = raw_data.drop(columns_to_delete, axis=1) \n",
    "data.head() # проверяем, как выглядит таблица после удаления не релевантных для данного исследования столбцов"
   ]
  },
  {
   "cell_type": "code",
   "execution_count": 5,
   "metadata": {},
   "outputs": [
    {
     "name": "stdout",
     "output_type": "stream",
     "text": [
      "<class 'pandas.core.frame.DataFrame'>\n",
      "Int64Index: 21525 entries, 0 to 21524\n",
      "Data columns (total 6 columns):\n",
      "children         21525 non-null int64\n",
      "family_status    21525 non-null object\n",
      "income_type      21525 non-null object\n",
      "debt             21525 non-null int64\n",
      "total_income     19351 non-null float64\n",
      "purpose          21525 non-null object\n",
      "dtypes: float64(1), int64(2), object(3)\n",
      "memory usage: 1.1+ MB\n"
     ]
    }
   ],
   "source": [
    "# просматриваем форму таблицы \n",
    "data.info()"
   ]
  },
  {
   "cell_type": "code",
   "execution_count": 6,
   "metadata": {},
   "outputs": [
    {
     "name": "stdout",
     "output_type": "stream",
     "text": [
      "Значения колонки children\n",
      " 0     14149\n",
      " 1      4818\n",
      " 2      2055\n",
      " 3       330\n",
      " 20       76\n",
      "-1        47\n",
      " 4        41\n",
      " 5         9\n",
      "Name: children, dtype: int64\n",
      "----------------------------\n",
      "\n",
      "Значения колонки family_status\n",
      "женат / замужем          12380\n",
      "гражданский брак          4177\n",
      "Не женат / не замужем     2813\n",
      "в разводе                 1195\n",
      "вдовец / вдова             960\n",
      "Name: family_status, dtype: int64\n",
      "----------------------------\n",
      "\n",
      "Значения колонки income_type\n",
      "сотрудник          11119\n",
      "компаньон           5085\n",
      "пенсионер           3856\n",
      "госслужащий         1459\n",
      "предприниматель        2\n",
      "безработный            2\n",
      "в декрете              1\n",
      "студент                1\n",
      "Name: income_type, dtype: int64\n",
      "----------------------------\n",
      "\n",
      "Значения колонки debt\n",
      "0    19784\n",
      "1     1741\n",
      "Name: debt, dtype: int64\n",
      "----------------------------\n",
      "\n",
      "Значения колонки purpose\n",
      "свадьба                                   797\n",
      "на проведение свадьбы                     777\n",
      "сыграть свадьбу                           774\n",
      "операции с недвижимостью                  676\n",
      "покупка коммерческой недвижимости         664\n",
      "операции с жильем                         653\n",
      "покупка жилья для сдачи                   653\n",
      "операции с коммерческой недвижимостью     651\n",
      "жилье                                     647\n",
      "покупка жилья                             647\n",
      "покупка жилья для семьи                   641\n",
      "строительство собственной недвижимости    635\n",
      "недвижимость                              634\n",
      "операции со своей недвижимостью           630\n",
      "строительство жилой недвижимости          626\n",
      "покупка недвижимости                      624\n",
      "строительство недвижимости                620\n",
      "покупка своего жилья                      620\n",
      "ремонт жилью                              612\n",
      "покупка жилой недвижимости                607\n",
      "на покупку своего автомобиля              505\n",
      "заняться высшим образованием              496\n",
      "автомобиль                                495\n",
      "сделка с подержанным автомобилем          489\n",
      "свой автомобиль                           480\n",
      "на покупку подержанного автомобиля        479\n",
      "автомобили                                478\n",
      "на покупку автомобиля                     472\n",
      "приобретение автомобиля                   462\n",
      "дополнительное образование                462\n",
      "сделка с автомобилем                      455\n",
      "высшее образование                        453\n",
      "образование                               447\n",
      "получение дополнительного образования     447\n",
      "получение образования                     443\n",
      "профильное образование                    436\n",
      "получение высшего образования             426\n",
      "заняться образованием                     412\n",
      "Name: purpose, dtype: int64\n",
      "----------------------------\n",
      "\n"
     ]
    }
   ],
   "source": [
    "# последовательно рассматриваем уникальные значения в каждом из оставленных столбцов \n",
    "# с помощью функции value_counts() для дискретных значений\n",
    "\n",
    "columns = ['children', 'family_status', 'income_type', 'debt','purpose'] # список столбцов с дискретными признаками\n",
    "\n",
    "for column in columns:\n",
    "    print('Значения колонки', column)\n",
    "    print(data[column].value_counts())\n",
    "    print('----------------------------')\n",
    "    print()"
   ]
  },
  {
   "cell_type": "code",
   "execution_count": 7,
   "metadata": {},
   "outputs": [
    {
     "data": {
      "image/png": "[encoded data removed]",
      "text/plain": [
       "<Figure size 720x288 with 1 Axes>"
      ]
     },
     "metadata": {
      "needs_background": "light"
     },
     "output_type": "display_data"
    }
   ],
   "source": [
    "# смотрим распределение непрерывных величин на гистограмме\n",
    "data['total_income'].hist(bins=20, figsize=(10,4))\n",
    "plt.title('Распределение уровня дохода');"
   ]
  },
  {
   "cell_type": "markdown",
   "metadata": {},
   "source": [
    "### Вывод\n",
    "Важные для данного исследования столбцы: `'children', 'family_status', 'family_status_id', 'debt', 'total_income', 'purpose'`. Остальные столбцы исходной таблицы удалены, так как они не несут полезной для исследования информации.\n",
    "\n",
    "Типы данных в таблице не помешают нам проводить операции, но для оптимизации переведем столбцы `children, family_status, income_type, debt` в тип category.\n",
    "\n",
    "В таблице найден ряд данных, нуждающихся в доработке.  \n",
    "\n",
    "Так, в столбце `children` обноружены заведомо ошибочные данные: 76 человек имеют *20* детей, а 47 - *-1*. Необходимо запросить информацию о том, что могут обозначать эти показатели в данном столбце.  \n",
    "Предположение: причина таких данных в опечатке, и там, где должно было быть \"2\" стоит \"20\", а вместо \"1\" - \"-1\". То есть ошибки случайны и определены человеческим фактором. Однако, мы не можем подтвердить данную гипотезу.  \n",
    "Так как выяснить корректные значения не удается, строки с *-1* или *20* в столбце `children` нужно удалить.\n",
    "\n",
    "Также необходимо обработать пропуски в столбце `total_income`.\n",
    "\n"
   ]
  },
  {
   "cell_type": "markdown",
   "metadata": {},
   "source": [
    "\n"
   ]
  },
  {
   "cell_type": "markdown",
   "metadata": {},
   "source": [
    "## Шаг 2. Предобработка данных\n",
    "<a name=\"datacleaning\"></a>\n",
    "#### [Вернуться к оглавлению](#back) "
   ]
  },
  {
   "cell_type": "markdown",
   "metadata": {},
   "source": [
    "### Обработка дубликатов\n",
    "<a name=\"douplicates\"></a>"
   ]
  },
  {
   "cell_type": "code",
   "execution_count": 8,
   "metadata": {
    "scrolled": true
   },
   "outputs": [
    {
     "name": "stdout",
     "output_type": "stream",
     "text": [
      "В таблице 1291 дубликатов\n"
     ]
    }
   ],
   "source": [
    "# Проверка таблицы на дубликаты:\n",
    "duplicates_number = data.duplicated().sum()\n",
    "if duplicates_number == 0:\n",
    "    print('В таблице нет дубликатов.')\n",
    "else:\n",
    "    print('В таблице {:.0f} дубликатов'.format(duplicates_number))"
   ]
  },
  {
   "cell_type": "markdown",
   "metadata": {},
   "source": [
    "Так как в исходной таблице не обозначены id клиентов, есть риск потерять значимые данные при удалении полностью дублирующихся строк. Необходимо обратиться к предоставившим данные коллегам и запросить разъяснения по поводу индивидуальных идентификаторов клиентов в таблице.\n",
    "\n",
    "До этого предполагаем, что каждая из строк в исходной таблице содержит данные о разных клиентах. Значит, **принимаем, что в таблице нет дублей.**\n",
    "\n",
    "В случае возврата дополнительных данных с id клиентов, чьи данные содержит таблица, перед этапом удаления нерелевантных для исследования столбцов проведем следующие операции:\n",
    "1. с помощью функций duplicated() и sum() вычислим количество дублирующихся строк в таблице raw_data,\n",
    "2. при обнаружении дубликатов удалим эти строки с помощью функции drop_duplicates(),\n",
    "3. проверим результат повторным вызовом функций duplicated() и sum()."
   ]
  },
  {
   "cell_type": "markdown",
   "metadata": {},
   "source": [
    "### Обработка пропусков и ошибок \n",
    "<a name=\"nans\"></a>"
   ]
  },
  {
   "cell_type": "code",
   "execution_count": 9,
   "metadata": {},
   "outputs": [
    {
     "data": {
      "text/plain": [
       "0    14149\n",
       "1     4818\n",
       "2     2055\n",
       "3      330\n",
       "4       41\n",
       "5        9\n",
       "Name: children, dtype: int64"
      ]
     },
     "execution_count": 9,
     "metadata": {},
     "output_type": "execute_result"
    }
   ],
   "source": [
    "# Оставляем в таблице строки, где в столбце'children' значения не \"20\" и не \"-1\"\n",
    "data = data[(data['children'] != 20) & (data['children'] != (-1))]\n",
    "data['children'].value_counts() # проверяем уникальные значения столбца 'children' после изменений"
   ]
  },
  {
   "cell_type": "code",
   "execution_count": 10,
   "metadata": {},
   "outputs": [
    {
     "data": {
      "text/plain": [
       "children            0\n",
       "family_status       0\n",
       "income_type         0\n",
       "debt                0\n",
       "total_income     2162\n",
       "purpose             0\n",
       "dtype: int64"
      ]
     },
     "execution_count": 10,
     "metadata": {},
     "output_type": "execute_result"
    }
   ],
   "source": [
    "# проверяем строки на пропуски с помощью isnull()\n",
    "data.isnull().sum()"
   ]
  },
  {
   "cell_type": "markdown",
   "metadata": {},
   "source": [
    "Заменим пропуски в столбце `total_income` на медиану в соответствии со значением в столбце `income_type`."
   ]
  },
  {
   "cell_type": "code",
   "execution_count": 11,
   "metadata": {},
   "outputs": [
    {
     "data": {
      "text/plain": [
       "income_type\n",
       "безработный        131339.751676\n",
       "в декрете           53829.130729\n",
       "госслужащий        150420.150276\n",
       "компаньон          172517.418907\n",
       "пенсионер          118480.837408\n",
       "предприниматель    499163.144947\n",
       "сотрудник          142587.588976\n",
       "студент             98201.625314\n",
       "Name: total_income, dtype: float64"
      ]
     },
     "execution_count": 11,
     "metadata": {},
     "output_type": "execute_result"
    }
   ],
   "source": [
    "# Выяисним медианный доход по income_type\n",
    "data.groupby('income_type')['total_income'].median()"
   ]
  },
  {
   "cell_type": "code",
   "execution_count": 12,
   "metadata": {},
   "outputs": [
    {
     "data": {
      "text/html": [
       "<div>\n",
       "<style scoped>\n",
       "    .dataframe tbody tr th:only-of-type {\n",
       "        vertical-align: middle;\n",
       "    }\n",
       "\n",
       "    .dataframe tbody tr th {\n",
       "        vertical-align: top;\n",
       "    }\n",
       "\n",
       "    .dataframe thead th {\n",
       "        text-align: right;\n",
       "    }\n",
       "</style>\n",
       "<table border=\"1\" class=\"dataframe\">\n",
       "  <thead>\n",
       "    <tr style=\"text-align: right;\">\n",
       "      <th></th>\n",
       "      <th>children</th>\n",
       "      <th>family_status</th>\n",
       "      <th>income_type</th>\n",
       "      <th>debt</th>\n",
       "      <th>total_income</th>\n",
       "      <th>purpose</th>\n",
       "      <th>median_income</th>\n",
       "    </tr>\n",
       "  </thead>\n",
       "  <tbody>\n",
       "    <tr>\n",
       "      <td>0</td>\n",
       "      <td>1</td>\n",
       "      <td>женат / замужем</td>\n",
       "      <td>сотрудник</td>\n",
       "      <td>0</td>\n",
       "      <td>253875.639453</td>\n",
       "      <td>покупка жилья</td>\n",
       "      <td>142587.588976</td>\n",
       "    </tr>\n",
       "    <tr>\n",
       "      <td>1</td>\n",
       "      <td>1</td>\n",
       "      <td>женат / замужем</td>\n",
       "      <td>сотрудник</td>\n",
       "      <td>0</td>\n",
       "      <td>112080.014102</td>\n",
       "      <td>приобретение автомобиля</td>\n",
       "      <td>142587.588976</td>\n",
       "    </tr>\n",
       "    <tr>\n",
       "      <td>2</td>\n",
       "      <td>0</td>\n",
       "      <td>женат / замужем</td>\n",
       "      <td>сотрудник</td>\n",
       "      <td>0</td>\n",
       "      <td>145885.952297</td>\n",
       "      <td>покупка жилья</td>\n",
       "      <td>142587.588976</td>\n",
       "    </tr>\n",
       "    <tr>\n",
       "      <td>3</td>\n",
       "      <td>3</td>\n",
       "      <td>женат / замужем</td>\n",
       "      <td>сотрудник</td>\n",
       "      <td>0</td>\n",
       "      <td>267628.550329</td>\n",
       "      <td>дополнительное образование</td>\n",
       "      <td>142587.588976</td>\n",
       "    </tr>\n",
       "    <tr>\n",
       "      <td>4</td>\n",
       "      <td>0</td>\n",
       "      <td>женат / замужем</td>\n",
       "      <td>сотрудник</td>\n",
       "      <td>0</td>\n",
       "      <td>135823.934197</td>\n",
       "      <td>образование</td>\n",
       "      <td>142587.588976</td>\n",
       "    </tr>\n",
       "  </tbody>\n",
       "</table>\n",
       "</div>"
      ],
      "text/plain": [
       "   children    family_status income_type  debt   total_income  \\\n",
       "0         1  женат / замужем   сотрудник     0  253875.639453   \n",
       "1         1  женат / замужем   сотрудник     0  112080.014102   \n",
       "2         0  женат / замужем   сотрудник     0  145885.952297   \n",
       "3         3  женат / замужем   сотрудник     0  267628.550329   \n",
       "4         0  женат / замужем   сотрудник     0  135823.934197   \n",
       "\n",
       "                      purpose  median_income  \n",
       "0               покупка жилья  142587.588976  \n",
       "1     приобретение автомобиля  142587.588976  \n",
       "2               покупка жилья  142587.588976  \n",
       "3  дополнительное образование  142587.588976  \n",
       "4                 образование  142587.588976  "
      ]
     },
     "execution_count": 12,
     "metadata": {},
     "output_type": "execute_result"
    }
   ],
   "source": [
    "# запишем эти данные в таблицу median_income и добавим в таблицу data \n",
    "median_income = data.groupby('income_type')['total_income'].median().reset_index()\n",
    "median_income.columns = ['income_type','median_income']\n",
    "data = data.merge(median_income, on='income_type')\n",
    "data.head()"
   ]
  },
  {
   "cell_type": "code",
   "execution_count": 13,
   "metadata": {},
   "outputs": [
    {
     "name": "stdout",
     "output_type": "stream",
     "text": [
      "В колонке `total_income` нет нулей, можно заменять ими пропуски.\n"
     ]
    }
   ],
   "source": [
    "# проверяем, есть ли в столбце 'total_income' нули, чтобы исключить удаление информации о клиентах, доход которых равен нулю\n",
    "zero_income = data[data['total_income'] == 0]['total_income'].count()\n",
    "\n",
    "if zero_income == 0:\n",
    "    print('В колонке `total_income` нет нулей, можно заменять ими пропуски.')\n",
    "else:\n",
    "    print('Нельзя заменять пропуски нулями')"
   ]
  },
  {
   "cell_type": "code",
   "execution_count": 14,
   "metadata": {
    "scrolled": true
   },
   "outputs": [],
   "source": [
    "# заменяем пропуски в столбце total_income на 0\n",
    "data['total_income'] = data['total_income'].fillna(0)"
   ]
  },
  {
   "cell_type": "code",
   "execution_count": 15,
   "metadata": {},
   "outputs": [],
   "source": [
    "# напишем и применим функцию, которая заменяет пропус в total_income на соответствующее значение в median_income\n",
    "def nan_is_median(row):\n",
    "    total_income = row['total_income']\n",
    "    median_income = row['median_income']\n",
    "    if total_income==0:\n",
    "        total_income=median_income\n",
    "        return total_income\n",
    "    else:\n",
    "        total_income=total_income\n",
    "        return total_income\n",
    "    \n",
    "# заменим пропуски в total_income в соответствии с медианой по income_type\n",
    "data['total_income'] = data.apply(nan_is_median, axis=1)"
   ]
  },
  {
   "cell_type": "code",
   "execution_count": 16,
   "metadata": {},
   "outputs": [
    {
     "data": {
      "text/html": [
       "<div>\n",
       "<style scoped>\n",
       "    .dataframe tbody tr th:only-of-type {\n",
       "        vertical-align: middle;\n",
       "    }\n",
       "\n",
       "    .dataframe tbody tr th {\n",
       "        vertical-align: top;\n",
       "    }\n",
       "\n",
       "    .dataframe thead th {\n",
       "        text-align: right;\n",
       "    }\n",
       "</style>\n",
       "<table border=\"1\" class=\"dataframe\">\n",
       "  <thead>\n",
       "    <tr style=\"text-align: right;\">\n",
       "      <th></th>\n",
       "      <th>children</th>\n",
       "      <th>family_status</th>\n",
       "      <th>debt</th>\n",
       "      <th>total_income</th>\n",
       "      <th>purpose</th>\n",
       "    </tr>\n",
       "  </thead>\n",
       "  <tbody>\n",
       "    <tr>\n",
       "      <td>0</td>\n",
       "      <td>1</td>\n",
       "      <td>женат / замужем</td>\n",
       "      <td>0</td>\n",
       "      <td>253875.639453</td>\n",
       "      <td>покупка жилья</td>\n",
       "    </tr>\n",
       "    <tr>\n",
       "      <td>1</td>\n",
       "      <td>1</td>\n",
       "      <td>женат / замужем</td>\n",
       "      <td>0</td>\n",
       "      <td>112080.014102</td>\n",
       "      <td>приобретение автомобиля</td>\n",
       "    </tr>\n",
       "    <tr>\n",
       "      <td>2</td>\n",
       "      <td>0</td>\n",
       "      <td>женат / замужем</td>\n",
       "      <td>0</td>\n",
       "      <td>145885.952297</td>\n",
       "      <td>покупка жилья</td>\n",
       "    </tr>\n",
       "    <tr>\n",
       "      <td>3</td>\n",
       "      <td>3</td>\n",
       "      <td>женат / замужем</td>\n",
       "      <td>0</td>\n",
       "      <td>267628.550329</td>\n",
       "      <td>дополнительное образование</td>\n",
       "    </tr>\n",
       "    <tr>\n",
       "      <td>4</td>\n",
       "      <td>0</td>\n",
       "      <td>женат / замужем</td>\n",
       "      <td>0</td>\n",
       "      <td>135823.934197</td>\n",
       "      <td>образование</td>\n",
       "    </tr>\n",
       "  </tbody>\n",
       "</table>\n",
       "</div>"
      ],
      "text/plain": [
       "   children    family_status  debt   total_income                     purpose\n",
       "0         1  женат / замужем     0  253875.639453               покупка жилья\n",
       "1         1  женат / замужем     0  112080.014102     приобретение автомобиля\n",
       "2         0  женат / замужем     0  145885.952297               покупка жилья\n",
       "3         3  женат / замужем     0  267628.550329  дополнительное образование\n",
       "4         0  женат / замужем     0  135823.934197                 образование"
      ]
     },
     "execution_count": 16,
     "metadata": {},
     "output_type": "execute_result"
    }
   ],
   "source": [
    "# удалим столбцы median_income и  income_type\n",
    "data = data.drop(['income_type','median_income'], axis=1)\n",
    "\n",
    "data.head()"
   ]
  },
  {
   "cell_type": "markdown",
   "metadata": {},
   "source": [
    "### Замена типов данных\n",
    "<a name=\"datetypes\"></a>"
   ]
  },
  {
   "cell_type": "code",
   "execution_count": 17,
   "metadata": {},
   "outputs": [],
   "source": [
    "# заменим тип данных в колонках 'children', 'family_status', 'debt' на category \n",
    "categories = ['children', 'family_status', 'debt']\n",
    "for category in categories:\n",
    "    data[category] = data[category].astype('category')"
   ]
  },
  {
   "cell_type": "code",
   "execution_count": 18,
   "metadata": {},
   "outputs": [
    {
     "name": "stdout",
     "output_type": "stream",
     "text": [
      "<class 'pandas.core.frame.DataFrame'>\n",
      "Int64Index: 21402 entries, 0 to 21401\n",
      "Data columns (total 5 columns):\n",
      "children         21402 non-null category\n",
      "family_status    21402 non-null category\n",
      "debt             21402 non-null category\n",
      "total_income     21402 non-null float64\n",
      "purpose          21402 non-null object\n",
      "dtypes: category(3), float64(1), object(1)\n",
      "memory usage: 564.8+ KB\n"
     ]
    }
   ],
   "source": [
    "data.info() # проверям результат"
   ]
  },
  {
   "cell_type": "markdown",
   "metadata": {},
   "source": [
    "### Вывод\n",
    "Мы приняли, что в таблице нет дубликатов.\n",
    "\n",
    "Информация о годовом доходе клиентов была пропущена в 2162 строках из 21402. \n",
    "Вероятная причина - человеческая ошибка при внесении данных в таблицу либо нежелание/невозможность клиентов предоставить эту информацию.\n",
    "Так как в значениях столбца есть артефакты, пропуски в `total_income` заменены на медиану по `incom_type`.\n",
    "\n",
    "Произведена замена типов данных в колонках `'children', 'family_status', 'debt'` на category.  \n",
    "В остальных столбцах замена не требуется."
   ]
  },
  {
   "cell_type": "markdown",
   "metadata": {},
   "source": [
    "## Шаг 3. Лемматизация и категоризация \n",
    "<a name=\"lemmas\"></a>\n",
    "#### [Вернуться к оглавлению](#back) "
   ]
  },
  {
   "cell_type": "markdown",
   "metadata": {},
   "source": [
    "- Разделим клиентов на категории по цели получения кредита. Для этого применим лемматизацию;\n",
    "- Также разделим клиентов на категории по уровню дохода."
   ]
  },
  {
   "cell_type": "markdown",
   "metadata": {},
   "source": [
    "### Лемматизация\n"
   ]
  },
  {
   "cell_type": "markdown",
   "metadata": {},
   "source": [
    "Выделим из значений колонки `purpose` основные категории среди целей кредита."
   ]
  },
  {
   "cell_type": "code",
   "execution_count": 19,
   "metadata": {},
   "outputs": [
    {
     "name": "stdout",
     "output_type": "stream",
     "text": [
      "Counter({' ': 96, 'покупка': 10, 'недвижимость': 10, 'автомобиль': 9, 'образование': 9, 'жилье': 7, 'с': 5, 'на': 4, 'свой': 4, 'операция': 4, 'свадьба': 3, 'строительство': 3, 'получение': 3, 'высокий': 3, 'дополнительный': 2, 'для': 2, 'коммерческий': 2, 'подержать': 2, 'заниматься': 2, 'сделка': 2, 'жилой': 2, 'приобретение': 1, 'проведение': 1, 'семья': 1, 'собственный': 1, 'сыграть': 1, 'со': 1, 'профильный': 1, 'сдача': 1, 'ремонт': 1, '\\n': 1})\n",
      "\n",
      "['покупка жилья' 'приобретение автомобиля' 'дополнительное образование'\n",
      " 'образование' 'на проведение свадьбы' 'покупка жилья для семьи'\n",
      " 'покупка коммерческой недвижимости'\n",
      " 'строительство собственной недвижимости' 'недвижимость'\n",
      " 'строительство недвижимости' 'на покупку своего автомобиля'\n",
      " 'на покупку подержанного автомобиля' 'сыграть свадьбу' 'жилье'\n",
      " 'операции со своей недвижимостью' 'автомобили' 'получение образования'\n",
      " 'заняться образованием' 'автомобиль' 'свадьба'\n",
      " 'получение дополнительного образования' 'покупка недвижимости'\n",
      " 'операции с жильем' 'сделка с подержанным автомобилем'\n",
      " 'покупка своего жилья' 'операции с недвижимостью' 'свой автомобиль'\n",
      " 'профильное образование' 'высшее образование' 'сделка с автомобилем'\n",
      " 'покупка жилой недвижимости' 'на покупку автомобиля'\n",
      " 'покупка жилья для сдачи' 'операции с коммерческой недвижимостью'\n",
      " 'строительство жилой недвижимости' 'ремонт жилью'\n",
      " 'получение высшего образования' 'заняться высшим образованием']\n"
     ]
    }
   ],
   "source": [
    "purposes = data['purpose'].unique() #сохраняем уникальные значения столбца 'purpose' в переменную\n",
    "purposes = ' '.join(purposes) #объединяем эти значения в строку\n",
    "lemmas = m.lemmatize(purposes) #лемматизируем значения столбца с целями получения кредита\n",
    "\n",
    "from collections import Counter # импортируем Counter для подсчета количества часто встречающихся слов в 'purpose'\n",
    "print(Counter(lemmas)) # вызываем Counter \n",
    "print()\n",
    "print(data['purpose'].unique()) # печатаем список уникальных значений 'purpose' \n",
    "# Смотря на оба списка, оцениваем, какие слова из часто встречающихся можно отнести к одной категории"
   ]
  },
  {
   "cell_type": "markdown",
   "metadata": {},
   "source": [
    "### Вывод\n",
    "\n",
    "Цели получения кредита в данной таблице разделяются на 4 категории: \n",
    "+ недвижимость (объединяет цели, в леммах которых есть фразы недвижимость + жилье + строительство + ремонт), \n",
    "+ автомобиль, \n",
    "+ образование, \n",
    "+ свадьба."
   ]
  },
  {
   "cell_type": "markdown",
   "metadata": {},
   "source": [
    "### Категоризация данных"
   ]
  },
  {
   "cell_type": "code",
   "execution_count": 20,
   "metadata": {},
   "outputs": [],
   "source": [
    "# Разделим цели получения кредита на категории, которые мы определили в шаге \"Лемматизация\"\n",
    "\n",
    "# создаем столбец для категорий целей\n",
    "data['purpose_category'] = ' '"
   ]
  },
  {
   "cell_type": "code",
   "execution_count": 21,
   "metadata": {},
   "outputs": [
    {
     "data": {
      "text/html": [
       "<div>\n",
       "<style scoped>\n",
       "    .dataframe tbody tr th:only-of-type {\n",
       "        vertical-align: middle;\n",
       "    }\n",
       "\n",
       "    .dataframe tbody tr th {\n",
       "        vertical-align: top;\n",
       "    }\n",
       "\n",
       "    .dataframe thead th {\n",
       "        text-align: right;\n",
       "    }\n",
       "</style>\n",
       "<table border=\"1\" class=\"dataframe\">\n",
       "  <thead>\n",
       "    <tr style=\"text-align: right;\">\n",
       "      <th></th>\n",
       "      <th>children</th>\n",
       "      <th>family_status</th>\n",
       "      <th>debt</th>\n",
       "      <th>total_income</th>\n",
       "      <th>purpose</th>\n",
       "      <th>purpose_category</th>\n",
       "    </tr>\n",
       "  </thead>\n",
       "  <tbody>\n",
       "    <tr>\n",
       "      <td>0</td>\n",
       "      <td>1</td>\n",
       "      <td>женат / замужем</td>\n",
       "      <td>0</td>\n",
       "      <td>253875.639453</td>\n",
       "      <td>покупка жилья</td>\n",
       "      <td>недвижимость</td>\n",
       "    </tr>\n",
       "    <tr>\n",
       "      <td>1</td>\n",
       "      <td>1</td>\n",
       "      <td>женат / замужем</td>\n",
       "      <td>0</td>\n",
       "      <td>112080.014102</td>\n",
       "      <td>приобретение автомобиля</td>\n",
       "      <td>автомобиль</td>\n",
       "    </tr>\n",
       "    <tr>\n",
       "      <td>2</td>\n",
       "      <td>0</td>\n",
       "      <td>женат / замужем</td>\n",
       "      <td>0</td>\n",
       "      <td>145885.952297</td>\n",
       "      <td>покупка жилья</td>\n",
       "      <td>недвижимость</td>\n",
       "    </tr>\n",
       "    <tr>\n",
       "      <td>3</td>\n",
       "      <td>3</td>\n",
       "      <td>женат / замужем</td>\n",
       "      <td>0</td>\n",
       "      <td>267628.550329</td>\n",
       "      <td>дополнительное образование</td>\n",
       "      <td>образование</td>\n",
       "    </tr>\n",
       "    <tr>\n",
       "      <td>4</td>\n",
       "      <td>0</td>\n",
       "      <td>женат / замужем</td>\n",
       "      <td>0</td>\n",
       "      <td>135823.934197</td>\n",
       "      <td>образование</td>\n",
       "      <td>образование</td>\n",
       "    </tr>\n",
       "  </tbody>\n",
       "</table>\n",
       "</div>"
      ],
      "text/plain": [
       "  children    family_status debt   total_income                     purpose  \\\n",
       "0        1  женат / замужем    0  253875.639453               покупка жилья   \n",
       "1        1  женат / замужем    0  112080.014102     приобретение автомобиля   \n",
       "2        0  женат / замужем    0  145885.952297               покупка жилья   \n",
       "3        3  женат / замужем    0  267628.550329  дополнительное образование   \n",
       "4        0  женат / замужем    0  135823.934197                 образование   \n",
       "\n",
       "  purpose_category  \n",
       "0     недвижимость  \n",
       "1       автомобиль  \n",
       "2     недвижимость  \n",
       "3      образование  \n",
       "4      образование  "
      ]
     },
     "execution_count": 21,
     "metadata": {},
     "output_type": "execute_result"
    }
   ],
   "source": [
    "# пишем функцию, которая заменяет строку на одну из категорий в соответствии с леммой цели\n",
    "def categorizing_purpose(purposes):\n",
    "        lemmas = m.lemmatize(purposes) #лемматизируем исходную строку\n",
    "        for name in lemmas: #если среди строки есть ключевое слово, производим замену на соответсвующую категорию\n",
    "            if name == 'жилье':\n",
    "                purposes = 'недвижимость'    \n",
    "                return purposes\n",
    "            elif name == 'недвижимость':\n",
    "                purposes = 'недвижимость'    \n",
    "                return purposes\n",
    "            elif name == 'строительство':\n",
    "                purposes = 'недвижимость'    \n",
    "                return purposes\n",
    "            elif name == 'ремонт':\n",
    "                purposes = 'недвижимость'    \n",
    "                return purposes\n",
    "            \n",
    "            elif name == 'автомобиль':\n",
    "                purposes = 'автомобиль'\n",
    "                return purposes\n",
    "\n",
    "            elif name == 'образование':\n",
    "                purposes = 'образование'\n",
    "                return purposes\n",
    "            \n",
    "            elif name == 'свадьба':\n",
    "                purposes = 'свадьба'\n",
    "                return purposes\n",
    "\n",
    "data['purpose_category'] = data['purpose'].apply(categorizing_purpose) # применяем эту функцию к кажой строке таблицы\n",
    "data.head() # смотрим на результат в первых пяти строках"
   ]
  },
  {
   "cell_type": "code",
   "execution_count": 22,
   "metadata": {},
   "outputs": [
    {
     "data": {
      "text/html": [
       "<div>\n",
       "<style scoped>\n",
       "    .dataframe tbody tr th:only-of-type {\n",
       "        vertical-align: middle;\n",
       "    }\n",
       "\n",
       "    .dataframe tbody tr th {\n",
       "        vertical-align: top;\n",
       "    }\n",
       "\n",
       "    .dataframe thead th {\n",
       "        text-align: right;\n",
       "    }\n",
       "</style>\n",
       "<table border=\"1\" class=\"dataframe\">\n",
       "  <thead>\n",
       "    <tr style=\"text-align: right;\">\n",
       "      <th></th>\n",
       "      <th>children</th>\n",
       "      <th>family_status</th>\n",
       "      <th>debt</th>\n",
       "      <th>total_income</th>\n",
       "      <th>purpose</th>\n",
       "      <th>purpose_category</th>\n",
       "      <th>children_id</th>\n",
       "    </tr>\n",
       "  </thead>\n",
       "  <tbody>\n",
       "    <tr>\n",
       "      <td>0</td>\n",
       "      <td>1</td>\n",
       "      <td>женат / замужем</td>\n",
       "      <td>0</td>\n",
       "      <td>253875.639453</td>\n",
       "      <td>покупка жилья</td>\n",
       "      <td>недвижимость</td>\n",
       "      <td>дети есть</td>\n",
       "    </tr>\n",
       "    <tr>\n",
       "      <td>1</td>\n",
       "      <td>1</td>\n",
       "      <td>женат / замужем</td>\n",
       "      <td>0</td>\n",
       "      <td>112080.014102</td>\n",
       "      <td>приобретение автомобиля</td>\n",
       "      <td>автомобиль</td>\n",
       "      <td>дети есть</td>\n",
       "    </tr>\n",
       "    <tr>\n",
       "      <td>2</td>\n",
       "      <td>0</td>\n",
       "      <td>женат / замужем</td>\n",
       "      <td>0</td>\n",
       "      <td>145885.952297</td>\n",
       "      <td>покупка жилья</td>\n",
       "      <td>недвижимость</td>\n",
       "      <td>детей нет</td>\n",
       "    </tr>\n",
       "    <tr>\n",
       "      <td>3</td>\n",
       "      <td>3</td>\n",
       "      <td>женат / замужем</td>\n",
       "      <td>0</td>\n",
       "      <td>267628.550329</td>\n",
       "      <td>дополнительное образование</td>\n",
       "      <td>образование</td>\n",
       "      <td>дети есть</td>\n",
       "    </tr>\n",
       "    <tr>\n",
       "      <td>4</td>\n",
       "      <td>0</td>\n",
       "      <td>женат / замужем</td>\n",
       "      <td>0</td>\n",
       "      <td>135823.934197</td>\n",
       "      <td>образование</td>\n",
       "      <td>образование</td>\n",
       "      <td>детей нет</td>\n",
       "    </tr>\n",
       "  </tbody>\n",
       "</table>\n",
       "</div>"
      ],
      "text/plain": [
       "  children    family_status debt   total_income                     purpose  \\\n",
       "0        1  женат / замужем    0  253875.639453               покупка жилья   \n",
       "1        1  женат / замужем    0  112080.014102     приобретение автомобиля   \n",
       "2        0  женат / замужем    0  145885.952297               покупка жилья   \n",
       "3        3  женат / замужем    0  267628.550329  дополнительное образование   \n",
       "4        0  женат / замужем    0  135823.934197                 образование   \n",
       "\n",
       "  purpose_category children_id  \n",
       "0     недвижимость   дети есть  \n",
       "1       автомобиль   дети есть  \n",
       "2     недвижимость   детей нет  \n",
       "3      образование   дети есть  \n",
       "4      образование   детей нет  "
      ]
     },
     "execution_count": 22,
     "metadata": {},
     "output_type": "execute_result"
    }
   ],
   "source": [
    "# Разделим клиентов на имеющих и не имеющих детей\n",
    "data['children_id'] = ' ' # добавим столбец, идентифицирующий наличие детей\n",
    "# пишем функцию для обозначения наличия у клиента детей по их (детей) количеству\n",
    "def children_yesno(row):  \n",
    "    children = row['children']\n",
    "    children_id = row['children_id']\n",
    "    if children == 0:\n",
    "        return 'детей нет'\n",
    "    return 'дети есть'\n",
    "\n",
    "data['children_id'] = data.apply(children_yesno, axis=1) # результаты выносим в столбец 'children_id'\n",
    "data.head()"
   ]
  },
  {
   "cell_type": "code",
   "execution_count": 23,
   "metadata": {},
   "outputs": [
    {
     "data": {
      "text/html": [
       "<div>\n",
       "<style scoped>\n",
       "    .dataframe tbody tr th:only-of-type {\n",
       "        vertical-align: middle;\n",
       "    }\n",
       "\n",
       "    .dataframe tbody tr th {\n",
       "        vertical-align: top;\n",
       "    }\n",
       "\n",
       "    .dataframe thead th {\n",
       "        text-align: right;\n",
       "    }\n",
       "</style>\n",
       "<table border=\"1\" class=\"dataframe\">\n",
       "  <thead>\n",
       "    <tr style=\"text-align: right;\">\n",
       "      <th></th>\n",
       "      <th>children</th>\n",
       "      <th>family_status</th>\n",
       "      <th>debt</th>\n",
       "      <th>total_income</th>\n",
       "      <th>purpose</th>\n",
       "      <th>purpose_category</th>\n",
       "      <th>children_id</th>\n",
       "      <th>debt_id</th>\n",
       "    </tr>\n",
       "  </thead>\n",
       "  <tbody>\n",
       "    <tr>\n",
       "      <td>0</td>\n",
       "      <td>1</td>\n",
       "      <td>женат / замужем</td>\n",
       "      <td>0</td>\n",
       "      <td>253875.639453</td>\n",
       "      <td>покупка жилья</td>\n",
       "      <td>недвижимость</td>\n",
       "      <td>дети есть</td>\n",
       "      <td>Нет задолженностей</td>\n",
       "    </tr>\n",
       "    <tr>\n",
       "      <td>1</td>\n",
       "      <td>1</td>\n",
       "      <td>женат / замужем</td>\n",
       "      <td>0</td>\n",
       "      <td>112080.014102</td>\n",
       "      <td>приобретение автомобиля</td>\n",
       "      <td>автомобиль</td>\n",
       "      <td>дети есть</td>\n",
       "      <td>Нет задолженностей</td>\n",
       "    </tr>\n",
       "    <tr>\n",
       "      <td>2</td>\n",
       "      <td>0</td>\n",
       "      <td>женат / замужем</td>\n",
       "      <td>0</td>\n",
       "      <td>145885.952297</td>\n",
       "      <td>покупка жилья</td>\n",
       "      <td>недвижимость</td>\n",
       "      <td>детей нет</td>\n",
       "      <td>Нет задолженностей</td>\n",
       "    </tr>\n",
       "    <tr>\n",
       "      <td>3</td>\n",
       "      <td>3</td>\n",
       "      <td>женат / замужем</td>\n",
       "      <td>0</td>\n",
       "      <td>267628.550329</td>\n",
       "      <td>дополнительное образование</td>\n",
       "      <td>образование</td>\n",
       "      <td>дети есть</td>\n",
       "      <td>Нет задолженностей</td>\n",
       "    </tr>\n",
       "    <tr>\n",
       "      <td>4</td>\n",
       "      <td>0</td>\n",
       "      <td>женат / замужем</td>\n",
       "      <td>0</td>\n",
       "      <td>135823.934197</td>\n",
       "      <td>образование</td>\n",
       "      <td>образование</td>\n",
       "      <td>детей нет</td>\n",
       "      <td>Нет задолженностей</td>\n",
       "    </tr>\n",
       "  </tbody>\n",
       "</table>\n",
       "</div>"
      ],
      "text/plain": [
       "  children    family_status debt   total_income                     purpose  \\\n",
       "0        1  женат / замужем    0  253875.639453               покупка жилья   \n",
       "1        1  женат / замужем    0  112080.014102     приобретение автомобиля   \n",
       "2        0  женат / замужем    0  145885.952297               покупка жилья   \n",
       "3        3  женат / замужем    0  267628.550329  дополнительное образование   \n",
       "4        0  женат / замужем    0  135823.934197                 образование   \n",
       "\n",
       "  purpose_category children_id             debt_id  \n",
       "0     недвижимость   дети есть  Нет задолженностей  \n",
       "1       автомобиль   дети есть  Нет задолженностей  \n",
       "2     недвижимость   детей нет  Нет задолженностей  \n",
       "3      образование   дети есть  Нет задолженностей  \n",
       "4      образование   детей нет  Нет задолженностей  "
      ]
     },
     "execution_count": 23,
     "metadata": {},
     "output_type": "execute_result"
    }
   ],
   "source": [
    "# Разделим клиентов на имеющих и не имеющих задолженности\n",
    "data['debt_id'] = ' ' # добавим столбец, идентифицирующий наличие задолженностей\n",
    "# пишем функцию для обозначения наличия у клиента задолженностей\n",
    "def debt_id(row):\n",
    "    debt = row['debt']\n",
    "    if debt==0:\n",
    "        return 'Нет задолженностей'\n",
    "    else:\n",
    "        return 'Есть задолженности'\n",
    "    \n",
    "data['debt_id'] = data.apply(debt_id, axis=1) # результаты выносим в столбец 'debt_id'\n",
    "data.head()"
   ]
  },
  {
   "cell_type": "code",
   "execution_count": 24,
   "metadata": {},
   "outputs": [
    {
     "data": {
      "text/html": [
       "<div>\n",
       "<style scoped>\n",
       "    .dataframe tbody tr th:only-of-type {\n",
       "        vertical-align: middle;\n",
       "    }\n",
       "\n",
       "    .dataframe tbody tr th {\n",
       "        vertical-align: top;\n",
       "    }\n",
       "\n",
       "    .dataframe thead th {\n",
       "        text-align: right;\n",
       "    }\n",
       "</style>\n",
       "<table border=\"1\" class=\"dataframe\">\n",
       "  <thead>\n",
       "    <tr style=\"text-align: right;\">\n",
       "      <th></th>\n",
       "      <th>children</th>\n",
       "      <th>family_status</th>\n",
       "      <th>debt</th>\n",
       "      <th>total_income</th>\n",
       "      <th>purpose</th>\n",
       "      <th>purpose_category</th>\n",
       "      <th>children_id</th>\n",
       "      <th>debt_id</th>\n",
       "      <th>income_level</th>\n",
       "    </tr>\n",
       "  </thead>\n",
       "  <tbody>\n",
       "    <tr>\n",
       "      <td>0</td>\n",
       "      <td>1</td>\n",
       "      <td>женат / замужем</td>\n",
       "      <td>0</td>\n",
       "      <td>253875.639453</td>\n",
       "      <td>покупка жилья</td>\n",
       "      <td>недвижимость</td>\n",
       "      <td>дети есть</td>\n",
       "      <td>Нет задолженностей</td>\n",
       "      <td>Высокий уровень дохода</td>\n",
       "    </tr>\n",
       "    <tr>\n",
       "      <td>1</td>\n",
       "      <td>1</td>\n",
       "      <td>женат / замужем</td>\n",
       "      <td>0</td>\n",
       "      <td>112080.014102</td>\n",
       "      <td>приобретение автомобиля</td>\n",
       "      <td>автомобиль</td>\n",
       "      <td>дети есть</td>\n",
       "      <td>Нет задолженностей</td>\n",
       "      <td>Ниже среднего</td>\n",
       "    </tr>\n",
       "    <tr>\n",
       "      <td>2</td>\n",
       "      <td>0</td>\n",
       "      <td>женат / замужем</td>\n",
       "      <td>0</td>\n",
       "      <td>145885.952297</td>\n",
       "      <td>покупка жилья</td>\n",
       "      <td>недвижимость</td>\n",
       "      <td>детей нет</td>\n",
       "      <td>Нет задолженностей</td>\n",
       "      <td>Выше среднего</td>\n",
       "    </tr>\n",
       "    <tr>\n",
       "      <td>3</td>\n",
       "      <td>3</td>\n",
       "      <td>женат / замужем</td>\n",
       "      <td>0</td>\n",
       "      <td>267628.550329</td>\n",
       "      <td>дополнительное образование</td>\n",
       "      <td>образование</td>\n",
       "      <td>дети есть</td>\n",
       "      <td>Нет задолженностей</td>\n",
       "      <td>Высокий уровень дохода</td>\n",
       "    </tr>\n",
       "    <tr>\n",
       "      <td>4</td>\n",
       "      <td>0</td>\n",
       "      <td>женат / замужем</td>\n",
       "      <td>0</td>\n",
       "      <td>135823.934197</td>\n",
       "      <td>образование</td>\n",
       "      <td>образование</td>\n",
       "      <td>детей нет</td>\n",
       "      <td>Нет задолженностей</td>\n",
       "      <td>Ниже среднего</td>\n",
       "    </tr>\n",
       "  </tbody>\n",
       "</table>\n",
       "</div>"
      ],
      "text/plain": [
       "  children    family_status debt   total_income                     purpose  \\\n",
       "0        1  женат / замужем    0  253875.639453               покупка жилья   \n",
       "1        1  женат / замужем    0  112080.014102     приобретение автомобиля   \n",
       "2        0  женат / замужем    0  145885.952297               покупка жилья   \n",
       "3        3  женат / замужем    0  267628.550329  дополнительное образование   \n",
       "4        0  женат / замужем    0  135823.934197                 образование   \n",
       "\n",
       "  purpose_category children_id             debt_id            income_level  \n",
       "0     недвижимость   дети есть  Нет задолженностей  Высокий уровень дохода  \n",
       "1       автомобиль   дети есть  Нет задолженностей           Ниже среднего  \n",
       "2     недвижимость   детей нет  Нет задолженностей           Выше среднего  \n",
       "3      образование   дети есть  Нет задолженностей  Высокий уровень дохода  \n",
       "4      образование   детей нет  Нет задолженностей           Ниже среднего  "
      ]
     },
     "execution_count": 24,
     "metadata": {},
     "output_type": "execute_result"
    }
   ],
   "source": [
    "# Разделим клиентов по уровню дохода, используя квартили\n",
    "\n",
    "data['income_level'] = pd.qcut(data['total_income'], 4, \n",
    "                               ['Низкий уровень дохода','Ниже среднего','Выше среднего','Высокий уровень дохода'])\n",
    "data.head()"
   ]
  },
  {
   "cell_type": "markdown",
   "metadata": {},
   "source": [
    "### Вывод"
   ]
  },
  {
   "cell_type": "markdown",
   "metadata": {},
   "source": [
    "Для анализа зависимостей характеристик клиента мы создали определенные категории:\n",
    "* **children_id** для анализа зависимость между наличием детей и возвратом кредита в срок\n",
    "* **income_level** для рассмотрения зависимостей между **уровенем дохода** и возвратом кредита в срок\n",
    "* **purpose_category** для исследования связей между **целями получения кредита** и его возвратом в срок\n",
    "* **debt_id** для более наглядной иллюстрации в сводных таблицах"
   ]
  },
  {
   "cell_type": "markdown",
   "metadata": {},
   "source": [
    "## Шаг 4. Анализ данных\n",
    "\n",
    "<a name=\"analysis\"></a>\n",
    "#### [Вернуться к оглавлению](#back) "
   ]
  },
  {
   "cell_type": "markdown",
   "metadata": {},
   "source": [
    "Ответим на вопросы:  \n",
    "- Есть ли зависимость между наличием детей и возвратом кредита в срок?\n",
    "- Есть ли зависимость между семейным положением и возвратом кредита в срок?\n",
    "- Есть ли зависимость между уровнем дохода и возвратом кредита в срок?\n",
    "- Как разные цели кредита влияют на его возврат в срок?"
   ]
  },
  {
   "cell_type": "markdown",
   "metadata": {},
   "source": [
    "### Зависимость между наличием детей и возвратом кредита в срок"
   ]
  },
  {
   "cell_type": "code",
   "execution_count": 25,
   "metadata": {},
   "outputs": [
    {
     "data": {
      "text/html": [
       "<div>\n",
       "<style scoped>\n",
       "    .dataframe tbody tr th:only-of-type {\n",
       "        vertical-align: middle;\n",
       "    }\n",
       "\n",
       "    .dataframe tbody tr th {\n",
       "        vertical-align: top;\n",
       "    }\n",
       "\n",
       "    .dataframe thead th {\n",
       "        text-align: right;\n",
       "    }\n",
       "</style>\n",
       "<table border=\"1\" class=\"dataframe\">\n",
       "  <thead>\n",
       "    <tr style=\"text-align: right;\">\n",
       "      <th>debt_id</th>\n",
       "      <th>Есть задолженности</th>\n",
       "      <th>Нет задолженностей</th>\n",
       "      <th>share</th>\n",
       "    </tr>\n",
       "    <tr>\n",
       "      <th>children_id</th>\n",
       "      <th></th>\n",
       "      <th></th>\n",
       "      <th></th>\n",
       "    </tr>\n",
       "  </thead>\n",
       "  <tbody>\n",
       "    <tr>\n",
       "      <td>детей нет</td>\n",
       "      <td>1063</td>\n",
       "      <td>13086</td>\n",
       "      <td>7.51%</td>\n",
       "    </tr>\n",
       "    <tr>\n",
       "      <td>дети есть</td>\n",
       "      <td>669</td>\n",
       "      <td>6584</td>\n",
       "      <td>9.22%</td>\n",
       "    </tr>\n",
       "  </tbody>\n",
       "</table>\n",
       "</div>"
      ],
      "text/plain": [
       "debt_id      Есть задолженности  Нет задолженностей  share\n",
       "children_id                                               \n",
       "детей нет                  1063               13086  7.51%\n",
       "дети есть                   669                6584  9.22%"
      ]
     },
     "execution_count": 25,
     "metadata": {},
     "output_type": "execute_result"
    }
   ],
   "source": [
    "# Рассмотрим как меняется вероятность задолженности по кредиту от наличия детей\n",
    "children_debt_pivot = data.pivot_table(index='children_id', columns='debt_id', values='debt', aggfunc='count')\n",
    "children_debt_pivot['share'] = children_debt_pivot['Есть задолженности'] / \\\n",
    "                                (children_debt_pivot['Есть задолженности'] + children_debt_pivot['Нет задолженностей'])\n",
    "children_debt_pivot['share'] = children_debt_pivot['share'].map('{:,.2%}'.format)\n",
    "children_debt_pivot"
   ]
  },
  {
   "cell_type": "markdown",
   "metadata": {},
   "source": [
    "Среди клиентов, имеющих детей, 9.22% имеют задолженность по возврату кредитов, 90.78% - не имеют.  \n",
    "Среди клиентов, не имеющих детей, 7.51% имеют задолженность по возврату кредитов, 92.49% - не имеют."
   ]
  },
  {
   "cell_type": "code",
   "execution_count": 26,
   "metadata": {},
   "outputs": [
    {
     "data": {
      "text/html": [
       "<div>\n",
       "<style scoped>\n",
       "    .dataframe tbody tr th:only-of-type {\n",
       "        vertical-align: middle;\n",
       "    }\n",
       "\n",
       "    .dataframe tbody tr th {\n",
       "        vertical-align: top;\n",
       "    }\n",
       "\n",
       "    .dataframe thead th {\n",
       "        text-align: right;\n",
       "    }\n",
       "</style>\n",
       "<table border=\"1\" class=\"dataframe\">\n",
       "  <thead>\n",
       "    <tr style=\"text-align: right;\">\n",
       "      <th>debt_id</th>\n",
       "      <th>debt_probability</th>\n",
       "    </tr>\n",
       "    <tr>\n",
       "      <th>children</th>\n",
       "      <th></th>\n",
       "    </tr>\n",
       "  </thead>\n",
       "  <tbody>\n",
       "    <tr>\n",
       "      <td>0</td>\n",
       "      <td>7.51%</td>\n",
       "    </tr>\n",
       "    <tr>\n",
       "      <td>1</td>\n",
       "      <td>9.22%</td>\n",
       "    </tr>\n",
       "    <tr>\n",
       "      <td>2</td>\n",
       "      <td>9.44%</td>\n",
       "    </tr>\n",
       "    <tr>\n",
       "      <td>3</td>\n",
       "      <td>8.18%</td>\n",
       "    </tr>\n",
       "    <tr>\n",
       "      <td>4</td>\n",
       "      <td>9.76%</td>\n",
       "    </tr>\n",
       "    <tr>\n",
       "      <td>5</td>\n",
       "      <td>0.00%</td>\n",
       "    </tr>\n",
       "  </tbody>\n",
       "</table>\n",
       "</div>"
      ],
      "text/plain": [
       "debt_id  debt_probability\n",
       "children                 \n",
       "0                   7.51%\n",
       "1                   9.22%\n",
       "2                   9.44%\n",
       "3                   8.18%\n",
       "4                   9.76%\n",
       "5                   0.00%"
      ]
     },
     "execution_count": 26,
     "metadata": {},
     "output_type": "execute_result"
    }
   ],
   "source": [
    "# Теперь рассмотрим, как количество детей влияет на эту зависимость.\n",
    "\n",
    "# Cоздаем сводную таблицу, отображающую зависимость количества детей и наличия просрочек по оплате кредита\n",
    "children_debt_pivot = data.pivot_table(index='children',\n",
    "                                      columns='debt_id', values='debt', aggfunc='count'\n",
    "                                      ).fillna(0)\n",
    "# расчитываем отношение задолжников в каждой группе с количеством человек в группе\n",
    "children_debt_pivot['debt_probability']= children_debt_pivot['Есть задолженности'] / \\\n",
    "                                        (children_debt_pivot['Есть задолженности'] + children_debt_pivot['Нет задолженностей']) \n",
    "# переводим это отношение в проценты\n",
    "children_debt_pivot['debt_probability'] = children_debt_pivot['debt_probability'].map('{:,.2%}'.format)\n",
    "\n",
    "# печатаем таблицу\n",
    "children_debt_pivot.drop(['Есть задолженности', 'Нет задолженностей'], axis=1)"
   ]
  },
  {
   "cell_type": "markdown",
   "metadata": {},
   "source": [
    "### Вывод"
   ]
  },
  {
   "cell_type": "markdown",
   "metadata": {},
   "source": [
    "Среди клиентов, **имеющих детей**, *9.22%* имеют задолженность по возврату кредитов, *90.78%* - не имеют.  \n",
    "Среди клиентов, **не имеющих детей**, *7.51%* имеют задолженность по возврату кредитов, *92.49%* - не имеют.\n",
    "\n",
    "Таким образом, ***клиенты без детей имеют больше шансов оплачивать кредит без задолженностей.***\n",
    "\n",
    "***Разница в вероятности задолженностей в зависимости от количества детей у клиента невелика*** (в семьях с пятью детьми наблюдается идеальная кредитная история, в остальных случаях варьируется *от 8.18%* в семьях с тремя детьми до *9.76%* в семьях с четыремя детьми). Однако стоит учесть, что в данной таблице количество клиентов тем меньше, чем больше у них детей (например, семей с пятью детьми всего 9, в то время как клиентов с одним ребенком - 14149), а значит точность вероятности задолженности снижается с увеличением количества детей у клиента. "
   ]
  },
  {
   "cell_type": "markdown",
   "metadata": {},
   "source": [
    "### Зависимость между семейным положением и возвратом кредита в срок"
   ]
  },
  {
   "cell_type": "code",
   "execution_count": 27,
   "metadata": {},
   "outputs": [
    {
     "data": {
      "text/html": [
       "<div>\n",
       "<style scoped>\n",
       "    .dataframe tbody tr th:only-of-type {\n",
       "        vertical-align: middle;\n",
       "    }\n",
       "\n",
       "    .dataframe tbody tr th {\n",
       "        vertical-align: top;\n",
       "    }\n",
       "\n",
       "    .dataframe thead th {\n",
       "        text-align: right;\n",
       "    }\n",
       "</style>\n",
       "<table border=\"1\" class=\"dataframe\">\n",
       "  <thead>\n",
       "    <tr style=\"text-align: right;\">\n",
       "      <th>debt_id</th>\n",
       "      <th>Есть задолженности</th>\n",
       "      <th>Нет задолженностей</th>\n",
       "      <th>Вероятность задолженности</th>\n",
       "    </tr>\n",
       "    <tr>\n",
       "      <th>family_status</th>\n",
       "      <th></th>\n",
       "      <th></th>\n",
       "      <th></th>\n",
       "    </tr>\n",
       "  </thead>\n",
       "  <tbody>\n",
       "    <tr>\n",
       "      <td>вдовец / вдова</td>\n",
       "      <td>63</td>\n",
       "      <td>889</td>\n",
       "      <td>6.62%</td>\n",
       "    </tr>\n",
       "    <tr>\n",
       "      <td>в разводе</td>\n",
       "      <td>84</td>\n",
       "      <td>1105</td>\n",
       "      <td>7.06%</td>\n",
       "    </tr>\n",
       "    <tr>\n",
       "      <td>женат / замужем</td>\n",
       "      <td>927</td>\n",
       "      <td>11375</td>\n",
       "      <td>7.54%</td>\n",
       "    </tr>\n",
       "    <tr>\n",
       "      <td>гражданский брак</td>\n",
       "      <td>385</td>\n",
       "      <td>3775</td>\n",
       "      <td>9.25%</td>\n",
       "    </tr>\n",
       "    <tr>\n",
       "      <td>Не женат / не замужем</td>\n",
       "      <td>273</td>\n",
       "      <td>2526</td>\n",
       "      <td>9.75%</td>\n",
       "    </tr>\n",
       "  </tbody>\n",
       "</table>\n",
       "</div>"
      ],
      "text/plain": [
       "debt_id                Есть задолженности  Нет задолженностей  \\\n",
       "family_status                                                   \n",
       "вдовец / вдова                         63                 889   \n",
       "в разводе                              84                1105   \n",
       "женат / замужем                       927               11375   \n",
       "гражданский брак                      385                3775   \n",
       "Не женат / не замужем                 273                2526   \n",
       "\n",
       "debt_id               Вероятность задолженности  \n",
       "family_status                                    \n",
       "вдовец / вдова                            6.62%  \n",
       "в разводе                                 7.06%  \n",
       "женат / замужем                           7.54%  \n",
       "гражданский брак                          9.25%  \n",
       "Не женат / не замужем                     9.75%  "
      ]
     },
     "execution_count": 27,
     "metadata": {},
     "output_type": "execute_result"
    }
   ],
   "source": [
    "# Рассмотрим как меняется вероятность допустить задолженность по кредиту от семейного положения.\n",
    "# создаем сводную таблицу, отображающую зависимость семейного положения и наличия просрочек по оплате кредита\n",
    "family_debt_pivot = data.pivot_table(index=['family_status'], columns='debt_id', values='debt', aggfunc='count')\n",
    "\n",
    "# расчитываем отношение задолжников в каждой группе с количеством человек в группе\n",
    "family_debt_pivot['Вероятность задолженности']= family_debt_pivot['Есть задолженности'] / (family_debt_pivot['Есть задолженности'] + family_debt_pivot['Нет задолженностей']) \n",
    "# переводим это отношение в проценты\n",
    "family_debt_pivot['Вероятность задолженности'] = family_debt_pivot['Вероятность задолженности'].map('{:,.2%}'.format)\n",
    "# сортируем таблицу по возрастанию вероятности допущения задолженности\n",
    "family_debt_pivot = family_debt_pivot.sort_values(by = ['Вероятность задолженности'], ascending = True)\n",
    "\n",
    "# печатаем таблицу\n",
    "family_debt_pivot"
   ]
  },
  {
   "cell_type": "markdown",
   "metadata": {},
   "source": [
    "### Вывод"
   ]
  },
  {
   "cell_type": "markdown",
   "metadata": {},
   "source": [
    "По результатам анализа самыми добросовестными плательщиками являются **вдовцы и вдовы**, среди них лишь *6.62%* имели задолженности по кредитам. Клиенты же, **не состоящие в браке**, не оплачивают кредит вовремя *на 47% чаще*.\n",
    "\n",
    "Состоящие в гражданском браке клиенты также находятся в высокой зоне риска иметь кредитные задолженности.\n",
    "\n",
    "Примечательно, что ***те, кто не состояли в официальном браке, с большей вероятностью будут иметь просрочки по кредитным платежам.***"
   ]
  },
  {
   "cell_type": "markdown",
   "metadata": {},
   "source": [
    "### Зависимость между уровнем дохода и возвратом кредита в срок"
   ]
  },
  {
   "cell_type": "code",
   "execution_count": 28,
   "metadata": {},
   "outputs": [
    {
     "data": {
      "text/plain": [
       "count    2.140200e+04\n",
       "mean     1.652504e+05\n",
       "std      9.817000e+04\n",
       "min      2.066726e+04\n",
       "25%      1.077163e+05\n",
       "50%      1.425876e+05\n",
       "75%      1.956010e+05\n",
       "max      2.265604e+06\n",
       "Name: total_income, dtype: float64"
      ]
     },
     "execution_count": 28,
     "metadata": {},
     "output_type": "execute_result"
    }
   ],
   "source": [
    "# определим диапазоны уровней дохода с помощью квартилей:\n",
    "data['total_income'].describe()"
   ]
  },
  {
   "cell_type": "code",
   "execution_count": 29,
   "metadata": {},
   "outputs": [
    {
     "data": {
      "text/html": [
       "<div>\n",
       "<style scoped>\n",
       "    .dataframe tbody tr th:only-of-type {\n",
       "        vertical-align: middle;\n",
       "    }\n",
       "\n",
       "    .dataframe tbody tr th {\n",
       "        vertical-align: top;\n",
       "    }\n",
       "\n",
       "    .dataframe thead th {\n",
       "        text-align: right;\n",
       "    }\n",
       "</style>\n",
       "<table border=\"1\" class=\"dataframe\">\n",
       "  <thead>\n",
       "    <tr style=\"text-align: right;\">\n",
       "      <th>debt_id</th>\n",
       "      <th>Есть задолженности</th>\n",
       "      <th>Нет задолженностей</th>\n",
       "      <th>Вероятность задолженности</th>\n",
       "    </tr>\n",
       "    <tr>\n",
       "      <th>income_level</th>\n",
       "      <th></th>\n",
       "      <th></th>\n",
       "      <th></th>\n",
       "    </tr>\n",
       "  </thead>\n",
       "  <tbody>\n",
       "    <tr>\n",
       "      <td>Ниже среднего</td>\n",
       "      <td>480</td>\n",
       "      <td>5014</td>\n",
       "      <td>8.74%</td>\n",
       "    </tr>\n",
       "    <tr>\n",
       "      <td>Выше среднего</td>\n",
       "      <td>441</td>\n",
       "      <td>4765</td>\n",
       "      <td>8.47%</td>\n",
       "    </tr>\n",
       "    <tr>\n",
       "      <td>Низкий уровень дохода</td>\n",
       "      <td>427</td>\n",
       "      <td>4924</td>\n",
       "      <td>7.98%</td>\n",
       "    </tr>\n",
       "    <tr>\n",
       "      <td>Высокий уровень дохода</td>\n",
       "      <td>384</td>\n",
       "      <td>4967</td>\n",
       "      <td>7.18%</td>\n",
       "    </tr>\n",
       "  </tbody>\n",
       "</table>\n",
       "</div>"
      ],
      "text/plain": [
       "debt_id                 Есть задолженности  Нет задолженностей  \\\n",
       "income_level                                                     \n",
       "Ниже среднего                          480                5014   \n",
       "Выше среднего                          441                4765   \n",
       "Низкий уровень дохода                  427                4924   \n",
       "Высокий уровень дохода                 384                4967   \n",
       "\n",
       "debt_id                Вероятность задолженности  \n",
       "income_level                                      \n",
       "Ниже среднего                              8.74%  \n",
       "Выше среднего                              8.47%  \n",
       "Низкий уровень дохода                      7.98%  \n",
       "Высокий уровень дохода                     7.18%  "
      ]
     },
     "execution_count": 29,
     "metadata": {},
     "output_type": "execute_result"
    }
   ],
   "source": [
    "# Рассмотрим как меняется вероятность допустить задолженность по кредиту от уровня дохода\n",
    "# создаем сводную таблицу, отображающую зависимость уровня дохода и наличия просрочек по оплате кредита\n",
    "income_debt_pivot = data.pivot_table(index=['income_level'], columns='debt_id', values='debt', aggfunc='count')\n",
    "\n",
    "# расчитываем отношение задолжников в каждой группе с количеством человек в группе\n",
    "income_debt_pivot['Вероятность задолженности']= income_debt_pivot['Есть задолженности'] / (income_debt_pivot['Есть задолженности'] + income_debt_pivot['Нет задолженностей']) \n",
    "# переводим это отношение в проценты\n",
    "income_debt_pivot['Вероятность задолженности'] = income_debt_pivot['Вероятность задолженности'].map('{:,.2%}'.format)\n",
    "# сортируем таблицу по возрастанию вероятности допущения задолженности\n",
    "income_debt_pivot = income_debt_pivot.sort_values(by = ['Вероятность задолженности'], ascending = False)\n",
    "\n",
    "# печатаем таблицу\n",
    "income_debt_pivot"
   ]
  },
  {
   "cell_type": "markdown",
   "metadata": {},
   "source": [
    "### Вывод"
   ]
  },
  {
   "cell_type": "markdown",
   "metadata": {},
   "source": [
    "По итогам исследования разница в вероятности невозврата кредита в срок среди разных груп дохода варьируются не сильно - в диапазоне *от 7.17% до 8.85%*.\n",
    "\n",
    "Разделив клиентов на 4 группы по уровню дохода, выводим следующую закономерность.  \n",
    "Выше всего риск допустить задолженность по оплате кредита у клиентов **с уровнем дохода выше среднего** (145,020-195,572) - *8.85%*.  \n",
    "Чуть меньше он у клиентов - всего на *0.41%* - с уровнем дохода **ниже среднего**.  \n",
    "Самые добросовестные плательщики - клиенты с **высоким (от 195,572) уровнем дохода**. Задолженности в этой группе допускают *7.18%*.  \n",
    "\n",
    "Учитывая, что вероятность допущения задолженности не коррелируется с повышением/понижением уровня дохода, можем сделать вывод, что ***зависимости между уровнем дохода и возвратом кредита в срок нет***."
   ]
  },
  {
   "cell_type": "markdown",
   "metadata": {},
   "source": [
    "### Влияние целей кредита на его возврат в срок"
   ]
  },
  {
   "cell_type": "code",
   "execution_count": 30,
   "metadata": {},
   "outputs": [
    {
     "data": {
      "text/plain": [
       "недвижимость    10780\n",
       "автомобиль       4288\n",
       "образование      3997\n",
       "свадьба          2337\n",
       "Name: purpose_category, dtype: int64"
      ]
     },
     "execution_count": 30,
     "metadata": {},
     "output_type": "execute_result"
    }
   ],
   "source": [
    "# смотрим, сколько заявок на кредит подано по каждой из категорий:\n",
    "data['purpose_category'].value_counts()"
   ]
  },
  {
   "cell_type": "code",
   "execution_count": 31,
   "metadata": {},
   "outputs": [
    {
     "data": {
      "text/html": [
       "<div>\n",
       "<style scoped>\n",
       "    .dataframe tbody tr th:only-of-type {\n",
       "        vertical-align: middle;\n",
       "    }\n",
       "\n",
       "    .dataframe tbody tr th {\n",
       "        vertical-align: top;\n",
       "    }\n",
       "\n",
       "    .dataframe thead th {\n",
       "        text-align: right;\n",
       "    }\n",
       "</style>\n",
       "<table border=\"1\" class=\"dataframe\">\n",
       "  <thead>\n",
       "    <tr style=\"text-align: right;\">\n",
       "      <th>debt_id</th>\n",
       "      <th>Есть задолженности</th>\n",
       "      <th>Нет задолженностей</th>\n",
       "      <th>Вероятность задолженности</th>\n",
       "    </tr>\n",
       "    <tr>\n",
       "      <th>purpose_category</th>\n",
       "      <th></th>\n",
       "      <th></th>\n",
       "      <th></th>\n",
       "    </tr>\n",
       "  </thead>\n",
       "  <tbody>\n",
       "    <tr>\n",
       "      <td>автомобиль</td>\n",
       "      <td>400</td>\n",
       "      <td>3888</td>\n",
       "      <td>9.33%</td>\n",
       "    </tr>\n",
       "    <tr>\n",
       "      <td>образование</td>\n",
       "      <td>369</td>\n",
       "      <td>3628</td>\n",
       "      <td>9.23%</td>\n",
       "    </tr>\n",
       "    <tr>\n",
       "      <td>свадьба</td>\n",
       "      <td>183</td>\n",
       "      <td>2154</td>\n",
       "      <td>7.83%</td>\n",
       "    </tr>\n",
       "    <tr>\n",
       "      <td>недвижимость</td>\n",
       "      <td>780</td>\n",
       "      <td>10000</td>\n",
       "      <td>7.24%</td>\n",
       "    </tr>\n",
       "  </tbody>\n",
       "</table>\n",
       "</div>"
      ],
      "text/plain": [
       "debt_id           Есть задолженности  Нет задолженностей  \\\n",
       "purpose_category                                           \n",
       "автомобиль                       400                3888   \n",
       "образование                      369                3628   \n",
       "свадьба                          183                2154   \n",
       "недвижимость                     780               10000   \n",
       "\n",
       "debt_id          Вероятность задолженности  \n",
       "purpose_category                            \n",
       "автомобиль                           9.33%  \n",
       "образование                          9.23%  \n",
       "свадьба                              7.83%  \n",
       "недвижимость                         7.24%  "
      ]
     },
     "execution_count": 31,
     "metadata": {},
     "output_type": "execute_result"
    }
   ],
   "source": [
    "# Рассмотрим как меняется вероятность допустить задолженность по кредиту от целей получения кредита\n",
    "# создаем сводную таблицу, отображающую зависимость целей получния кредита и наличия просрочек по оплате кредита\n",
    "purpose_debt_pivot = data.pivot_table(index=['purpose_category'], columns='debt_id', values='debt', aggfunc='count')\n",
    "\n",
    "# расчитываем отношение задолжников в каждой группе с количеством человек в группе\n",
    "purpose_debt_pivot['Вероятность задолженности']= purpose_debt_pivot['Есть задолженности'] / (purpose_debt_pivot['Есть задолженности'] + purpose_debt_pivot['Нет задолженностей']) \n",
    "# переводим это отношение в проценты\n",
    "purpose_debt_pivot['Вероятность задолженности'] = purpose_debt_pivot['Вероятность задолженности'].map('{:,.2%}'.format)\n",
    "# сортируем таблицу по возрастанию вероятности допущения задолженности\n",
    "purpose_debt_pivot = purpose_debt_pivot.sort_values(by = ['Вероятность задолженности'], ascending = False)\n",
    "\n",
    "# печатаем таблицу\n",
    "purpose_debt_pivot"
   ]
  },
  {
   "cell_type": "markdown",
   "metadata": {},
   "source": [
    "### Вывод"
   ]
  },
  {
   "cell_type": "markdown",
   "metadata": {},
   "source": [
    "В самой популярной категории, **недвижимости**, меньше всего допускают просрочки по оплате кредита - в *7.24%* случаев.  \n",
    "Разница между вероятностью допустить задолженности в категориях **\"автомобиль\"** и **\"образование\"** составляет меньше процента (*чуть более 9%*), как и между категориями **\"свадьба\"** и **\"недвижимость\"** (*7-8%*).\n",
    "Таким образом, можно заключить, что ***при оплате кредита с целями приобритения недвижимости и празднованием свадьбы кредит возвращают в срок чаще***, чем с целями получить образование и приобрести автомобиль."
   ]
  },
  {
   "cell_type": "markdown",
   "metadata": {},
   "source": [
    "## Шаг 5. Общий вывод\n",
    "<a name='conclusion'></a>\n",
    "#### [Вернуться к оглавлению](#back) "
   ]
  },
  {
   "cell_type": "markdown",
   "metadata": {},
   "source": [
    "По результатам проделанного анализа выделяем следующие закономерности:\n",
    "+ Зависимость между наличием детей и возвратом кредита в срок есть, клиенты без детей чаще погашают кредит в срок.  \n",
    "+ Зависимость между семейным положением и возвратом кредита в срок есть. Те, кто не состояли в официальном браке (находящиеся в гражданском браке или одинокие), с большей вероятностью будут иметь просрочки по кредитным платежам.\n",
    "+ Зависимости между уровнем дохода и возвратом кредита в срок нет.\n",
    "+ Кредиты на недвижимость и свадьбу чаще погашают в срок, чем кредиты на автомобиль или образование."
   ]
  }
 ],
 "metadata": {
  "kernelspec": {
   "display_name": "Python 3",
   "language": "python",
   "name": "python3"
  },
  "language_info": {
   "codemirror_mode": {
    "name": "ipython",
    "version": 3
   },
   "file_extension": ".py",
   "mimetype": "text/x-python",
   "name": "python",
   "nbconvert_exporter": "python",
   "pygments_lexer": "ipython3",
   "version": "3.7.4"
  }
 },
 "nbformat": 4,
 "nbformat_minor": 2
}

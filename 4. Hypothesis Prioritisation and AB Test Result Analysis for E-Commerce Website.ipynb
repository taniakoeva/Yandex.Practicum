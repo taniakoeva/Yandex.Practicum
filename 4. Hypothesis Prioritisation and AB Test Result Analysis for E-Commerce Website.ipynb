{
 "cells": [
  {
   "cell_type": "markdown",
   "metadata": {},
   "source": [
    "#  Hypothesis Prioritisation and A/B Test Result Analysis for E-Commerce Website"
   ]
  },
  {
   "cell_type": "markdown",
   "metadata": {},
   "source": [
    "### Project Description\n",
    "There is a list of hypothesis for revenue growth, created with the involvement of marketing department.  \n",
    "We need to:  \n",
    "1. prioritise the hypothesis from the list,  \n",
    "2. run an A/B test (outside the notebook),   \n",
    "3. analyse given results of the A/B test.\n",
    "\n"
   ]
  },
  {
   "cell_type": "markdown",
   "metadata": {},
   "source": [
    "<a name='back'></a>\n",
    "## Navigation\n",
    "- [Libraries](#libraries)  \n",
    "- [1. Data Introduction ](#dataintro)  \n",
    "- [2. Data Cleaning](#datacleaning)      \n",
    "- [3. Data Analysis](#analysis)\n",
    "    - [3.1. Part 1. Hypothesis Prioritisation](#part1)\n",
    "    - [3.2. Part 2. A/B Test Result Analysis](#part2)\n",
    "- [4. Overall Conclusion](#conclusion)"
   ]
  },
  {
   "cell_type": "markdown",
   "metadata": {},
   "source": [
    "### Libraries <a name=\"libraries\"></a>"
   ]
  },
  {
   "cell_type": "code",
   "execution_count": 1,
   "metadata": {},
   "outputs": [],
   "source": [
    "# Import the libraries we will need\n",
    "import pandas as pd\n",
    "import matplotlib.pyplot as plt \n",
    "from math import factorial \n",
    "from scipy import stats as st \n",
    "import scipy.stats as stats\n",
    "import numpy as np  "
   ]
  },
  {
   "cell_type": "markdown",
   "metadata": {},
   "source": [
    " <a name=\"dataintro\"></a>\n",
    "## 1. Data Introduction\n",
    "#### [back to navigation](#back) "
   ]
  },
  {
   "cell_type": "markdown",
   "metadata": {},
   "source": [
    "#### Data Description\n",
    "**Hypothesis** table includes:\n",
    "- `Hypothesis` — short description of a hypothesis;\n",
    "- `Reach` — users reach on a scale from 1 to 10;\n",
    "- `Impact` — impact on users on a scale from 1 to 10;\n",
    "- `Confidence` — confidence in the hypothesis on a scale from 1 to 10;\n",
    "- `Efforts` — efforts needed for the hypothesis test on a scale from 1 to 10. The higher the Efforts figure, the more cost-consuming the hypothesis test is.\n",
    "\n",
    "**Orders** table includes:\n",
    "- `transactionId` — order ID number;\n",
    "- `visitorId` — ID of a user who made an order;\n",
    "- `date` — date of order;\n",
    "- `revenue` — order revenue;\n",
    "- `group` — which A/B test group the order appeared in.\n",
    "\n",
    "**Visitors** table includes:\n",
    "- `date` — date;\n",
    "- `group` — A/B test group;\n",
    "- `visitors` — number of users in the A/B test group at the date."
   ]
  },
  {
   "cell_type": "code",
   "execution_count": 8,
   "metadata": {},
   "outputs": [],
   "source": [
    "# create a function that prints \n",
    "# name of a dataset, its info, nuns number in each coloumn, and number of duplicated lines\n",
    "def info_nans_doubles(df):\n",
    "    name =[x for x in globals() if globals()[x] is df][0] # take out the dataframe name\n",
    "    print('Info of {} dataframe\\n'.format(name))\n",
    "    print(df.info())\n",
    "    print('--------------------------------------------')\n",
    "    for i in df.columns:\n",
    "        print('Number of NaNs in coloumn ', i, ' = ', df[i].isnull().sum())\n",
    "    print('--------------------------------------------')\n",
    "    print('Number of duplicates in the dataframe {}'.format(name), df.duplicated().sum())"
   ]
  },
  {
   "cell_type": "code",
   "execution_count": 9,
   "metadata": {
    "scrolled": true
   },
   "outputs": [
    {
     "data": {
      "text/html": [
       "<div>\n",
       "<style scoped>\n",
       "    .dataframe tbody tr th:only-of-type {\n",
       "        vertical-align: middle;\n",
       "    }\n",
       "\n",
       "    .dataframe tbody tr th {\n",
       "        vertical-align: top;\n",
       "    }\n",
       "\n",
       "    .dataframe thead th {\n",
       "        text-align: right;\n",
       "    }\n",
       "</style>\n",
       "<table border=\"1\" class=\"dataframe\">\n",
       "  <thead>\n",
       "    <tr style=\"text-align: right;\">\n",
       "      <th></th>\n",
       "      <th>hypothesis</th>\n",
       "      <th>reach</th>\n",
       "      <th>impact</th>\n",
       "      <th>confidence</th>\n",
       "      <th>efforts</th>\n",
       "      <th>ICE</th>\n",
       "      <th>RICE</th>\n",
       "    </tr>\n",
       "  </thead>\n",
       "  <tbody>\n",
       "    <tr>\n",
       "      <td>7</td>\n",
       "      <td>Добавить форму подписки на все основные страни...</td>\n",
       "      <td>10</td>\n",
       "      <td>7</td>\n",
       "      <td>8</td>\n",
       "      <td>5</td>\n",
       "      <td>11.200000</td>\n",
       "      <td>112.0</td>\n",
       "    </tr>\n",
       "    <tr>\n",
       "      <td>1</td>\n",
       "      <td>Запустить собственную службу доставки, что сок...</td>\n",
       "      <td>2</td>\n",
       "      <td>5</td>\n",
       "      <td>4</td>\n",
       "      <td>10</td>\n",
       "      <td>2.000000</td>\n",
       "      <td>4.0</td>\n",
       "    </tr>\n",
       "    <tr>\n",
       "      <td>2</td>\n",
       "      <td>Добавить блоки рекомендаций товаров на сайт ин...</td>\n",
       "      <td>8</td>\n",
       "      <td>3</td>\n",
       "      <td>7</td>\n",
       "      <td>3</td>\n",
       "      <td>7.000000</td>\n",
       "      <td>56.0</td>\n",
       "    </tr>\n",
       "    <tr>\n",
       "      <td>0</td>\n",
       "      <td>Добавить два новых канала привлечения трафика,...</td>\n",
       "      <td>3</td>\n",
       "      <td>10</td>\n",
       "      <td>8</td>\n",
       "      <td>6</td>\n",
       "      <td>13.333333</td>\n",
       "      <td>40.0</td>\n",
       "    </tr>\n",
       "    <tr>\n",
       "      <td>8</td>\n",
       "      <td>Запустить акцию, дающую скидку на товар в день...</td>\n",
       "      <td>1</td>\n",
       "      <td>9</td>\n",
       "      <td>9</td>\n",
       "      <td>5</td>\n",
       "      <td>16.200000</td>\n",
       "      <td>16.2</td>\n",
       "    </tr>\n",
       "  </tbody>\n",
       "</table>\n",
       "</div>"
      ],
      "text/plain": [
       "                                          hypothesis  reach  impact  \\\n",
       "7  Добавить форму подписки на все основные страни...     10       7   \n",
       "1  Запустить собственную службу доставки, что сок...      2       5   \n",
       "2  Добавить блоки рекомендаций товаров на сайт ин...      8       3   \n",
       "0  Добавить два новых канала привлечения трафика,...      3      10   \n",
       "8  Запустить акцию, дающую скидку на товар в день...      1       9   \n",
       "\n",
       "   confidence  efforts        ICE   RICE  \n",
       "7           8        5  11.200000  112.0  \n",
       "1           4       10   2.000000    4.0  \n",
       "2           7        3   7.000000   56.0  \n",
       "0           8        6  13.333333   40.0  \n",
       "8           9        5  16.200000   16.2  "
      ]
     },
     "execution_count": 9,
     "metadata": {},
     "output_type": "execute_result"
    }
   ],
   "source": [
    "# Read the file with Hypothesis table and check the content (look at its 5 random lines)\n",
    "hypothesis = pd.read_csv('datasets/hypothesis_project_7', index_col=0)\n",
    "hypothesis.sample(5)"
   ]
  },
  {
   "cell_type": "code",
   "execution_count": 10,
   "metadata": {},
   "outputs": [
    {
     "name": "stdout",
     "output_type": "stream",
     "text": [
      "Info of hypothesis dataframe\n",
      "\n",
      "<class 'pandas.core.frame.DataFrame'>\n",
      "Int64Index: 9 entries, 0 to 8\n",
      "Data columns (total 7 columns):\n",
      "hypothesis    9 non-null object\n",
      "reach         9 non-null int64\n",
      "impact        9 non-null int64\n",
      "confidence    9 non-null int64\n",
      "efforts       9 non-null int64\n",
      "ICE           9 non-null float64\n",
      "RICE          9 non-null float64\n",
      "dtypes: float64(2), int64(4), object(1)\n",
      "memory usage: 576.0+ bytes\n",
      "None\n",
      "--------------------------------------------\n",
      "Number of NaNs in coloumn  hypothesis  =  0\n",
      "Number of NaNs in coloumn  reach  =  0\n",
      "Number of NaNs in coloumn  impact  =  0\n",
      "Number of NaNs in coloumn  confidence  =  0\n",
      "Number of NaNs in coloumn  efforts  =  0\n",
      "Number of NaNs in coloumn  ICE  =  0\n",
      "Number of NaNs in coloumn  RICE  =  0\n",
      "--------------------------------------------\n",
      "Number of duplicates in the dataframe hypothesis 0\n"
     ]
    }
   ],
   "source": [
    "# using the function info_nans_doubles, check the table information\n",
    "info_nans_doubles(hypothesis)"
   ]
  },
  {
   "cell_type": "code",
   "execution_count": 11,
   "metadata": {},
   "outputs": [
    {
     "data": {
      "text/html": [
       "<div>\n",
       "<style scoped>\n",
       "    .dataframe tbody tr th:only-of-type {\n",
       "        vertical-align: middle;\n",
       "    }\n",
       "\n",
       "    .dataframe tbody tr th {\n",
       "        vertical-align: top;\n",
       "    }\n",
       "\n",
       "    .dataframe thead th {\n",
       "        text-align: right;\n",
       "    }\n",
       "</style>\n",
       "<table border=\"1\" class=\"dataframe\">\n",
       "  <thead>\n",
       "    <tr style=\"text-align: right;\">\n",
       "      <th></th>\n",
       "      <th>Unnamed: 0</th>\n",
       "      <th>transactionId</th>\n",
       "      <th>visitorId</th>\n",
       "      <th>date</th>\n",
       "      <th>revenue</th>\n",
       "      <th>group</th>\n",
       "    </tr>\n",
       "  </thead>\n",
       "  <tbody>\n",
       "    <tr>\n",
       "      <td>659</td>\n",
       "      <td>659</td>\n",
       "      <td>3615982016</td>\n",
       "      <td>4194288377</td>\n",
       "      <td>2019-08-26</td>\n",
       "      <td>4698</td>\n",
       "      <td>B</td>\n",
       "    </tr>\n",
       "    <tr>\n",
       "      <td>750</td>\n",
       "      <td>750</td>\n",
       "      <td>3133733765</td>\n",
       "      <td>1255412427</td>\n",
       "      <td>2019-08-20</td>\n",
       "      <td>3170</td>\n",
       "      <td>A</td>\n",
       "    </tr>\n",
       "    <tr>\n",
       "      <td>1019</td>\n",
       "      <td>1019</td>\n",
       "      <td>453824282</td>\n",
       "      <td>4256040402</td>\n",
       "      <td>2019-08-31</td>\n",
       "      <td>1850</td>\n",
       "      <td>B</td>\n",
       "    </tr>\n",
       "    <tr>\n",
       "      <td>423</td>\n",
       "      <td>423</td>\n",
       "      <td>4161654914</td>\n",
       "      <td>990904712</td>\n",
       "      <td>2019-08-19</td>\n",
       "      <td>11249</td>\n",
       "      <td>B</td>\n",
       "    </tr>\n",
       "    <tr>\n",
       "      <td>1052</td>\n",
       "      <td>1052</td>\n",
       "      <td>375844049</td>\n",
       "      <td>600884435</td>\n",
       "      <td>2019-08-11</td>\n",
       "      <td>14489</td>\n",
       "      <td>B</td>\n",
       "    </tr>\n",
       "  </tbody>\n",
       "</table>\n",
       "</div>"
      ],
      "text/plain": [
       "      Unnamed: 0  transactionId   visitorId        date  revenue group\n",
       "659          659     3615982016  4194288377  2019-08-26     4698     B\n",
       "750          750     3133733765  1255412427  2019-08-20     3170     A\n",
       "1019        1019      453824282  4256040402  2019-08-31     1850     B\n",
       "423          423     4161654914   990904712  2019-08-19    11249     B\n",
       "1052        1052      375844049   600884435  2019-08-11    14489     B"
      ]
     },
     "execution_count": 11,
     "metadata": {},
     "output_type": "execute_result"
    }
   ],
   "source": [
    "# Read the Orders table\n",
    "orders = pd.read_csv('datasets/orders_project_7', index_col=0)\n",
    "orders.sample(5)"
   ]
  },
  {
   "cell_type": "code",
   "execution_count": 12,
   "metadata": {},
   "outputs": [
    {
     "name": "stdout",
     "output_type": "stream",
     "text": [
      "Info of orders dataframe\n",
      "\n",
      "<class 'pandas.core.frame.DataFrame'>\n",
      "RangeIndex: 1197 entries, 0 to 1196\n",
      "Data columns (total 6 columns):\n",
      "Unnamed: 0       1197 non-null int64\n",
      "transactionId    1197 non-null int64\n",
      "visitorId        1197 non-null int64\n",
      "date             1197 non-null object\n",
      "revenue          1197 non-null int64\n",
      "group            1197 non-null object\n",
      "dtypes: int64(4), object(2)\n",
      "memory usage: 56.2+ KB\n",
      "None\n",
      "--------------------------------------------\n",
      "Number of NaNs in coloumn  Unnamed: 0  =  0\n",
      "Number of NaNs in coloumn  transactionId  =  0\n",
      "Number of NaNs in coloumn  visitorId  =  0\n",
      "Number of NaNs in coloumn  date  =  0\n",
      "Number of NaNs in coloumn  revenue  =  0\n",
      "Number of NaNs in coloumn  group  =  0\n",
      "--------------------------------------------\n",
      "Number of duplicates in the dataframe orders 0\n"
     ]
    }
   ],
   "source": [
    "# check the Orders table info using the info_nans_doubles function\n",
    "info_nans_doubles(orders)"
   ]
  },
  {
   "cell_type": "code",
   "execution_count": 13,
   "metadata": {},
   "outputs": [
    {
     "data": {
      "text/html": [
       "<div>\n",
       "<style scoped>\n",
       "    .dataframe tbody tr th:only-of-type {\n",
       "        vertical-align: middle;\n",
       "    }\n",
       "\n",
       "    .dataframe tbody tr th {\n",
       "        vertical-align: top;\n",
       "    }\n",
       "\n",
       "    .dataframe thead th {\n",
       "        text-align: right;\n",
       "    }\n",
       "</style>\n",
       "<table border=\"1\" class=\"dataframe\">\n",
       "  <thead>\n",
       "    <tr style=\"text-align: right;\">\n",
       "      <th></th>\n",
       "      <th>date</th>\n",
       "      <th>group</th>\n",
       "      <th>visitors</th>\n",
       "    </tr>\n",
       "  </thead>\n",
       "  <tbody>\n",
       "    <tr>\n",
       "      <td>4</td>\n",
       "      <td>2019-08-05</td>\n",
       "      <td>A</td>\n",
       "      <td>756</td>\n",
       "    </tr>\n",
       "    <tr>\n",
       "      <td>14</td>\n",
       "      <td>2019-08-15</td>\n",
       "      <td>A</td>\n",
       "      <td>628</td>\n",
       "    </tr>\n",
       "    <tr>\n",
       "      <td>26</td>\n",
       "      <td>2019-08-27</td>\n",
       "      <td>A</td>\n",
       "      <td>711</td>\n",
       "    </tr>\n",
       "    <tr>\n",
       "      <td>17</td>\n",
       "      <td>2019-08-18</td>\n",
       "      <td>A</td>\n",
       "      <td>668</td>\n",
       "    </tr>\n",
       "    <tr>\n",
       "      <td>13</td>\n",
       "      <td>2019-08-14</td>\n",
       "      <td>A</td>\n",
       "      <td>735</td>\n",
       "    </tr>\n",
       "  </tbody>\n",
       "</table>\n",
       "</div>"
      ],
      "text/plain": [
       "          date group  visitors\n",
       "4   2019-08-05     A       756\n",
       "14  2019-08-15     A       628\n",
       "26  2019-08-27     A       711\n",
       "17  2019-08-18     A       668\n",
       "13  2019-08-14     A       735"
      ]
     },
     "execution_count": 13,
     "metadata": {},
     "output_type": "execute_result"
    }
   ],
   "source": [
    "# Read the Visitors table\n",
    "visitors = pd.read_csv('datasets/visitors_project_7', index_col=0)\n",
    "visitors.sample(5)"
   ]
  },
  {
   "cell_type": "code",
   "execution_count": 14,
   "metadata": {},
   "outputs": [
    {
     "name": "stdout",
     "output_type": "stream",
     "text": [
      "Info of visitors dataframe\n",
      "\n",
      "<class 'pandas.core.frame.DataFrame'>\n",
      "Int64Index: 62 entries, 0 to 61\n",
      "Data columns (total 3 columns):\n",
      "date        62 non-null object\n",
      "group       62 non-null object\n",
      "visitors    62 non-null int64\n",
      "dtypes: int64(1), object(2)\n",
      "memory usage: 1.9+ KB\n",
      "None\n",
      "--------------------------------------------\n",
      "Number of NaNs in coloumn  date  =  0\n",
      "Number of NaNs in coloumn  group  =  0\n",
      "Number of NaNs in coloumn  visitors  =  0\n",
      "--------------------------------------------\n",
      "Number of duplicates in the dataframe visitors 0\n"
     ]
    }
   ],
   "source": [
    "# # check the Visitors table info using the info_nans_doubles function\n",
    "info_nans_doubles(visitors)"
   ]
  },
  {
   "cell_type": "markdown",
   "metadata": {},
   "source": [
    "### Conclusion\n",
    "Coloumns titles in hypothesis dataframe should be converted into lowercase.  \n",
    "No other data preparation is needed."
   ]
  },
  {
   "cell_type": "markdown",
   "metadata": {},
   "source": [
    " <a name=\"datacleaning\"></a>\n",
    "## 2. Data Cleaning\n",
    "#### [back to navigation](#back) "
   ]
  },
  {
   "cell_type": "code",
   "execution_count": 15,
   "metadata": {},
   "outputs": [],
   "source": [
    "# lowercase the titles in hypothesis dataframe coloumns\n",
    "hypothesis.columns = hypothesis.columns.str.lower()"
   ]
  },
  {
   "cell_type": "markdown",
   "metadata": {},
   "source": [
    " <a name=\"analysis\"></a>\n",
    " ## 3. Data Analysis\n",
    " <a name=\"part1\"></a>\n",
    "##  Part 1. Hypothesis Prioritisation\n",
    "#### [back to navigation](#back) "
   ]
  },
  {
   "cell_type": "code",
   "execution_count": 16,
   "metadata": {},
   "outputs": [
    {
     "data": {
      "text/html": [
       "<div>\n",
       "<style scoped>\n",
       "    .dataframe tbody tr th:only-of-type {\n",
       "        vertical-align: middle;\n",
       "    }\n",
       "\n",
       "    .dataframe tbody tr th {\n",
       "        vertical-align: top;\n",
       "    }\n",
       "\n",
       "    .dataframe thead th {\n",
       "        text-align: right;\n",
       "    }\n",
       "</style>\n",
       "<table border=\"1\" class=\"dataframe\">\n",
       "  <thead>\n",
       "    <tr style=\"text-align: right;\">\n",
       "      <th></th>\n",
       "      <th>hypothesis</th>\n",
       "      <th>ICE</th>\n",
       "    </tr>\n",
       "  </thead>\n",
       "  <tbody>\n",
       "    <tr>\n",
       "      <td>8</td>\n",
       "      <td>Запустить акцию, дающую скидку на товар в день...</td>\n",
       "      <td>16.200000</td>\n",
       "    </tr>\n",
       "    <tr>\n",
       "      <td>0</td>\n",
       "      <td>Добавить два новых канала привлечения трафика,...</td>\n",
       "      <td>13.333333</td>\n",
       "    </tr>\n",
       "    <tr>\n",
       "      <td>7</td>\n",
       "      <td>Добавить форму подписки на все основные страни...</td>\n",
       "      <td>11.200000</td>\n",
       "    </tr>\n",
       "    <tr>\n",
       "      <td>6</td>\n",
       "      <td>Показать на главной странице баннеры с актуаль...</td>\n",
       "      <td>8.000000</td>\n",
       "    </tr>\n",
       "    <tr>\n",
       "      <td>2</td>\n",
       "      <td>Добавить блоки рекомендаций товаров на сайт ин...</td>\n",
       "      <td>7.000000</td>\n",
       "    </tr>\n",
       "    <tr>\n",
       "      <td>1</td>\n",
       "      <td>Запустить собственную службу доставки, что сок...</td>\n",
       "      <td>2.000000</td>\n",
       "    </tr>\n",
       "    <tr>\n",
       "      <td>5</td>\n",
       "      <td>Добавить страницу отзывов клиентов о магазине,...</td>\n",
       "      <td>1.333333</td>\n",
       "    </tr>\n",
       "    <tr>\n",
       "      <td>3</td>\n",
       "      <td>Изменить структура категорий, что увеличит кон...</td>\n",
       "      <td>1.125000</td>\n",
       "    </tr>\n",
       "    <tr>\n",
       "      <td>4</td>\n",
       "      <td>Изменить цвет фона главной страницы, чтобы уве...</td>\n",
       "      <td>1.000000</td>\n",
       "    </tr>\n",
       "  </tbody>\n",
       "</table>\n",
       "</div>"
      ],
      "text/plain": [
       "                                          hypothesis        ICE\n",
       "8  Запустить акцию, дающую скидку на товар в день...  16.200000\n",
       "0  Добавить два новых канала привлечения трафика,...  13.333333\n",
       "7  Добавить форму подписки на все основные страни...  11.200000\n",
       "6  Показать на главной странице баннеры с актуаль...   8.000000\n",
       "2  Добавить блоки рекомендаций товаров на сайт ин...   7.000000\n",
       "1  Запустить собственную службу доставки, что сок...   2.000000\n",
       "5  Добавить страницу отзывов клиентов о магазине,...   1.333333\n",
       "3  Изменить структура категорий, что увеличит кон...   1.125000\n",
       "4  Изменить цвет фона главной страницы, чтобы уве...   1.000000"
      ]
     },
     "execution_count": 16,
     "metadata": {},
     "output_type": "execute_result"
    }
   ],
   "source": [
    "# Use ICE framework for hypothesis prioritisation\n",
    "hypothesis['ICE'] = hypothesis['impact'] * hypothesis['confidence'] / hypothesis['efforts']\n",
    "hypothesis[['hypothesis', 'ICE']].sort_values(by='ICE', ascending=False) # Sort in descending order"
   ]
  },
  {
   "cell_type": "markdown",
   "metadata": {},
   "source": [
    "According to ICE framework, the most promising hypothesis are: 8, 0, 7, 6.\n"
   ]
  },
  {
   "cell_type": "code",
   "execution_count": 11,
   "metadata": {},
   "outputs": [
    {
     "data": {
      "text/html": [
       "<div>\n",
       "<style scoped>\n",
       "    .dataframe tbody tr th:only-of-type {\n",
       "        vertical-align: middle;\n",
       "    }\n",
       "\n",
       "    .dataframe tbody tr th {\n",
       "        vertical-align: top;\n",
       "    }\n",
       "\n",
       "    .dataframe thead th {\n",
       "        text-align: right;\n",
       "    }\n",
       "</style>\n",
       "<table border=\"1\" class=\"dataframe\">\n",
       "  <thead>\n",
       "    <tr style=\"text-align: right;\">\n",
       "      <th></th>\n",
       "      <th>hypothesis</th>\n",
       "      <th>RICE</th>\n",
       "    </tr>\n",
       "  </thead>\n",
       "  <tbody>\n",
       "    <tr>\n",
       "      <td>7</td>\n",
       "      <td>Добавить форму подписки на все основные страни...</td>\n",
       "      <td>112.0</td>\n",
       "    </tr>\n",
       "    <tr>\n",
       "      <td>2</td>\n",
       "      <td>Добавить блоки рекомендаций товаров на сайт ин...</td>\n",
       "      <td>56.0</td>\n",
       "    </tr>\n",
       "    <tr>\n",
       "      <td>0</td>\n",
       "      <td>Добавить два новых канала привлечения трафика,...</td>\n",
       "      <td>40.0</td>\n",
       "    </tr>\n",
       "    <tr>\n",
       "      <td>6</td>\n",
       "      <td>Показать на главной странице баннеры с актуаль...</td>\n",
       "      <td>40.0</td>\n",
       "    </tr>\n",
       "    <tr>\n",
       "      <td>8</td>\n",
       "      <td>Запустить акцию, дающую скидку на товар в день...</td>\n",
       "      <td>16.2</td>\n",
       "    </tr>\n",
       "    <tr>\n",
       "      <td>3</td>\n",
       "      <td>Изменить структура категорий, что увеличит кон...</td>\n",
       "      <td>9.0</td>\n",
       "    </tr>\n",
       "    <tr>\n",
       "      <td>1</td>\n",
       "      <td>Запустить собственную службу доставки, что сок...</td>\n",
       "      <td>4.0</td>\n",
       "    </tr>\n",
       "    <tr>\n",
       "      <td>5</td>\n",
       "      <td>Добавить страницу отзывов клиентов о магазине,...</td>\n",
       "      <td>4.0</td>\n",
       "    </tr>\n",
       "    <tr>\n",
       "      <td>4</td>\n",
       "      <td>Изменить цвет фона главной страницы, чтобы уве...</td>\n",
       "      <td>3.0</td>\n",
       "    </tr>\n",
       "  </tbody>\n",
       "</table>\n",
       "</div>"
      ],
      "text/plain": [
       "                                          hypothesis   RICE\n",
       "7  Добавить форму подписки на все основные страни...  112.0\n",
       "2  Добавить блоки рекомендаций товаров на сайт ин...   56.0\n",
       "0  Добавить два новых канала привлечения трафика,...   40.0\n",
       "6  Показать на главной странице баннеры с актуаль...   40.0\n",
       "8  Запустить акцию, дающую скидку на товар в день...   16.2\n",
       "3  Изменить структура категорий, что увеличит кон...    9.0\n",
       "1  Запустить собственную службу доставки, что сок...    4.0\n",
       "5  Добавить страницу отзывов клиентов о магазине,...    4.0\n",
       "4  Изменить цвет фона главной страницы, чтобы уве...    3.0"
      ]
     },
     "execution_count": 11,
     "metadata": {},
     "output_type": "execute_result"
    }
   ],
   "source": [
    "# Use RICE framework for hypothesis prioritisation\n",
    "hypothesis['RICE'] = hypothesis['reach'] * hypothesis['impact'] * hypothesis['confidence'] / hypothesis['efforts']\n",
    "hypothesis[['hypothesis','RICE']].sort_values(by='RICE', ascending=False) # Sort in descending order"
   ]
  },
  {
   "cell_type": "markdown",
   "metadata": {},
   "source": [
    "According to RICE framework, the most promising hypothesis are: 7, 2, 0, 6."
   ]
  },
  {
   "cell_type": "code",
   "execution_count": 17,
   "metadata": {},
   "outputs": [
    {
     "name": "stdout",
     "output_type": "stream",
     "text": [
      "Добавить форму подписки на все основные страницы, чтобы собрать базу клиентов для email-рассылок\n",
      "Добавить два новых канала привлечения трафика, что позволит привлекать на 30% больше пользователей\n"
     ]
    }
   ],
   "source": [
    "# print the highest priority hypothesis\n",
    "print(hypothesis['hypothesis'][7])\n",
    "print(hypothesis['hypothesis'][0])"
   ]
  },
  {
   "cell_type": "markdown",
   "metadata": {},
   "source": [
    "## Conclusion \n",
    "According to RICE framework, the most promising hypothesis are: **7, 2, 0**.  \n",
    "According to ICE framework, the most promising hypothesis are: **8, 0, 7**.\n",
    "\n",
    "Hypothesis #8 was put aside, as its low reach will not bring significant results.  \n",
    "Hypothesis #2 was not included into top by ICE, despite its high reach, as its impact is not high enough.\n",
    "\n",
    "The hepothesis recommended for testing (#7 and #0):  \n",
    "**- Добавить форму подписки на все основные страницы, чтобы собрать базу клиентов для email-рассылок**   \n",
    "**- Добавить два новых канала привлечения трафика, что позволит привлекать на 30% больше пользователей**  \n",
    "English version:  \n",
    "**- Add a sign in form to all basic pages to build customers database for e-mail campaigns**  \n",
    "**- Add two new traffic aquisition channels to attract 30% more users**"
   ]
  },
  {
   "cell_type": "markdown",
   "metadata": {},
   "source": [
    " <a name=\"part2\"></a>\n",
    "##  Part 2. A/B Test Result Analysis\n",
    "#### [back to navigation](#back) "
   ]
  },
  {
   "cell_type": "markdown",
   "metadata": {},
   "source": [
    "Analyse the provided A/B test result."
   ]
  },
  {
   "cell_type": "code",
   "execution_count": 18,
   "metadata": {},
   "outputs": [
    {
     "data": {
      "text/html": [
       "<div>\n",
       "<style scoped>\n",
       "    .dataframe tbody tr th:only-of-type {\n",
       "        vertical-align: middle;\n",
       "    }\n",
       "\n",
       "    .dataframe tbody tr th {\n",
       "        vertical-align: top;\n",
       "    }\n",
       "\n",
       "    .dataframe thead th {\n",
       "        text-align: right;\n",
       "    }\n",
       "</style>\n",
       "<table border=\"1\" class=\"dataframe\">\n",
       "  <thead>\n",
       "    <tr style=\"text-align: right;\">\n",
       "      <th></th>\n",
       "      <th>date</th>\n",
       "      <th>group</th>\n",
       "      <th>orders</th>\n",
       "      <th>buyers</th>\n",
       "      <th>revenue</th>\n",
       "      <th>visitors</th>\n",
       "    </tr>\n",
       "  </thead>\n",
       "  <tbody>\n",
       "    <tr>\n",
       "      <td>0</td>\n",
       "      <td>2019-08-01</td>\n",
       "      <td>A</td>\n",
       "      <td>24</td>\n",
       "      <td>20</td>\n",
       "      <td>148579</td>\n",
       "      <td>719</td>\n",
       "    </tr>\n",
       "    <tr>\n",
       "      <td>1</td>\n",
       "      <td>2019-08-01</td>\n",
       "      <td>B</td>\n",
       "      <td>21</td>\n",
       "      <td>20</td>\n",
       "      <td>101217</td>\n",
       "      <td>713</td>\n",
       "    </tr>\n",
       "    <tr>\n",
       "      <td>2</td>\n",
       "      <td>2019-08-02</td>\n",
       "      <td>A</td>\n",
       "      <td>44</td>\n",
       "      <td>38</td>\n",
       "      <td>242401</td>\n",
       "      <td>1338</td>\n",
       "    </tr>\n",
       "    <tr>\n",
       "      <td>3</td>\n",
       "      <td>2019-08-02</td>\n",
       "      <td>B</td>\n",
       "      <td>45</td>\n",
       "      <td>43</td>\n",
       "      <td>266748</td>\n",
       "      <td>1294</td>\n",
       "    </tr>\n",
       "    <tr>\n",
       "      <td>4</td>\n",
       "      <td>2019-08-03</td>\n",
       "      <td>A</td>\n",
       "      <td>68</td>\n",
       "      <td>62</td>\n",
       "      <td>354874</td>\n",
       "      <td>1845</td>\n",
       "    </tr>\n",
       "  </tbody>\n",
       "</table>\n",
       "</div>"
      ],
      "text/plain": [
       "         date group  orders  buyers  revenue  visitors\n",
       "0  2019-08-01     A      24      20   148579       719\n",
       "1  2019-08-01     B      21      20   101217       713\n",
       "2  2019-08-02     A      44      38   242401      1338\n",
       "3  2019-08-02     B      45      43   266748      1294\n",
       "4  2019-08-03     A      68      62   354874      1845"
      ]
     },
     "execution_count": 18,
     "metadata": {},
     "output_type": "execute_result"
    }
   ],
   "source": [
    "# Create a table with visitors, buyers and orders data accumulated by day and test group \n",
    "\n",
    "# create an array of unique date - test group pairs:\n",
    "datesGroups = orders[['date','group']].drop_duplicates()\n",
    "\n",
    "# get aggregated cummulative data on orders and buyers by days:\n",
    "orders_aggregated = datesGroups.apply(lambda x: orders[np.logical_and(orders['date'] <= x['date'], \n",
    "                                                                     orders['group'] == x['group'])]\\\n",
    ".agg({'date':'max', 'group':'max', 'transactionId':'nunique', 'visitorId':'nunique', 'revenue':'sum'}), axis=1)\\\n",
    ".sort_values(by=['date','group'])\n",
    "\n",
    "# similarly, get ggregated cummulative data on visitors by days:\n",
    "visitors_aggregated = datesGroups.apply(lambda x: visitors[np.logical_and(visitors['date'] <= x['date'], \n",
    "                                                                          visitors['group'] == x['group'])]\\\n",
    "                                        .agg({'date' : 'max', 'group' : 'max', 'visitors' : 'sum'}), axis=1)\\\n",
    "                                        .sort_values(by=['date','group'])\n",
    "\n",
    "# merge the cummulative data in on table and name its coloumns:\n",
    "cummulative_data = orders_aggregated.merge(visitors_aggregated, left_on=['date','group'], right_on=['date','group'])\n",
    "cummulative_data.columns = ['date', 'group', 'orders', 'buyers', 'revenue', 'visitors']\n",
    "\n",
    "cummulative_data.head()"
   ]
  },
  {
   "cell_type": "code",
   "execution_count": 19,
   "metadata": {},
   "outputs": [
    {
     "data": {
      "image/png": "[encoded data removed]",
      "text/plain": [
       "<Figure size 936x360 with 1 Axes>"
      ]
     },
     "metadata": {
      "needs_background": "light"
     },
     "output_type": "display_data"
    }
   ],
   "source": [
    "# Build graphs of cummulative revenue by days and groups of the AB test:\n",
    "\n",
    "# a df with cummulative orders number and revenue by day in group A\n",
    "a_cum_rev = cummulative_data[cummulative_data['group']=='A'][['date','revenue', 'orders']]\n",
    "# a df with cummulative orders number and revenue by day in group B\n",
    "b_cum_rev = cummulative_data[cummulative_data['group']=='B'][['date','revenue', 'orders']]\n",
    "\n",
    "# Graph\n",
    "figure, ax = plt.subplots(figsize=(13, 5))\n",
    "ax.plot(a_cum_rev['date'], a_cum_rev['revenue'], label='A') # group А revenue graph\n",
    "ax.plot(b_cum_rev['date'], b_cum_rev['revenue'], label='B') # group B revenue graph\n",
    "ax.set_title('Cummulative Revenue by Days and Groups of the AB Test', fontsize='15')\n",
    "ax.set_xticklabels(cummulative_data['date'], rotation=60) # rotate dates on the x axis\n",
    "ax.set_ylabel('cummulative revenue, rub')\n",
    "ax.grid(True)\n",
    "plt.legend(); # add legend"
   ]
  },
  {
   "cell_type": "markdown",
   "metadata": {},
   "source": [
    "Revenue grows almost steadily throughout the testing period.  \n",
    "\n",
    "According to the graph, afer August 3rd, cummulative revenue of group B exceeded that of group A.  \n",
    "By August 7th, the metrics got equal due to the leap of August 6-7th in group A. Nonetheless, after that there were sharp increases of revenue in group B (especially on August 9th) that secured group B revenue surpass. That can indicate either an increase in orders number, or appearence of significantly expensive orders in the sample.  \n"
   ]
  },
  {
   "cell_type": "code",
   "execution_count": 20,
   "metadata": {},
   "outputs": [
    {
     "data": {
      "image/png": "[encoded data removed]",
      "text/plain": [
       "<Figure size 936x360 with 1 Axes>"
      ]
     },
     "metadata": {
      "needs_background": "light"
     },
     "output_type": "display_data"
    }
   ],
   "source": [
    "# Build a graph of cummulative average revenue per order by groups\n",
    "figure, ax = plt.subplots(figsize=(13, 5))\n",
    "ax.set_title('Cummulative Average Revenue per Order by Days and Groups of the A/B Test', fontsize=15)\n",
    "ax.plot(a_cum_rev['date'], a_cum_rev['revenue']/a_cum_rev['orders'], label='A')\n",
    "ax.plot(b_cum_rev['date'], b_cum_rev['revenue']/b_cum_rev['orders'], label='B')\n",
    "ax.set_xticklabels(cummulative_data['date'], rotation=60)\n",
    "ax.set_ylabel('cummulative average revenue per order, rub ')\n",
    "ax.grid(True)\n",
    "ax.legend();"
   ]
  },
  {
   "cell_type": "markdown",
   "metadata": {},
   "source": [
    "Average revenue per order flactuates and grows till August 7-8th.  \n",
    "For **group A** average revenue per order stablised after August 7th at the level of around 7,000 RUB, later flactuations are relatively weak.   \n",
    "On the *9th of August* there was a sharp increase of the metric in **group B**. Afterwards, it started going down, however the commulative metric remained higher than that of group A. It is possible that there were large orders in group B that day. In that case, group B needs more data for its average revenue per order to get to its real value and stablise at that level."
   ]
  },
  {
   "cell_type": "code",
   "execution_count": 21,
   "metadata": {},
   "outputs": [
    {
     "data": {
      "image/png": "[encoded data removed]",
      "text/plain": [
       "<Figure size 936x360 with 1 Axes>"
      ]
     },
     "metadata": {
      "needs_background": "light"
     },
     "output_type": "display_data"
    }
   ],
   "source": [
    "# Build a grapth of relative change of cummulative average revenue per order of group B to group A\n",
    "\n",
    "# merge the data in one df\n",
    "merged_cum_rev = a_cum_rev.merge(b_cum_rev, left_on='date', right_on='date', how='left', suffixes=['_A', '_B'])\n",
    "\n",
    "# build the average revenues per order ratios\n",
    "fig, ax = plt.subplots(figsize=(13,5))\n",
    "ax.plot(merged_cum_rev['date'], (merged_cum_rev['revenue_B']/merged_cum_rev['orders_B'])/\\\n",
    "                                 (merged_cum_rev['revenue_A']/merged_cum_rev['orders_A'])-1)\n",
    "ax.set_title('Relative Change of Cummulative Average Revenue per Order of Group B to Group A', fontsize=15)\n",
    "ax.set_xticklabels(cummulative_data['date'], rotation=60)\n",
    "ax.axhline(y=0, color='grey', linestyle='--'); # add axis X"
   ]
  },
  {
   "cell_type": "markdown",
   "metadata": {},
   "source": [
    "According to the graph above, the relative change of cummulative average revenue per order was in favour of group B starting from day 2. However, the period betwen August 5th and 9th was an exception from that trend.  \n",
    "Again, we can see the leap in revenue of August 9th.  "
   ]
  },
  {
   "cell_type": "code",
   "execution_count": 22,
   "metadata": {},
   "outputs": [
    {
     "data": {
      "image/png": "[encoded data removed]",
      "text/plain": [
       "<Figure size 936x360 with 1 Axes>"
      ]
     },
     "metadata": {
      "needs_background": "light"
     },
     "output_type": "display_data"
    }
   ],
   "source": [
    "# Build a graph of cummulative conversion by groups\n",
    "\n",
    "# calculate cummulative conversion\n",
    "cummulative_data['conversion'] = cummulative_data['orders']/cummulative_data['visitors']\n",
    "# separate group A data\n",
    "a_cum_data = cummulative_data[cummulative_data['group']=='A']\n",
    "# separate group B data\n",
    "b_cum_data = cummulative_data[cummulative_data['group']=='B']\n",
    "\n",
    "# build graphs\n",
    "fig, ax = plt.subplots(figsize=(13,5))\n",
    "ax.plot(a_cum_data['date'], a_cum_data['conversion'], label='A')\n",
    "ax.plot(b_cum_data['date'], b_cum_data['conversion'], label='B')\n",
    "ax.set_title('Cummulative Conversion by Days and Groups of the A/B Test', fontsize=15)\n",
    "ax.set_xticklabels(cummulative_data['date'], rotation=60)\n",
    "ax.grid(True)\n",
    "ax.legend();"
   ]
  },
  {
   "cell_type": "markdown",
   "metadata": {},
   "source": [
    "\n",
    "Commulative conversion metric flactuated for both groups at the start of the test, but after August the 5th the flactuations with groups became less significant.  \n",
    "Group A conversion went down and stablised at the level between 2.9% and 3.1%.  \n",
    "Group B conversion had larger range - from 3.3% to 3.6% - while remaining higher than that of group A."
   ]
  },
  {
   "cell_type": "code",
   "execution_count": 23,
   "metadata": {},
   "outputs": [
    {
     "data": {
      "image/png": "[encoded data removed]",
      "text/plain": [
       "<Figure size 936x360 with 1 Axes>"
      ]
     },
     "metadata": {
      "needs_background": "light"
     },
     "output_type": "display_data"
    }
   ],
   "source": [
    "# Build a graph of relative change of cummulative conversion of group B to group A\n",
    "cum_conv_merged = a_cum_data[['date','conversion']].merge(b_cum_data[['date','conversion']], left_on='date', \n",
    "                                                          right_on='date', how='left', suffixes=['_A', '_B'])\n",
    "\n",
    "fig, ax = plt.subplots(figsize=(13,5))\n",
    "ax.plot(cum_conv_merged['date'], cum_conv_merged['conversion_B']/cum_conv_merged['conversion_A']-1)\n",
    "ax.set_title(\"Relative increase of conversion og group B to that of group A\", fontsize=15)\n",
    "ax.axhline(y=0, color='black', linestyle='--')\n",
    "ax.axhline(y=0.1, color='grey', linestyle='--')\n",
    "ax.set_xticklabels(cummulative_data['date'], rotation=60);\n",
    "#ax.grid(True);\n"
   ]
  },
  {
   "cell_type": "markdown",
   "metadata": {},
   "source": [
    "\n",
    "At the beginning of the test, group B was loosing to group A, but then it exceeded. Later on its conversion fell again, but the flactuations were less significant."
   ]
  },
  {
   "cell_type": "code",
   "execution_count": 39,
   "metadata": {},
   "outputs": [
    {
     "data": {
      "image/png": "[encoded data removed]",
      "text/plain": [
       "<Figure size 432x288 with 1 Axes>"
      ]
     },
     "metadata": {
      "needs_background": "light"
     },
     "output_type": "display_data"
    }
   ],
   "source": [
    "# Build a scatter plot for the number of orders by users\n",
    "\n",
    "orders_by_user = (orders.groupby(['visitorId'])['transactionId'].count()).reset_index()\n",
    "orders_by_user.columns = ['visitor', 'orders']\n",
    "\n",
    "x_values = pd.Series(range(0,len(orders_by_user['orders'])))\n",
    "plt.scatter(x_values, orders_by_user['orders'])\n",
    "plt.ylabel('number of orders')\n",
    "plt.title('Number of Orders Per Users');"
   ]
  },
  {
   "cell_type": "code",
   "execution_count": 38,
   "metadata": {},
   "outputs": [
    {
     "data": {
      "text/html": [
       "<div>\n",
       "<style scoped>\n",
       "    .dataframe tbody tr th:only-of-type {\n",
       "        vertical-align: middle;\n",
       "    }\n",
       "\n",
       "    .dataframe tbody tr th {\n",
       "        vertical-align: top;\n",
       "    }\n",
       "\n",
       "    .dataframe thead th {\n",
       "        text-align: right;\n",
       "    }\n",
       "</style>\n",
       "<table border=\"1\" class=\"dataframe\">\n",
       "  <thead>\n",
       "    <tr style=\"text-align: right;\">\n",
       "      <th></th>\n",
       "      <th>orders</th>\n",
       "      <th>visitor</th>\n",
       "    </tr>\n",
       "  </thead>\n",
       "  <tbody>\n",
       "    <tr>\n",
       "      <td>0</td>\n",
       "      <td>1</td>\n",
       "      <td>937</td>\n",
       "    </tr>\n",
       "    <tr>\n",
       "      <td>1</td>\n",
       "      <td>2</td>\n",
       "      <td>64</td>\n",
       "    </tr>\n",
       "    <tr>\n",
       "      <td>2</td>\n",
       "      <td>3</td>\n",
       "      <td>17</td>\n",
       "    </tr>\n",
       "    <tr>\n",
       "      <td>3</td>\n",
       "      <td>4</td>\n",
       "      <td>3</td>\n",
       "    </tr>\n",
       "    <tr>\n",
       "      <td>4</td>\n",
       "      <td>5</td>\n",
       "      <td>6</td>\n",
       "    </tr>\n",
       "    <tr>\n",
       "      <td>5</td>\n",
       "      <td>8</td>\n",
       "      <td>1</td>\n",
       "    </tr>\n",
       "    <tr>\n",
       "      <td>6</td>\n",
       "      <td>9</td>\n",
       "      <td>1</td>\n",
       "    </tr>\n",
       "    <tr>\n",
       "      <td>7</td>\n",
       "      <td>11</td>\n",
       "      <td>2</td>\n",
       "    </tr>\n",
       "  </tbody>\n",
       "</table>\n",
       "</div>"
      ],
      "text/plain": [
       "   orders  visitor\n",
       "0       1      937\n",
       "1       2       64\n",
       "2       3       17\n",
       "3       4        3\n",
       "4       5        6\n",
       "5       8        1\n",
       "6       9        1\n",
       "7      11        2"
      ]
     },
     "execution_count": 38,
     "metadata": {},
     "output_type": "execute_result"
    }
   ],
   "source": [
    "orders_by_user.groupby('orders')['visitor'].count().reset_index()"
   ]
  },
  {
   "cell_type": "markdown",
   "metadata": {},
   "source": [
    "\n",
    "Most of buyers made 1-2 purchases throughout the test time, some made 3. But there are some who ordered up to 11 times. Let's check if these should be considered as outliers."
   ]
  },
  {
   "cell_type": "code",
   "execution_count": 40,
   "metadata": {},
   "outputs": [
    {
     "data": {
      "text/plain": [
       "array([2., 4.])"
      ]
     },
     "execution_count": 40,
     "metadata": {},
     "output_type": "execute_result"
    }
   ],
   "source": [
    "# Define the border for anomalies\n",
    "# Find 95th and 99th percentiles for the number of orders per user\n",
    "np.percentile(orders_by_user['orders'], [95,99])\n"
   ]
  },
  {
   "cell_type": "markdown",
   "metadata": {},
   "source": [
    "**Less than 5%** of buyers make **more than 2 purchaces**, and less than 1% make more than 4 orders.  \n",
    "Thus, the number of orders per user larger than 2 can be considered an anomaly."
   ]
  },
  {
   "cell_type": "code",
   "execution_count": 42,
   "metadata": {},
   "outputs": [
    {
     "data": {
      "image/png": "[encoded data removed]",
      "text/plain": [
       "<Figure size 432x288 with 1 Axes>"
      ]
     },
     "metadata": {
      "needs_background": "light"
     },
     "output_type": "display_data"
    }
   ],
   "source": [
    "# Build a scatter plot for orders value\n",
    "x_values = pd.Series(range(0,len(orders['revenue'])))\n",
    "plt.scatter(x_values, orders['revenue'])\n",
    "plt.title('Revenue per order')\n",
    "plt.ylabel('revenue per order');"
   ]
  },
  {
   "cell_type": "code",
   "execution_count": 43,
   "metadata": {},
   "outputs": [
    {
     "data": {
      "text/plain": [
       "array([28000. , 58233.2])"
      ]
     },
     "execution_count": 43,
     "metadata": {},
     "output_type": "execute_result"
    }
   ],
   "source": [
    "# Find 95th and 99th percentiles of order revenue. Define the border for anomalies.\n",
    "np.percentile(orders['revenue'],[95,99])"
   ]
  },
  {
   "cell_type": "markdown",
   "metadata": {},
   "source": [
    "Not more than 5% of orders are worth more than 28,000 RUB, and less than 1% - more than 58,233.2 RUB.  \n",
    "Taking 5% as the anomaly border, orders valued more than 28,000 are artefacts."
   ]
  },
  {
   "cell_type": "code",
   "execution_count": 44,
   "metadata": {},
   "outputs": [
    {
     "data": {
      "text/html": [
       "<div>\n",
       "<style scoped>\n",
       "    .dataframe tbody tr th:only-of-type {\n",
       "        vertical-align: middle;\n",
       "    }\n",
       "\n",
       "    .dataframe tbody tr th {\n",
       "        vertical-align: top;\n",
       "    }\n",
       "\n",
       "    .dataframe thead th {\n",
       "        text-align: right;\n",
       "    }\n",
       "</style>\n",
       "<table border=\"1\" class=\"dataframe\">\n",
       "  <thead>\n",
       "    <tr style=\"text-align: right;\">\n",
       "      <th></th>\n",
       "      <th>date</th>\n",
       "      <th>a_orders_daily</th>\n",
       "      <th>a_rev_per_day</th>\n",
       "      <th>b_orders_daily</th>\n",
       "      <th>b_rev_per_day</th>\n",
       "      <th>a_orders_cum</th>\n",
       "      <th>a_rev_cum</th>\n",
       "      <th>b_orders_cum</th>\n",
       "      <th>b_rev_cum</th>\n",
       "      <th>visitors_daily_a</th>\n",
       "      <th>visitors_daily_b</th>\n",
       "      <th>visitors_cummulative_a</th>\n",
       "      <th>visitors_cummulative_b</th>\n",
       "    </tr>\n",
       "  </thead>\n",
       "  <tbody>\n",
       "    <tr>\n",
       "      <td>0</td>\n",
       "      <td>2019-08-01</td>\n",
       "      <td>24</td>\n",
       "      <td>148579</td>\n",
       "      <td>21</td>\n",
       "      <td>101217</td>\n",
       "      <td>24</td>\n",
       "      <td>148579</td>\n",
       "      <td>21</td>\n",
       "      <td>101217</td>\n",
       "      <td>719</td>\n",
       "      <td>713</td>\n",
       "      <td>719</td>\n",
       "      <td>713</td>\n",
       "    </tr>\n",
       "    <tr>\n",
       "      <td>1</td>\n",
       "      <td>2019-08-02</td>\n",
       "      <td>20</td>\n",
       "      <td>93822</td>\n",
       "      <td>24</td>\n",
       "      <td>165531</td>\n",
       "      <td>44</td>\n",
       "      <td>242401</td>\n",
       "      <td>45</td>\n",
       "      <td>266748</td>\n",
       "      <td>619</td>\n",
       "      <td>581</td>\n",
       "      <td>1338</td>\n",
       "      <td>1294</td>\n",
       "    </tr>\n",
       "    <tr>\n",
       "      <td>2</td>\n",
       "      <td>2019-08-03</td>\n",
       "      <td>24</td>\n",
       "      <td>112473</td>\n",
       "      <td>16</td>\n",
       "      <td>114248</td>\n",
       "      <td>68</td>\n",
       "      <td>354874</td>\n",
       "      <td>61</td>\n",
       "      <td>380996</td>\n",
       "      <td>507</td>\n",
       "      <td>509</td>\n",
       "      <td>1845</td>\n",
       "      <td>1803</td>\n",
       "    </tr>\n",
       "    <tr>\n",
       "      <td>3</td>\n",
       "      <td>2019-08-04</td>\n",
       "      <td>16</td>\n",
       "      <td>70825</td>\n",
       "      <td>17</td>\n",
       "      <td>108571</td>\n",
       "      <td>84</td>\n",
       "      <td>425699</td>\n",
       "      <td>78</td>\n",
       "      <td>489567</td>\n",
       "      <td>717</td>\n",
       "      <td>770</td>\n",
       "      <td>2562</td>\n",
       "      <td>2573</td>\n",
       "    </tr>\n",
       "    <tr>\n",
       "      <td>4</td>\n",
       "      <td>2019-08-05</td>\n",
       "      <td>25</td>\n",
       "      <td>124218</td>\n",
       "      <td>23</td>\n",
       "      <td>92428</td>\n",
       "      <td>109</td>\n",
       "      <td>549917</td>\n",
       "      <td>101</td>\n",
       "      <td>581995</td>\n",
       "      <td>756</td>\n",
       "      <td>707</td>\n",
       "      <td>3318</td>\n",
       "      <td>3280</td>\n",
       "    </tr>\n",
       "  </tbody>\n",
       "</table>\n",
       "</div>"
      ],
      "text/plain": [
       "         date  a_orders_daily  a_rev_per_day  b_orders_daily  b_rev_per_day  \\\n",
       "0  2019-08-01              24         148579              21         101217   \n",
       "1  2019-08-02              20          93822              24         165531   \n",
       "2  2019-08-03              24         112473              16         114248   \n",
       "3  2019-08-04              16          70825              17         108571   \n",
       "4  2019-08-05              25         124218              23          92428   \n",
       "\n",
       "   a_orders_cum  a_rev_cum  b_orders_cum  b_rev_cum  visitors_daily_a  \\\n",
       "0            24     148579            21     101217               719   \n",
       "1            44     242401            45     266748               619   \n",
       "2            68     354874            61     380996               507   \n",
       "3            84     425699            78     489567               717   \n",
       "4           109     549917           101     581995               756   \n",
       "\n",
       "   visitors_daily_b  visitors_cummulative_a  visitors_cummulative_b  \n",
       "0               713                     719                     713  \n",
       "1               581                    1338                    1294  \n",
       "2               509                    1845                    1803  \n",
       "3               770                    2562                    2573  \n",
       "4               707                    3318                    3280  "
      ]
     },
     "execution_count": 44,
     "metadata": {},
     "output_type": "execute_result"
    }
   ],
   "source": [
    "# Calculate the statistical significance of the difference in conversions of two groups, using raw data. \n",
    "\n",
    "# First, compose a table with test results data for groups A and B\n",
    "\n",
    "# find the number of visitors per day in group A\n",
    "a_visitors_daily = visitors[visitors['group']=='A'][['date', 'visitors']]\n",
    "a_visitors_daily.columns = ['date', 'visitors_daily_a']\n",
    "# find the cummulative number of visitors per day in group A\n",
    "a_visitors_cum = a_visitors_daily.apply(lambda x: a_visitors_daily[a_visitors_daily['date'] <= x['date']]\\\n",
    "                                        .agg({'date' : 'max', 'visitors_daily_a' : 'sum'}), axis=1)\n",
    "a_visitors_cum.columns = ['date', 'visitors_cummulative_a']\n",
    "# find the number of visitors per day in group B\n",
    "b_visitors_daily = visitors[visitors['group']=='B'][['date', 'visitors']]\n",
    "b_visitors_daily.columns = ['date', 'visitors_daily_b']\n",
    "# find the cummulative number of visitors per day in group B\n",
    "b_visitors_cum = b_visitors_daily.apply(lambda x: b_visitors_daily[b_visitors_daily['date'] <= x['date']]\\\n",
    "                                        .agg({'date' : 'max', 'visitors_daily_b' : 'sum'}), axis=1)\n",
    "b_visitors_cum.columns = ['date', 'visitors_cummulative_b']\n",
    "\n",
    "# calculate the number of buyers ad orders per day in group A\n",
    "a_orders_daily = orders[orders['group']=='A'][['date', 'transactionId', 'visitorId', 'revenue']]\\\n",
    "    .groupby('date', as_index=False)\\\n",
    "    .agg({'transactionId' : pd.Series.nunique, 'revenue' : 'sum'})\n",
    "a_orders_daily.columns = ['date', 'a_orders_daily', 'a_rev_per_day']\n",
    "# calculate the cummulative number of buyers ad orders per day in group A\n",
    "a_orders_cum = a_orders_daily.apply(\n",
    "    lambda x: \\\n",
    "        a_orders_daily[a_orders_daily['date'] <= x['date']]\\\n",
    "            .agg({\n",
    "                'date' : 'max',\n",
    "                'a_orders_daily' : 'sum',\n",
    "                'a_rev_per_day' : 'sum'}), axis=1).sort_values(by=['date'])\n",
    "a_orders_cum.columns = ['date', 'a_orders_cum', 'a_rev_cum']\n",
    "\n",
    "# calculate the number of buyers ad orders per day in group B\n",
    "b_orders_daily = orders[orders['group']=='B'][['date', 'transactionId', 'visitorId', 'revenue']]\\\n",
    "    .groupby('date', as_index=False)\\\n",
    "    .agg({'transactionId' : pd.Series.nunique, 'revenue' : 'sum'})\n",
    "b_orders_daily.columns = ['date', 'b_orders_daily', 'b_rev_per_day']\n",
    "# calculate the cummulative number of buyers ad orders per day in group B\n",
    "b_orders_cum = b_orders_daily.apply(\n",
    "    lambda x: \\\n",
    "        b_orders_daily[b_orders_daily['date'] <= x['date']]\\\n",
    "            .agg({\n",
    "                'date' : 'max',\n",
    "                'b_orders_daily' : 'sum',\n",
    "                'b_rev_per_day' : 'sum'}), axis=1).sort_values(by=['date'])\n",
    "b_orders_cum.columns = ['date', 'b_orders_cum', 'b_rev_cum']\n",
    "\n",
    "# merge the data into one table\n",
    "data = a_orders_daily.merge(b_orders_daily, left_on='date', right_on='date', how='left')\\\n",
    "    .merge(a_orders_cum, left_on='date', right_on='date', how='left')\\\n",
    "    .merge(b_orders_cum, left_on='date', right_on='date', how='left')\\\n",
    "    .merge(a_visitors_daily, left_on='date', right_on='date', how='left')\\\n",
    "    .merge(b_visitors_daily, left_on='date', right_on='date', how='left')\\\n",
    "    .merge(a_visitors_cum, left_on='date', right_on='date', how='left')\\\n",
    "    .merge(b_visitors_cum, left_on='date', right_on='date', how='left')\n",
    "\n",
    "data.head(5)"
   ]
  },
  {
   "cell_type": "code",
   "execution_count": 45,
   "metadata": {},
   "outputs": [],
   "source": [
    "# Create tables with users that made at least 1 order, and total number of their orders, separately for goups A and B\n",
    "ordersByUsersA = orders[orders['group']=='A'].groupby('visitorId', as_index=False).agg({'transactionId':'nunique'})\n",
    "ordersByUsersA.columns = ['userId', 'orders']\n",
    "\n",
    "ordersByUsersB = orders[orders['group']=='B'].groupby('visitorId', as_index=False).agg({'transactionId':'nunique'})\n",
    "ordersByUsersB.columns = ['userId', 'orders']\n",
    "\n",
    "# Create variables sampleA and sampleB, where users from different groups have respective orders number\n",
    "sampleA = pd.concat([ordersByUsersA['orders'],\n",
    "                     pd.Series(0, index=np.arange(data['visitors_daily_a'].sum() - len(ordersByUsersA['orders'])), \n",
    "                               name='orders')],axis=0)\n",
    "\n",
    "sampleB = pd.concat([ordersByUsersB['orders'],\n",
    "                     pd.Series(0, index=np.arange(data['visitors_daily_b'].sum() - len(ordersByUsersB['orders'])), \n",
    "                               name='orders')],axis=0)"
   ]
  },
  {
   "cell_type": "code",
   "execution_count": 48,
   "metadata": {},
   "outputs": [
    {
     "name": "stdout",
     "output_type": "stream",
     "text": [
      "p-value: 0.008\n",
      "H0 of no statistical difference in the two groups conversions is rejected. The difference of the groups results is statistically significant.\n",
      "Relative increase of conversion in group B: 14%\n"
     ]
    }
   ],
   "source": [
    "# Test the hypothesis\n",
    "# H0: the two groups' conversions do not differ\n",
    "# H1: the two groups' conversions are statistically different\n",
    "\n",
    "# calculate p-value using Mann-Whitney test \n",
    "p_value = stats.mannwhitneyu(sampleA, sampleB)[1]\n",
    "print('p-value:',\"{0:.3f}\".format(p_value))\n",
    "\n",
    "# print the hypothesis test outcome\n",
    "if p_value > 0.05:\n",
    "    print('H0 (there is no statistical difference in the two groups conversions) cannot be rejected.')\n",
    "else:\n",
    "    print('H0 of no statistical difference in the two groups conversions is rejected. \\\n",
    "The difference of the groups results is statistically significant.')\n",
    "    \n",
    "# Print the relative increase of conversion in group B:\n",
    "print('Relative increase of conversion rate in group B:',\"{0:.0%}\".format(sampleB.mean()/sampleA.mean()-1))"
   ]
  },
  {
   "cell_type": "markdown",
   "metadata": {},
   "source": [
    "If calculated using raw data (with outliers), there is a statistically significant difference between the two groups conversions. Group B conversion is 14% higher."
   ]
  },
  {
   "cell_type": "code",
   "execution_count": 51,
   "metadata": {},
   "outputs": [
    {
     "name": "stdout",
     "output_type": "stream",
     "text": [
      "p-value: 0.365\n",
      "H0 (there is no statistical difference in the two groups average revenue per order) cannot be rejected.\n",
      "Relative difference between the two groups average revenue per order: 26%.\n"
     ]
    }
   ],
   "source": [
    "# Test statistical significance of difference in average revenue per order of the two groups using raw data\n",
    "\n",
    "# calculate p-value using Mann-Whitney test \n",
    "p_value_rev = stats.mannwhitneyu(orders[orders['group']=='A']['revenue'], orders[orders['group']=='B']['revenue'])[1]\n",
    "print('p-value: {0:.3f}'.format(p_value_rev))\n",
    "\n",
    "# calculate revenue difference between the two groups\n",
    "revenue_difference = orders[orders['group']=='B']['revenue'].mean()/orders[orders['group']=='A']['revenue'].mean()-1\n",
    "\n",
    "# print the hypothesis test outcome\n",
    "if p_value_rev > 0.05:\n",
    "    print('H0 (there is no statistical difference in the two groups average revenue per order) cannot be rejected.')\n",
    "else:\n",
    "    print('H0 of no statistical difference in the two groups metrics is rejected.')\n",
    "    \n",
    "print('Relative difference between the two groups average revenue per order: {0:.0%}.'.format(revenue_difference))"
   ]
  },
  {
   "cell_type": "markdown",
   "metadata": {},
   "source": [
    "If calculated using raw data, there is no statistically significant difference between the two groups revenues per order.  \n",
    "Group B RPO is 26% higher."
   ]
  },
  {
   "cell_type": "code",
   "execution_count": 52,
   "metadata": {},
   "outputs": [
    {
     "name": "stdout",
     "output_type": "stream",
     "text": [
      "Number of anomalies: 74\n"
     ]
    }
   ],
   "source": [
    "# Earlier we defined users who made 3+ orders or ordered for more than 28,000 RUB as anomalies.\n",
    "# Create a sample of those users:\n",
    "abnormal_orders_number = pd.concat([ordersByUsersA[ordersByUsersA['orders'] >= 3]['userId'], \n",
    "                                 ordersByUsersB[ordersByUsersB['orders'] >= 3]['userId']], axis = 0)\n",
    "abnormal_orders_value = orders[orders['revenue'] > 28000]['visitorId']\n",
    "abnormal_users = pd.concat([abnormal_orders_number, abnormal_orders_value], axis = 0).drop_duplicates().sort_values()\n",
    "print('Number of anomalies:', len(abnormal_users)) # count such users"
   ]
  },
  {
   "cell_type": "code",
   "execution_count": 55,
   "metadata": {},
   "outputs": [
    {
     "name": "stdout",
     "output_type": "stream",
     "text": [
      "P-value: 0.007\n",
      "H0 of no statistical difference in the two groups conversions is rejected. The difference of the groups results is statistically significant.\n",
      "Relative increase of conversion rate in group B (using filtered data): 17%.\n"
     ]
    }
   ],
   "source": [
    "# Let's see how anomalies impacted the test results - \n",
    "# calculate statistical significance of differences in conversion rates of the two groups, using filtered data.\n",
    "\n",
    "# First, prepare samples of number of orders per user by test groups:\n",
    "sampleAFiltered = pd.concat([ordersByUsersA[np.logical_not(ordersByUsersA['userId'].isin(abnormal_users))]['orders'],\n",
    "                             pd.Series(0, index=np.arange(data['visitors_daily_a'].sum() \\\n",
    "                                                          - len(ordersByUsersA['orders'])),name='orders')],axis=0)\n",
    "\n",
    "sampleBFiltered = pd.concat([ordersByUsersB[np.logical_not(ordersByUsersB['userId'].isin(abnormal_users))]['orders'],\n",
    "                             pd.Series(0, index=np.arange(data['visitors_daily_b'].sum() \\\n",
    "                                                          - len(ordersByUsersB['orders'])),name='orders')],axis=0)\n",
    "\n",
    "# Applu Mann-Whitney test to these samples:\n",
    "p_value_filtered_conv = stats.mannwhitneyu(sampleAFiltered, sampleBFiltered)[1]\n",
    "print(\"P-value: {0:.3f}\".format(p_value_filtered_conv))\n",
    "\n",
    "if p_value_filtered_conv > 0.05:\n",
    "    print('H0 (there is no statistical difference in the two groups conversions) cannot be rejected.')\n",
    "else:\n",
    "    print('H0 of no statistical difference in the two groups conversions is rejected. \\\n",
    "The difference of the groups results is statistically significant.')\n",
    "    \n",
    "print(\"Relative increase of conversion rate in group B (using filtered data): {0:.0%}.\"\\\n",
    "      .format(sampleBFiltered.mean()/sampleAFiltered.mean()-1))"
   ]
  },
  {
   "cell_type": "markdown",
   "metadata": {},
   "source": [
    "Both raw and filtered (of outliers) data show statistically significant differences.  \n",
    "Calculated using filtered data, conversion rates difference is 17% (while it is 14% in raw data, this is the impact of the outliers)."
   ]
  },
  {
   "cell_type": "code",
   "execution_count": 56,
   "metadata": {},
   "outputs": [
    {
     "name": "stdout",
     "output_type": "stream",
     "text": [
      "P-value: 0.369\n",
      "H0 (there is no statistical difference in the two groups average revenue per order) cannot be rejected.\n",
      "Relative difference between the two groups average revenue per order (using filtered data): -2%.\n"
     ]
    }
   ],
   "source": [
    "# Test statistical significance of difference in average revenue per order of the two groups using filtered data\n",
    "p_value_rev_filtered = stats.mannwhitneyu(\n",
    "    orders[np.logical_and(\n",
    "        orders['group']=='A',\n",
    "        np.logical_not(orders['visitorId'].isin(abnormal_users)))]['revenue'],\n",
    "    orders[np.logical_and(\n",
    "        orders['group']=='B',\n",
    "        np.logical_not(orders['visitorId'].isin(abnormal_users)))]['revenue'])[1]\n",
    "\n",
    "revenue_difference_filtered = orders[np.logical_and(orders['group']=='B',\n",
    "                          np.logical_not(orders['visitorId'].isin(abnormal_users)))]['revenue'].mean()/\\\n",
    "    orders[np.logical_and(\n",
    "        orders['group']=='A',\n",
    "        np.logical_not(orders['visitorId'].isin(abnormal_users)))]['revenue'].mean() - 1\n",
    "    \n",
    "print(\"P-value: {0:.3f}\".format(p_value_rev_filtered))\n",
    "\n",
    "if p_value_rev_filtered > 0.05:\n",
    "    print('H0 (there is no statistical difference in the two groups average revenue per order) cannot be rejected.')\n",
    "else:\n",
    "    print('H0 of no statistical difference in the two groups metrics is rejected.')\n",
    "    \n",
    "print(\"Relative difference between the two groups average revenue per order (using filtered data): {0:.0%}.\".format(revenue_difference_filtered))"
   ]
  },
  {
   "cell_type": "markdown",
   "metadata": {},
   "source": [
    "\n",
    "Neither raw, nor filtered data showed statistically significant differences in average revnue per order.  \n",
    "However, calculated using filtered data, average revenue per order in group A is 2% higher than in group B.  \n",
    "This metric was quite the opposite while calculated using raw data - average revenue per order in group B was 26% higher than in group A. This demonstrates how anomalies impact test results."
   ]
  },
  {
   "cell_type": "markdown",
   "metadata": {},
   "source": [
    "#### The test result based decision\n",
    "Facts on hands:\n",
    "- Both raw and filtered (of outliers) data show statistically significant differences in groups conversion rates. Calculated using filtered data, conversion rates difference is 17% (while it is 14% in raw data, this is the impact of the outliers) in favour of B group.  \n",
    "- Neither raw, nor filtered data showed statistically significant differences in average revnue per order. Calculated using filtered data, average revenue per order in group A is 2% higher than in group B (calculated using raw data - this metric in group B was 26% higher than in group A). This demonstrates how anomalies impact test results.\n",
    "\n",
    "**The recommended decision is to stop the test and declare the win of group B by conversion rate metric.**"
   ]
  },
  {
   "cell_type": "markdown",
   "metadata": {},
   "source": [
    "<a name='conclusion'></a>\n",
    "## 4. Overall Conclusion  \n",
    "#### [back to navigation](#back) "
   ]
  },
  {
   "cell_type": "markdown",
   "metadata": {},
   "source": [
    "### Hypothesis Prioritisation\n",
    "We used ICE and RICE frameworks to evaluate hypothesis and picked two most promising:  \n",
    "**- Add a sign in form to all basic pages to build customers database for e-mail campaigns**;\n",
    "**- Add two new traffic aquisition channels to attract 30% more users**.\n",
    "\n",
    "\n",
    "\n",
    "---\n",
    "### A/B Test Results Analysis\n",
    "Also, we analysed the results of A/B test that was run on e-store visitors from the 1st to 16th of August.  \n",
    "\n",
    "**Revenue** was growing roughly steadily in both test groups throughout the testing period.  \n",
    "Afer August 3rd, cummulative **revenue of group B exceeded that of group A**.  \n",
    "By August 7th, the metrics got equal due to the leap of August 6-7th in group A. Nonetheless, after that there were sharp increases of revenue in group B (especially on August 9th) that secured group B revenue surpass. That can indicate either an increase in orders number, or appearence of significantly expensive orders in the sample. *Such anomalies can impact the test result, so we studied them separately*.\n",
    "\n",
    "**Average revenue per order** was flactuating and growing until August 7-8th.  \n",
    "For group A average revenue per order stablised after August 7th at the level of around 7,000 RUB, later flactuations are relatively weak.  \n",
    "On the 9th of August there was a sharp increase of the metric in group B. Afterwards, it started going down, however the commulative metric remained higher than that of group A. It is possible that there were large orders in group B that day. In that case, group B needs more data for its average revenue per order to get to its real value and stablise at that level.  \n",
    "By August 16th, **average revenue per order in group B was higher than in group A**.   \n",
    "\n",
    "Relative change of cummulative average revenue per order was in favour of group B starting from day 2. However, the period betwen August 5th and 9th was an exception from that trend.\n",
    "Again, we can see the *leap in revenue of August 9th*.\n",
    "\n",
    "**Conversion** metrics flactuated for both groups at the start of the test, but after August the 5th the flactuations became less significant.  \n",
    "Group A conversion rate went down and stablised at the level between 2.9% and 3.1%.  \n",
    "**Group B conversion rate** had larger range - from 3.3% to 3.6% - while **remaining higher than that of group A**.  \n",
    "At the beginning of the test, group B was loosing to group A, but then it exceeded. Later on its conversion fell again, but the flactuations were less significant.  \n",
    "\n",
    "We defined **borders of anomalies** by analysing number of orders per user and orders values.  \n",
    "**More than 2 orders per user and orders valued more than 28,00 RUB** can be considered **artefacts**. Such cases make less than 5%. The number of anomalies is 74.  \n",
    "\n",
    "We used Mann-Whitney stat test to metrics calculated of raw and filtered (of anomalies) data.  \n",
    "- Both raw and filtered data show statistically significant differences between groups conversion rates. Calculated using filtered data, conversion rates difference is 17% (while it is 14% in raw data, this is the impact of the outliers) in favour of B group.  \n",
    "- Neither raw, nor filtered data showed statistically significant differences in average revnue per order. Calculated using filtered data, average revenue per order in group A is 2% higher than in group B (calculated using raw data - this metric in group B was 26% higher than in group A).  \n",
    "\n",
    "Nevertheless, conversion rate in group B is definately higher than that of group A. While no statically significant difference is found between the two groups for the second metric - average revenue per oder.  \n",
    "Considering the revealed facts, **the recommended decision is to stop the test and declare the win of group B by conversion rate metric**."
   ]
  }
 ],
 "metadata": {
  "kernelspec": {
   "display_name": "Python 3",
   "language": "python",
   "name": "python3"
  },
  "language_info": {
   "codemirror_mode": {
    "name": "ipython",
    "version": 3
   },
   "file_extension": ".py",
   "mimetype": "text/x-python",
   "name": "python",
   "nbconvert_exporter": "python",
   "pygments_lexer": "ipython3",
   "version": "3.7.4"
  }
 },
 "nbformat": 4,
 "nbformat_minor": 2
}
